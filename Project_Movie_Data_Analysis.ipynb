{
 "cells": [
  {
   "cell_type": "markdown",
   "metadata": {},
   "source": [
    "# Movie Data Analysis"
   ]
  },
  {
   "cell_type": "markdown",
   "metadata": {},
   "source": [
    "## Introduction\n",
    "\n",
    "The following work serves to analyse the data of more than 10,000 movies. The first part of this project will focus on data wrangling to clean up the data and subsequently perform an analysis with the cleaned up data. The second analysis will focus on studying different trends and correlations so that tentative conclusions can be made. Assumptions will clearly be stated and by no means are the conclusions of this work definitive but more so speculative as no rigorous statistical analysis will be performed. The project will present tentative relations between different sets of data and the reader is encouraged to use their own critical approach to these conclusions\n",
    "\n",
    "1. What genre of movie is popular year to year?\n",
    "    - Has there been more votes in recent years compared to early years?\n",
    "    - Does the level of popularity change over time?\n",
    "    - Is there a relationship between vote count and popularity?\n",
    "    - Does a movie that's more popular mean a better average vote for a given movie?\n",
    "2. How does \"money\" interact with various parameters?\n",
    "    - Are movies with higher budgets more popular? \n",
    "    - Does a higher budget mean higher revenue? Does more popularity mean more revenue?\n",
    "    - Do higher budget command better ROIs? Do popular movie command better ROIs?\n",
    "    - Which movie genres have the highest/lowest budget/revenue?\n",
    "    - Which movie genres have the best \"return on investment\" or ROI?\n",
    "    - Impact of grouped popularity and budget on ROI?\n",
    "3. Which production company produces the most movies?\n",
    "    - With grouped production companies, is there a correlation between average vote and popularity?\n",
    "    - With grouped production companies, is there a correlation between popularity / average vote and ROI?\n",
    "    - Which production companies have the biggest budget/ROI? \n",
    "    - Which production companies have the best ROI?\n",
    "4. Do certain Directors command higher budgets?\n"
   ]
  },
  {
   "cell_type": "markdown",
   "metadata": {},
   "source": [
    "## Data Wrangling"
   ]
  },
  {
   "cell_type": "markdown",
   "metadata": {},
   "source": [
    "The first step to any projects of this sort is to import two main libraries irrespective if they are used or not which are _numpy_ and _pandas_. Additional libraries will be added as per need."
   ]
  },
  {
   "cell_type": "code",
   "execution_count": 1,
   "metadata": {
    "collapsed": true
   },
   "outputs": [],
   "source": [
    "# Import numpy should we use numpy related built-in functions. np is the common abbreviation\n",
    "import numpy as np\n",
    "\n",
    "# Import pandas should we use pandas related built-in functions. pd is the common abbreviation\n",
    "import pandas as pd"
   ]
  },
  {
   "cell_type": "markdown",
   "metadata": {},
   "source": [
    "This project should probably also import the file that contains all the data. For ease and convenience due to the nature of this work, the project will be imported in a Dataframe format."
   ]
  },
  {
   "cell_type": "code",
   "execution_count": 182,
   "metadata": {},
   "outputs": [],
   "source": [
    "# Import the tmdb-movies.csv file in a pandas dataframe and read only pd\n",
    "\n",
    "movie_data_base_df=pd.DataFrame.from_csv('/users/modafro/tmdb-movies.csv')"
   ]
  },
  {
   "cell_type": "code",
   "execution_count": 183,
   "metadata": {},
   "outputs": [
    {
     "name": "stdout",
     "output_type": "stream",
     "text": [
      "The original data has a total of 10866 movies. One should expect this number to be reduced after the data wrangling\n"
     ]
    }
   ],
   "source": [
    "print (\"The original data has a total of {} movies. One should expect this number to be reduced after the data wrangling\".format(len(movie_data_base_df)))"
   ]
  },
  {
   "cell_type": "markdown",
   "metadata": {},
   "source": [
    "The first step is to lighten the data. For the purpose of our analysis, the following data will not be utilized:\n",
    "- tagline\n",
    "- keywords\n",
    "- homepage\n",
    "- overview\n",
    "\n",
    "The other columns that won't be needed are the __budget__ and __revenue__ columns. The assumption made is that the adjusted budget and revenue data to account for inflation are much more relevant for comparison purposes between different movies of different release dates. It allows comparison to be made on the _same level playing field_. This is not to say that the data deleted can't be used for meaningful analysis, it simply won't be used in this project.\n",
    "\n",
    "The wrangling will also ascertain that there are no duplicate values in the dataframe."
   ]
  },
  {
   "cell_type": "code",
   "execution_count": 184,
   "metadata": {},
   "outputs": [
    {
     "data": {
      "text/html": [
       "<div>\n",
       "<style>\n",
       "    .dataframe thead tr:only-child th {\n",
       "        text-align: right;\n",
       "    }\n",
       "\n",
       "    .dataframe thead th {\n",
       "        text-align: left;\n",
       "    }\n",
       "\n",
       "    .dataframe tbody tr th {\n",
       "        vertical-align: top;\n",
       "    }\n",
       "</style>\n",
       "<table border=\"1\" class=\"dataframe\">\n",
       "  <thead>\n",
       "    <tr style=\"text-align: right;\">\n",
       "      <th></th>\n",
       "      <th>imdb_id</th>\n",
       "      <th>popularity</th>\n",
       "      <th>budget</th>\n",
       "      <th>revenue</th>\n",
       "      <th>original_title</th>\n",
       "      <th>cast</th>\n",
       "      <th>homepage</th>\n",
       "      <th>director</th>\n",
       "      <th>tagline</th>\n",
       "      <th>keywords</th>\n",
       "      <th>overview</th>\n",
       "      <th>runtime</th>\n",
       "      <th>genres</th>\n",
       "      <th>production_companies</th>\n",
       "      <th>release_date</th>\n",
       "      <th>vote_count</th>\n",
       "      <th>vote_average</th>\n",
       "      <th>release_year</th>\n",
       "      <th>budget_adj</th>\n",
       "      <th>revenue_adj</th>\n",
       "    </tr>\n",
       "    <tr>\n",
       "      <th>id</th>\n",
       "      <th></th>\n",
       "      <th></th>\n",
       "      <th></th>\n",
       "      <th></th>\n",
       "      <th></th>\n",
       "      <th></th>\n",
       "      <th></th>\n",
       "      <th></th>\n",
       "      <th></th>\n",
       "      <th></th>\n",
       "      <th></th>\n",
       "      <th></th>\n",
       "      <th></th>\n",
       "      <th></th>\n",
       "      <th></th>\n",
       "      <th></th>\n",
       "      <th></th>\n",
       "      <th></th>\n",
       "      <th></th>\n",
       "      <th></th>\n",
       "    </tr>\n",
       "  </thead>\n",
       "  <tbody>\n",
       "    <tr>\n",
       "      <th>42194</th>\n",
       "      <td>tt0411951</td>\n",
       "      <td>0.59643</td>\n",
       "      <td>30000000</td>\n",
       "      <td>967000</td>\n",
       "      <td>TEKKEN</td>\n",
       "      <td>Jon Foo|Kelly Overton|Cary-Hiroyuki Tagawa|Ian...</td>\n",
       "      <td>NaN</td>\n",
       "      <td>Dwight H. Little</td>\n",
       "      <td>Survival is no game</td>\n",
       "      <td>martial arts|dystopia|based on video game|mart...</td>\n",
       "      <td>In the year of 2039, after World Wars destroy ...</td>\n",
       "      <td>92</td>\n",
       "      <td>Crime|Drama|Action|Thriller|Science Fiction</td>\n",
       "      <td>Namco|Light Song Films</td>\n",
       "      <td>3/20/10</td>\n",
       "      <td>110</td>\n",
       "      <td>5.0</td>\n",
       "      <td>2010</td>\n",
       "      <td>30000000.0</td>\n",
       "      <td>967000.0</td>\n",
       "    </tr>\n",
       "    <tr>\n",
       "      <th>42194</th>\n",
       "      <td>tt0411951</td>\n",
       "      <td>0.59643</td>\n",
       "      <td>30000000</td>\n",
       "      <td>967000</td>\n",
       "      <td>TEKKEN</td>\n",
       "      <td>Jon Foo|Kelly Overton|Cary-Hiroyuki Tagawa|Ian...</td>\n",
       "      <td>NaN</td>\n",
       "      <td>Dwight H. Little</td>\n",
       "      <td>Survival is no game</td>\n",
       "      <td>martial arts|dystopia|based on video game|mart...</td>\n",
       "      <td>In the year of 2039, after World Wars destroy ...</td>\n",
       "      <td>92</td>\n",
       "      <td>Crime|Drama|Action|Thriller|Science Fiction</td>\n",
       "      <td>Namco|Light Song Films</td>\n",
       "      <td>3/20/10</td>\n",
       "      <td>110</td>\n",
       "      <td>5.0</td>\n",
       "      <td>2010</td>\n",
       "      <td>30000000.0</td>\n",
       "      <td>967000.0</td>\n",
       "    </tr>\n",
       "  </tbody>\n",
       "</table>\n",
       "</div>"
      ],
      "text/plain": [
       "         imdb_id  popularity    budget  revenue original_title  \\\n",
       "id                                                               \n",
       "42194  tt0411951     0.59643  30000000   967000         TEKKEN   \n",
       "42194  tt0411951     0.59643  30000000   967000         TEKKEN   \n",
       "\n",
       "                                                    cast homepage  \\\n",
       "id                                                                  \n",
       "42194  Jon Foo|Kelly Overton|Cary-Hiroyuki Tagawa|Ian...      NaN   \n",
       "42194  Jon Foo|Kelly Overton|Cary-Hiroyuki Tagawa|Ian...      NaN   \n",
       "\n",
       "               director              tagline  \\\n",
       "id                                             \n",
       "42194  Dwight H. Little  Survival is no game   \n",
       "42194  Dwight H. Little  Survival is no game   \n",
       "\n",
       "                                                keywords  \\\n",
       "id                                                         \n",
       "42194  martial arts|dystopia|based on video game|mart...   \n",
       "42194  martial arts|dystopia|based on video game|mart...   \n",
       "\n",
       "                                                overview  runtime  \\\n",
       "id                                                                  \n",
       "42194  In the year of 2039, after World Wars destroy ...       92   \n",
       "42194  In the year of 2039, after World Wars destroy ...       92   \n",
       "\n",
       "                                            genres    production_companies  \\\n",
       "id                                                                           \n",
       "42194  Crime|Drama|Action|Thriller|Science Fiction  Namco|Light Song Films   \n",
       "42194  Crime|Drama|Action|Thriller|Science Fiction  Namco|Light Song Films   \n",
       "\n",
       "      release_date  vote_count  vote_average  release_year  budget_adj  \\\n",
       "id                                                                       \n",
       "42194      3/20/10         110           5.0          2010  30000000.0   \n",
       "42194      3/20/10         110           5.0          2010  30000000.0   \n",
       "\n",
       "       revenue_adj  \n",
       "id                  \n",
       "42194     967000.0  \n",
       "42194     967000.0  "
      ]
     },
     "execution_count": 184,
     "metadata": {},
     "output_type": "execute_result"
    }
   ],
   "source": [
    "#Verify duplicates in Dataframe\n",
    "\n",
    "movie_data_base_df[movie_data_base_df.duplicated(keep=False)]"
   ]
  },
  {
   "cell_type": "markdown",
   "metadata": {},
   "source": [
    "As shown in the table above, TEKKEN movie appears twice in the table so one of the two entries will be removed from the dataframe."
   ]
  },
  {
   "cell_type": "code",
   "execution_count": 185,
   "metadata": {
    "collapsed": true
   },
   "outputs": [],
   "source": [
    "# drop one duplicated row\n",
    "\n",
    "movie_data_base_dfDup=movie_data_base_df.drop_duplicates(subset=['imdb_id','popularity'])                                                     "
   ]
  },
  {
   "cell_type": "code",
   "execution_count": 186,
   "metadata": {
    "collapsed": true
   },
   "outputs": [],
   "source": [
    "# Define a function to delete unwanted columns from a given dataframe that takes in a dataframe and a string or list of strings \n",
    "# of the columns to be deleted as inputs and returns a dataframe without these columns\n",
    "\n",
    "def delete_columns(data_frame, deleted_column):\n",
    "    lighter_df=data_frame.drop(deleted_column, axis=1)\n",
    "    return lighter_df"
   ]
  },
  {
   "cell_type": "code",
   "execution_count": 187,
   "metadata": {
    "collapsed": true
   },
   "outputs": [],
   "source": [
    "# Apply delete_columns function to delete unwanted columns\n",
    "\n",
    "movie_data_base_dfLighters=delete_columns(movie_data_base_dfDup, ['budget', 'revenue','homepage','tagline','keywords','overview'])"
   ]
  },
  {
   "cell_type": "markdown",
   "metadata": {},
   "source": [
    "Next, any numerical data that has a value of 0 will entrain the row containing 0 to be deleted. The assumption is that a 0 in such data will be regarded as unreliable data and the requirement for our analysis is that we have a full picture devoid of any discrepancies. One could argue that a revenue of 0 is possible however, the assumption is that the revenue values are net values (i.e.: after all expenses are deducted) and one can reasonably assume that an absolute value of exactly 0 is highly improbable. "
   ]
  },
  {
   "cell_type": "code",
   "execution_count": 188,
   "metadata": {
    "collapsed": true
   },
   "outputs": [],
   "source": [
    "# Deletion of rows that have a value of zero in any columns with numbers\n",
    "movie_data_base_dfLighter=movie_data_base_dfLighters[(movie_data_base_dfLighters[['runtime','budget_adj',\n",
    "                                                                                  'revenue_adj']] != 0).all(axis=1)]"
   ]
  },
  {
   "cell_type": "markdown",
   "metadata": {},
   "source": [
    "Another verification that is required with such a large data is to ascertain that there are no \"empty\" cells. Any empty cells will be replaced by a string to ease potential error messages further into our analysis."
   ]
  },
  {
   "cell_type": "code",
   "execution_count": 189,
   "metadata": {
    "collapsed": true
   },
   "outputs": [],
   "source": [
    "# define a function that takes in a dataframe as argument and replace empty cells with the string \"No Data\"\n",
    "\n",
    "def replace_EmptyWithNoData(data_emptycells):\n",
    "    data_filledWithNoData=data_emptycells.fillna(\"No Data\")\n",
    "    return data_filledWithNoData\n"
   ]
  },
  {
   "cell_type": "code",
   "execution_count": 190,
   "metadata": {
    "collapsed": true
   },
   "outputs": [],
   "source": [
    "# Apply function on latest dataframe\n",
    "\n",
    "movie_data_base_dfClean=replace_EmptyWithNoData(movie_data_base_dfLighter)"
   ]
  },
  {
   "cell_type": "markdown",
   "metadata": {},
   "source": [
    "A few columns have pipe characters (|) such as _cast_ or _production companies_. In order for analysis to be made on these columns, we will remove these pipe characters to create a list of strings within those columns."
   ]
  },
  {
   "cell_type": "code",
   "execution_count": 191,
   "metadata": {
    "collapsed": true
   },
   "outputs": [],
   "source": [
    "# create a dataframe with columns that contain pipe characters.\n",
    "\n",
    "pipe_characters_df=movie_data_base_dfClean.filter(['director','cast', 'genres','production_companies'], axis=1) "
   ]
  },
  {
   "cell_type": "code",
   "execution_count": 192,
   "metadata": {
    "collapsed": true
   },
   "outputs": [],
   "source": [
    "# Define a function to separate the pipe characters that takes in a string with pipe characters as an argument and \n",
    "# returns a series of string (pipe characters separated)\n",
    "\n",
    "def split_pipe(movie_data):\n",
    "    words_splited=movie_data.split(\"|\")\n",
    "    return words_splited\n",
    "\n",
    "# write a function to apply the split_pipe function on the dataframe that contains all the columns with pipe characters:\n",
    "\n",
    "def split_pipes(movie_datas):\n",
    "    return movie_datas.applymap(split_pipe)"
   ]
  },
  {
   "cell_type": "code",
   "execution_count": 193,
   "metadata": {},
   "outputs": [
    {
     "name": "stdout",
     "output_type": "stream",
     "text": [
      "Sample of the dataframe with split characters removed:\n"
     ]
    },
    {
     "data": {
      "text/html": [
       "<div>\n",
       "<style>\n",
       "    .dataframe thead tr:only-child th {\n",
       "        text-align: right;\n",
       "    }\n",
       "\n",
       "    .dataframe thead th {\n",
       "        text-align: left;\n",
       "    }\n",
       "\n",
       "    .dataframe tbody tr th {\n",
       "        vertical-align: top;\n",
       "    }\n",
       "</style>\n",
       "<table border=\"1\" class=\"dataframe\">\n",
       "  <thead>\n",
       "    <tr style=\"text-align: right;\">\n",
       "      <th></th>\n",
       "      <th>director</th>\n",
       "      <th>cast</th>\n",
       "      <th>genres</th>\n",
       "      <th>production_companies</th>\n",
       "    </tr>\n",
       "    <tr>\n",
       "      <th>id</th>\n",
       "      <th></th>\n",
       "      <th></th>\n",
       "      <th></th>\n",
       "      <th></th>\n",
       "    </tr>\n",
       "  </thead>\n",
       "  <tbody>\n",
       "    <tr>\n",
       "      <th>135397</th>\n",
       "      <td>[Colin Trevorrow]</td>\n",
       "      <td>[Chris Pratt, Bryce Dallas Howard, Irrfan Khan...</td>\n",
       "      <td>[Action, Adventure, Science Fiction, Thriller]</td>\n",
       "      <td>[Universal Studios, Amblin Entertainment, Lege...</td>\n",
       "    </tr>\n",
       "    <tr>\n",
       "      <th>76341</th>\n",
       "      <td>[George Miller]</td>\n",
       "      <td>[Tom Hardy, Charlize Theron, Hugh Keays-Byrne,...</td>\n",
       "      <td>[Action, Adventure, Science Fiction, Thriller]</td>\n",
       "      <td>[Village Roadshow Pictures, Kennedy Miller Pro...</td>\n",
       "    </tr>\n",
       "    <tr>\n",
       "      <th>262500</th>\n",
       "      <td>[Robert Schwentke]</td>\n",
       "      <td>[Shailene Woodley, Theo James, Kate Winslet, A...</td>\n",
       "      <td>[Adventure, Science Fiction, Thriller]</td>\n",
       "      <td>[Summit Entertainment, Mandeville Films, Red W...</td>\n",
       "    </tr>\n",
       "    <tr>\n",
       "      <th>140607</th>\n",
       "      <td>[J.J. Abrams]</td>\n",
       "      <td>[Harrison Ford, Mark Hamill, Carrie Fisher, Ad...</td>\n",
       "      <td>[Action, Adventure, Science Fiction, Fantasy]</td>\n",
       "      <td>[Lucasfilm, Truenorth Productions, Bad Robot]</td>\n",
       "    </tr>\n",
       "    <tr>\n",
       "      <th>168259</th>\n",
       "      <td>[James Wan]</td>\n",
       "      <td>[Vin Diesel, Paul Walker, Jason Statham, Miche...</td>\n",
       "      <td>[Action, Crime, Thriller]</td>\n",
       "      <td>[Universal Pictures, Original Film, Media Righ...</td>\n",
       "    </tr>\n",
       "  </tbody>\n",
       "</table>\n",
       "</div>"
      ],
      "text/plain": [
       "                  director                                               cast  \\\n",
       "id                                                                              \n",
       "135397   [Colin Trevorrow]  [Chris Pratt, Bryce Dallas Howard, Irrfan Khan...   \n",
       "76341      [George Miller]  [Tom Hardy, Charlize Theron, Hugh Keays-Byrne,...   \n",
       "262500  [Robert Schwentke]  [Shailene Woodley, Theo James, Kate Winslet, A...   \n",
       "140607       [J.J. Abrams]  [Harrison Ford, Mark Hamill, Carrie Fisher, Ad...   \n",
       "168259         [James Wan]  [Vin Diesel, Paul Walker, Jason Statham, Miche...   \n",
       "\n",
       "                                                genres  \\\n",
       "id                                                       \n",
       "135397  [Action, Adventure, Science Fiction, Thriller]   \n",
       "76341   [Action, Adventure, Science Fiction, Thriller]   \n",
       "262500          [Adventure, Science Fiction, Thriller]   \n",
       "140607   [Action, Adventure, Science Fiction, Fantasy]   \n",
       "168259                       [Action, Crime, Thriller]   \n",
       "\n",
       "                                     production_companies  \n",
       "id                                                         \n",
       "135397  [Universal Studios, Amblin Entertainment, Lege...  \n",
       "76341   [Village Roadshow Pictures, Kennedy Miller Pro...  \n",
       "262500  [Summit Entertainment, Mandeville Films, Red W...  \n",
       "140607      [Lucasfilm, Truenorth Productions, Bad Robot]  \n",
       "168259  [Universal Pictures, Original Film, Media Righ...  "
      ]
     },
     "execution_count": 193,
     "metadata": {},
     "output_type": "execute_result"
    }
   ],
   "source": [
    "# Apply split_pipes on pipe character dataframe\n",
    "\n",
    "pipe_characters_dfSplit=split_pipes(pipe_characters_df)\n",
    "\n",
    "print (\"Sample of the dataframe with split characters removed:\")\n",
    "pipe_characters_dfSplit.head()"
   ]
  },
  {
   "cell_type": "markdown",
   "metadata": {},
   "source": [
    "As it can be observed in the above dataframe, there can be multiple strings under a given column for a given movie. To simplify the dataframe for analysis purposes, a dataframe containing one single \"dominant\" string, which will be the first string within a series, will be created. As an example, for id 135397,\n",
    "- the cast [Chris Pratt, Bryce Dallas Howard, Irrfan Khan...] will become [Chris Pratt] which is the first string of the list \n",
    "- the genres [Action, Adventure, Science Fiction, Thriller] will become [Action]\n",
    "- etc."
   ]
  },
  {
   "cell_type": "code",
   "execution_count": 194,
   "metadata": {
    "collapsed": true
   },
   "outputs": [],
   "source": [
    "# define a function that takes a list of strings as its argument and returns the first string of that list\n",
    "\n",
    "def dominant_value(list_value):\n",
    "    return list_value[0]\n",
    "\n",
    "# define a function to apply dominant_value to a dataframe\n",
    "\n",
    "def dominant_values(list_values):\n",
    "    return list_values.applymap(dominant_value)"
   ]
  },
  {
   "cell_type": "code",
   "execution_count": 195,
   "metadata": {},
   "outputs": [
    {
     "name": "stdout",
     "output_type": "stream",
     "text": [
      "Sample of dataframe with dominant strings only: \n"
     ]
    },
    {
     "data": {
      "text/html": [
       "<div>\n",
       "<style>\n",
       "    .dataframe thead tr:only-child th {\n",
       "        text-align: right;\n",
       "    }\n",
       "\n",
       "    .dataframe thead th {\n",
       "        text-align: left;\n",
       "    }\n",
       "\n",
       "    .dataframe tbody tr th {\n",
       "        vertical-align: top;\n",
       "    }\n",
       "</style>\n",
       "<table border=\"1\" class=\"dataframe\">\n",
       "  <thead>\n",
       "    <tr style=\"text-align: right;\">\n",
       "      <th></th>\n",
       "      <th>director</th>\n",
       "      <th>cast</th>\n",
       "      <th>genres</th>\n",
       "      <th>production_companies</th>\n",
       "    </tr>\n",
       "    <tr>\n",
       "      <th>id</th>\n",
       "      <th></th>\n",
       "      <th></th>\n",
       "      <th></th>\n",
       "      <th></th>\n",
       "    </tr>\n",
       "  </thead>\n",
       "  <tbody>\n",
       "    <tr>\n",
       "      <th>135397</th>\n",
       "      <td>Colin Trevorrow</td>\n",
       "      <td>Chris Pratt</td>\n",
       "      <td>Action</td>\n",
       "      <td>Universal Studios</td>\n",
       "    </tr>\n",
       "    <tr>\n",
       "      <th>76341</th>\n",
       "      <td>George Miller</td>\n",
       "      <td>Tom Hardy</td>\n",
       "      <td>Action</td>\n",
       "      <td>Village Roadshow Pictures</td>\n",
       "    </tr>\n",
       "    <tr>\n",
       "      <th>262500</th>\n",
       "      <td>Robert Schwentke</td>\n",
       "      <td>Shailene Woodley</td>\n",
       "      <td>Adventure</td>\n",
       "      <td>Summit Entertainment</td>\n",
       "    </tr>\n",
       "    <tr>\n",
       "      <th>140607</th>\n",
       "      <td>J.J. Abrams</td>\n",
       "      <td>Harrison Ford</td>\n",
       "      <td>Action</td>\n",
       "      <td>Lucasfilm</td>\n",
       "    </tr>\n",
       "    <tr>\n",
       "      <th>168259</th>\n",
       "      <td>James Wan</td>\n",
       "      <td>Vin Diesel</td>\n",
       "      <td>Action</td>\n",
       "      <td>Universal Pictures</td>\n",
       "    </tr>\n",
       "  </tbody>\n",
       "</table>\n",
       "</div>"
      ],
      "text/plain": [
       "                director              cast     genres  \\\n",
       "id                                                      \n",
       "135397   Colin Trevorrow       Chris Pratt     Action   \n",
       "76341      George Miller         Tom Hardy     Action   \n",
       "262500  Robert Schwentke  Shailene Woodley  Adventure   \n",
       "140607       J.J. Abrams     Harrison Ford     Action   \n",
       "168259         James Wan        Vin Diesel     Action   \n",
       "\n",
       "             production_companies  \n",
       "id                                 \n",
       "135397          Universal Studios  \n",
       "76341   Village Roadshow Pictures  \n",
       "262500       Summit Entertainment  \n",
       "140607                  Lucasfilm  \n",
       "168259         Universal Pictures  "
      ]
     },
     "execution_count": 195,
     "metadata": {},
     "output_type": "execute_result"
    }
   ],
   "source": [
    "# Apply dominant_values on the pipe character dataframe\n",
    "\n",
    "dominant_value_df=dominant_values(pipe_characters_dfSplit)\n",
    "\n",
    "print (\"Sample of dataframe with dominant strings only: \")\n",
    "dominant_value_df.head()"
   ]
  },
  {
   "cell_type": "markdown",
   "metadata": {},
   "source": [
    "In the Introduction section, we mentioned return on investment or ROI. It's a metric that measures the true value of profitability for a given movie and is defined as follows as per our assumptions:\n",
    "\n",
    "$$ROI(\\%)=\\frac{profits-budget}{budget}\\times100$$"
   ]
  },
  {
   "cell_type": "markdown",
   "metadata": {},
   "source": [
    "<center>where $revenue=profits-budget$</center>"
   ]
  },
  {
   "cell_type": "code",
   "execution_count": 196,
   "metadata": {
    "collapsed": true
   },
   "outputs": [],
   "source": [
    "# define a function a function to calculate ROI\n",
    "\n",
    "def return_investment(investment, revenue):\n",
    "    ROI=revenue/investment*100\n",
    "    return ROI"
   ]
  },
  {
   "cell_type": "code",
   "execution_count": 197,
   "metadata": {},
   "outputs": [
    {
     "name": "stdout",
     "output_type": "stream",
     "text": [
      "Sample of how the dataframe looks like thus far:\n"
     ]
    },
    {
     "data": {
      "text/html": [
       "<div>\n",
       "<style>\n",
       "    .dataframe thead tr:only-child th {\n",
       "        text-align: right;\n",
       "    }\n",
       "\n",
       "    .dataframe thead th {\n",
       "        text-align: left;\n",
       "    }\n",
       "\n",
       "    .dataframe tbody tr th {\n",
       "        vertical-align: top;\n",
       "    }\n",
       "</style>\n",
       "<table border=\"1\" class=\"dataframe\">\n",
       "  <thead>\n",
       "    <tr style=\"text-align: right;\">\n",
       "      <th></th>\n",
       "      <th>imdb_id</th>\n",
       "      <th>popularity</th>\n",
       "      <th>original_title</th>\n",
       "      <th>runtime</th>\n",
       "      <th>release_date</th>\n",
       "      <th>vote_count</th>\n",
       "      <th>vote_average</th>\n",
       "      <th>release_year</th>\n",
       "      <th>budget_adj</th>\n",
       "      <th>revenue_adj</th>\n",
       "      <th>director</th>\n",
       "      <th>cast</th>\n",
       "      <th>genres</th>\n",
       "      <th>production_companies</th>\n",
       "      <th>ROI(%)</th>\n",
       "    </tr>\n",
       "  </thead>\n",
       "  <tbody>\n",
       "    <tr>\n",
       "      <th>0</th>\n",
       "      <td>tt0369610</td>\n",
       "      <td>32.985763</td>\n",
       "      <td>Jurassic World</td>\n",
       "      <td>124</td>\n",
       "      <td>6/9/15</td>\n",
       "      <td>5562</td>\n",
       "      <td>6.5</td>\n",
       "      <td>2015</td>\n",
       "      <td>1.379999e+08</td>\n",
       "      <td>1.392446e+09</td>\n",
       "      <td>Colin Trevorrow</td>\n",
       "      <td>Chris Pratt</td>\n",
       "      <td>Action</td>\n",
       "      <td>Universal Studios</td>\n",
       "      <td>1009.019207</td>\n",
       "    </tr>\n",
       "    <tr>\n",
       "      <th>1</th>\n",
       "      <td>tt1392190</td>\n",
       "      <td>28.419936</td>\n",
       "      <td>Mad Max: Fury Road</td>\n",
       "      <td>120</td>\n",
       "      <td>5/13/15</td>\n",
       "      <td>6185</td>\n",
       "      <td>7.1</td>\n",
       "      <td>2015</td>\n",
       "      <td>1.379999e+08</td>\n",
       "      <td>3.481613e+08</td>\n",
       "      <td>George Miller</td>\n",
       "      <td>Tom Hardy</td>\n",
       "      <td>Action</td>\n",
       "      <td>Village Roadshow Pictures</td>\n",
       "      <td>252.290903</td>\n",
       "    </tr>\n",
       "    <tr>\n",
       "      <th>2</th>\n",
       "      <td>tt2908446</td>\n",
       "      <td>13.112507</td>\n",
       "      <td>Insurgent</td>\n",
       "      <td>119</td>\n",
       "      <td>3/18/15</td>\n",
       "      <td>2480</td>\n",
       "      <td>6.3</td>\n",
       "      <td>2015</td>\n",
       "      <td>1.012000e+08</td>\n",
       "      <td>2.716190e+08</td>\n",
       "      <td>Robert Schwentke</td>\n",
       "      <td>Shailene Woodley</td>\n",
       "      <td>Adventure</td>\n",
       "      <td>Summit Entertainment</td>\n",
       "      <td>268.398365</td>\n",
       "    </tr>\n",
       "    <tr>\n",
       "      <th>3</th>\n",
       "      <td>tt2488496</td>\n",
       "      <td>11.173104</td>\n",
       "      <td>Star Wars: The Force Awakens</td>\n",
       "      <td>136</td>\n",
       "      <td>12/15/15</td>\n",
       "      <td>5292</td>\n",
       "      <td>7.5</td>\n",
       "      <td>2015</td>\n",
       "      <td>1.839999e+08</td>\n",
       "      <td>1.902723e+09</td>\n",
       "      <td>J.J. Abrams</td>\n",
       "      <td>Harrison Ford</td>\n",
       "      <td>Action</td>\n",
       "      <td>Lucasfilm</td>\n",
       "      <td>1034.089113</td>\n",
       "    </tr>\n",
       "    <tr>\n",
       "      <th>4</th>\n",
       "      <td>tt2820852</td>\n",
       "      <td>9.335014</td>\n",
       "      <td>Furious 7</td>\n",
       "      <td>137</td>\n",
       "      <td>4/1/15</td>\n",
       "      <td>2947</td>\n",
       "      <td>7.3</td>\n",
       "      <td>2015</td>\n",
       "      <td>1.747999e+08</td>\n",
       "      <td>1.385749e+09</td>\n",
       "      <td>James Wan</td>\n",
       "      <td>Vin Diesel</td>\n",
       "      <td>Action</td>\n",
       "      <td>Universal Pictures</td>\n",
       "      <td>792.762821</td>\n",
       "    </tr>\n",
       "  </tbody>\n",
       "</table>\n",
       "</div>"
      ],
      "text/plain": [
       "     imdb_id  popularity                original_title  runtime release_date  \\\n",
       "0  tt0369610   32.985763                Jurassic World      124       6/9/15   \n",
       "1  tt1392190   28.419936            Mad Max: Fury Road      120      5/13/15   \n",
       "2  tt2908446   13.112507                     Insurgent      119      3/18/15   \n",
       "3  tt2488496   11.173104  Star Wars: The Force Awakens      136     12/15/15   \n",
       "4  tt2820852    9.335014                     Furious 7      137       4/1/15   \n",
       "\n",
       "   vote_count  vote_average  release_year    budget_adj   revenue_adj  \\\n",
       "0        5562           6.5          2015  1.379999e+08  1.392446e+09   \n",
       "1        6185           7.1          2015  1.379999e+08  3.481613e+08   \n",
       "2        2480           6.3          2015  1.012000e+08  2.716190e+08   \n",
       "3        5292           7.5          2015  1.839999e+08  1.902723e+09   \n",
       "4        2947           7.3          2015  1.747999e+08  1.385749e+09   \n",
       "\n",
       "           director              cast     genres       production_companies  \\\n",
       "0   Colin Trevorrow       Chris Pratt     Action          Universal Studios   \n",
       "1     George Miller         Tom Hardy     Action  Village Roadshow Pictures   \n",
       "2  Robert Schwentke  Shailene Woodley  Adventure       Summit Entertainment   \n",
       "3       J.J. Abrams     Harrison Ford     Action                  Lucasfilm   \n",
       "4         James Wan        Vin Diesel     Action         Universal Pictures   \n",
       "\n",
       "        ROI(%)  \n",
       "0  1009.019207  \n",
       "1   252.290903  \n",
       "2   268.398365  \n",
       "3  1034.089113  \n",
       "4   792.762821  "
      ]
     },
     "execution_count": 197,
     "metadata": {},
     "output_type": "execute_result"
    }
   ],
   "source": [
    "# remove the director, cast, genres, and production companies columns from dfClean and replace them with the dominant_df columns\n",
    "movie_data_base_delete=delete_columns(movie_data_base_dfClean, ['director','cast','genres','production_companies'])\n",
    "\n",
    "# merge the latest dataframe (delete) with the dominant_df dataframe\n",
    "movie_data_base_dfMerge=pd.concat([movie_data_base_delete.reset_index(drop=True), dominant_value_df.reset_index(drop=True)], axis=1)\n",
    "\n",
    "# add ROI column to the merged dataframe\n",
    "movie_data_base_dfMerge['ROI(%)']=return_investment(movie_data_base_dfMerge.loc[:,'budget_adj'], movie_data_base_dfMerge.loc[:,'revenue_adj'])\n",
    "\n",
    "print(\"Sample of how the dataframe looks like thus far:\")\n",
    "movie_data_base_dfMerge.head()"
   ]
  },
  {
   "cell_type": "markdown",
   "metadata": {},
   "source": [
    "We previously replaced all blank values with \"No Data\". In the spirit of consistency based on this project's approach, any movie that has a \"No Data\" value will be viewed as imcomplete data and therefore not admissible for the analysis portion. "
   ]
  },
  {
   "cell_type": "code",
   "execution_count": 198,
   "metadata": {
    "collapsed": true
   },
   "outputs": [],
   "source": [
    "# define a function to remove rows that contain \"No Data\" which will take in as argument a dataframe and a string or list of\n",
    "# strings as arguments and returns the dataframe without the rows containing \"No Data\"\n",
    "\n",
    "def removing_NoData(nodata_df, column_head):\n",
    "    for head in column_head:\n",
    "        NoData_Dataframe=nodata_df[nodata_df[head].str.contains(\"No Data\")==False]\n",
    "    return NoData_Dataframe\n",
    "\n",
    "NoData_df=removing_NoData(movie_data_base_dfMerge, ['director','cast','genres','production_companies'])"
   ]
  },
  {
   "cell_type": "markdown",
   "metadata": {},
   "source": [
    "The last phase of the data wrangling is to establish minimum values for some of the data that will be considered for our analysis. These are _personal_ preferences and not official guidelines:\n",
    "- runtime: minimum 2 min\n",
    "- vote_count: minimum 10 counts\n",
    "- budget_adj: minimum \\$10,000\n"
   ]
  },
  {
   "cell_type": "code",
   "execution_count": 199,
   "metadata": {
    "collapsed": true
   },
   "outputs": [],
   "source": [
    "# define function a function that takes as arguments a dataframe, a string and a minimum number (integer or float) and returns \n",
    "# the dataframe containing data with values respecting the boolean setting\n",
    "\n",
    "def set_minimum(MinData_df, Head, MinValue):\n",
    "    Data_Min=MinData_df[MinData_df[Head]>MinValue]\n",
    "    return Data_Min"
   ]
  },
  {
   "cell_type": "code",
   "execution_count": 200,
   "metadata": {
    "collapsed": true
   },
   "outputs": [],
   "source": [
    "# apply set_minimum function on latest dataframe\n",
    "\n",
    "min_runtime_df=set_minimum(NoData_df, 'runtime', 2)\n",
    "min_votecount_df=set_minimum(min_runtime_df, 'vote_count',10)\n",
    "min_budgetadj_df=set_minimum(min_votecount_df,'budget_adj', 10000)"
   ]
  },
  {
   "cell_type": "markdown",
   "metadata": {},
   "source": [
    "The data wrangling phase is now complete. A neat name will be assigned to the final dataframe and proceed to the analysis phase of the project."
   ]
  },
  {
   "cell_type": "code",
   "execution_count": 201,
   "metadata": {},
   "outputs": [
    {
     "name": "stdout",
     "output_type": "stream",
     "text": [
      "Sample of the dataframe set the analysis will be done for:\n"
     ]
    },
    {
     "data": {
      "text/html": [
       "<div>\n",
       "<style>\n",
       "    .dataframe thead tr:only-child th {\n",
       "        text-align: right;\n",
       "    }\n",
       "\n",
       "    .dataframe thead th {\n",
       "        text-align: left;\n",
       "    }\n",
       "\n",
       "    .dataframe tbody tr th {\n",
       "        vertical-align: top;\n",
       "    }\n",
       "</style>\n",
       "<table border=\"1\" class=\"dataframe\">\n",
       "  <thead>\n",
       "    <tr style=\"text-align: right;\">\n",
       "      <th></th>\n",
       "      <th>imdb_id</th>\n",
       "      <th>popularity</th>\n",
       "      <th>original_title</th>\n",
       "      <th>runtime</th>\n",
       "      <th>release_date</th>\n",
       "      <th>vote_count</th>\n",
       "      <th>vote_average</th>\n",
       "      <th>release_year</th>\n",
       "      <th>budget_adj</th>\n",
       "      <th>revenue_adj</th>\n",
       "      <th>director</th>\n",
       "      <th>cast</th>\n",
       "      <th>genres</th>\n",
       "      <th>production_companies</th>\n",
       "      <th>ROI(%)</th>\n",
       "    </tr>\n",
       "  </thead>\n",
       "  <tbody>\n",
       "    <tr>\n",
       "      <th>0</th>\n",
       "      <td>tt0369610</td>\n",
       "      <td>32.985763</td>\n",
       "      <td>Jurassic World</td>\n",
       "      <td>124</td>\n",
       "      <td>6/9/15</td>\n",
       "      <td>5562</td>\n",
       "      <td>6.5</td>\n",
       "      <td>2015</td>\n",
       "      <td>1.379999e+08</td>\n",
       "      <td>1.392446e+09</td>\n",
       "      <td>Colin Trevorrow</td>\n",
       "      <td>Chris Pratt</td>\n",
       "      <td>Action</td>\n",
       "      <td>Universal Studios</td>\n",
       "      <td>1009.019207</td>\n",
       "    </tr>\n",
       "    <tr>\n",
       "      <th>1</th>\n",
       "      <td>tt1392190</td>\n",
       "      <td>28.419936</td>\n",
       "      <td>Mad Max: Fury Road</td>\n",
       "      <td>120</td>\n",
       "      <td>5/13/15</td>\n",
       "      <td>6185</td>\n",
       "      <td>7.1</td>\n",
       "      <td>2015</td>\n",
       "      <td>1.379999e+08</td>\n",
       "      <td>3.481613e+08</td>\n",
       "      <td>George Miller</td>\n",
       "      <td>Tom Hardy</td>\n",
       "      <td>Action</td>\n",
       "      <td>Village Roadshow Pictures</td>\n",
       "      <td>252.290903</td>\n",
       "    </tr>\n",
       "    <tr>\n",
       "      <th>2</th>\n",
       "      <td>tt2908446</td>\n",
       "      <td>13.112507</td>\n",
       "      <td>Insurgent</td>\n",
       "      <td>119</td>\n",
       "      <td>3/18/15</td>\n",
       "      <td>2480</td>\n",
       "      <td>6.3</td>\n",
       "      <td>2015</td>\n",
       "      <td>1.012000e+08</td>\n",
       "      <td>2.716190e+08</td>\n",
       "      <td>Robert Schwentke</td>\n",
       "      <td>Shailene Woodley</td>\n",
       "      <td>Adventure</td>\n",
       "      <td>Summit Entertainment</td>\n",
       "      <td>268.398365</td>\n",
       "    </tr>\n",
       "    <tr>\n",
       "      <th>3</th>\n",
       "      <td>tt2488496</td>\n",
       "      <td>11.173104</td>\n",
       "      <td>Star Wars: The Force Awakens</td>\n",
       "      <td>136</td>\n",
       "      <td>12/15/15</td>\n",
       "      <td>5292</td>\n",
       "      <td>7.5</td>\n",
       "      <td>2015</td>\n",
       "      <td>1.839999e+08</td>\n",
       "      <td>1.902723e+09</td>\n",
       "      <td>J.J. Abrams</td>\n",
       "      <td>Harrison Ford</td>\n",
       "      <td>Action</td>\n",
       "      <td>Lucasfilm</td>\n",
       "      <td>1034.089113</td>\n",
       "    </tr>\n",
       "    <tr>\n",
       "      <th>4</th>\n",
       "      <td>tt2820852</td>\n",
       "      <td>9.335014</td>\n",
       "      <td>Furious 7</td>\n",
       "      <td>137</td>\n",
       "      <td>4/1/15</td>\n",
       "      <td>2947</td>\n",
       "      <td>7.3</td>\n",
       "      <td>2015</td>\n",
       "      <td>1.747999e+08</td>\n",
       "      <td>1.385749e+09</td>\n",
       "      <td>James Wan</td>\n",
       "      <td>Vin Diesel</td>\n",
       "      <td>Action</td>\n",
       "      <td>Universal Pictures</td>\n",
       "      <td>792.762821</td>\n",
       "    </tr>\n",
       "  </tbody>\n",
       "</table>\n",
       "</div>"
      ],
      "text/plain": [
       "     imdb_id  popularity                original_title  runtime release_date  \\\n",
       "0  tt0369610   32.985763                Jurassic World      124       6/9/15   \n",
       "1  tt1392190   28.419936            Mad Max: Fury Road      120      5/13/15   \n",
       "2  tt2908446   13.112507                     Insurgent      119      3/18/15   \n",
       "3  tt2488496   11.173104  Star Wars: The Force Awakens      136     12/15/15   \n",
       "4  tt2820852    9.335014                     Furious 7      137       4/1/15   \n",
       "\n",
       "   vote_count  vote_average  release_year    budget_adj   revenue_adj  \\\n",
       "0        5562           6.5          2015  1.379999e+08  1.392446e+09   \n",
       "1        6185           7.1          2015  1.379999e+08  3.481613e+08   \n",
       "2        2480           6.3          2015  1.012000e+08  2.716190e+08   \n",
       "3        5292           7.5          2015  1.839999e+08  1.902723e+09   \n",
       "4        2947           7.3          2015  1.747999e+08  1.385749e+09   \n",
       "\n",
       "           director              cast     genres       production_companies  \\\n",
       "0   Colin Trevorrow       Chris Pratt     Action          Universal Studios   \n",
       "1     George Miller         Tom Hardy     Action  Village Roadshow Pictures   \n",
       "2  Robert Schwentke  Shailene Woodley  Adventure       Summit Entertainment   \n",
       "3       J.J. Abrams     Harrison Ford     Action                  Lucasfilm   \n",
       "4         James Wan        Vin Diesel     Action         Universal Pictures   \n",
       "\n",
       "        ROI(%)  \n",
       "0  1009.019207  \n",
       "1   252.290903  \n",
       "2   268.398365  \n",
       "3  1034.089113  \n",
       "4   792.762821  "
      ]
     },
     "execution_count": 201,
     "metadata": {},
     "output_type": "execute_result"
    }
   ],
   "source": [
    "#let's assign a neat dataframe name for what will be used in the analysis\n",
    "movie_database_analysis_df=min_budgetadj_df\n",
    "\n",
    "print (\"Sample of the dataframe set the analysis will be done for:\")\n",
    "movie_database_analysis_df.head()"
   ]
  },
  {
   "cell_type": "code",
   "execution_count": 202,
   "metadata": {},
   "outputs": [
    {
     "name": "stdout",
     "output_type": "stream",
     "text": [
      "After all the data wrangling, we are left with 3759 movies which is more than enough to perform an analysis.\n"
     ]
    }
   ],
   "source": [
    "print (\"After all the data wrangling, we are left with {} movies which is more than enough to perform an analysis.\".format(len(movie_database_analysis_df)))"
   ]
  },
  {
   "cell_type": "markdown",
   "metadata": {},
   "source": [
    "## Data Analysis"
   ]
  },
  {
   "cell_type": "markdown",
   "metadata": {},
   "source": [
    "As a remainder, here is the list of the analysis that will be performed:\n",
    "\n",
    "1. What genre of movie is popular year to year?\n",
    "    - Has there been more votes in recent years compared to early years?\n",
    "    - Does the level of popularity change over time?\n",
    "    - Is there a relationship between vote count and popularity?\n",
    "    - Does a movie that's more popular mean a better average vote for a given movie?\n",
    "2. How does \"money\" interact with various parameters?\n",
    "    - Are movies with higher budgets more popular? \n",
    "    - Does a higher budget mean higher revenue? Does more popularity mean more revenue?\n",
    "    - Do higher budget command better ROIs? Do popular movie command better ROIs?\n",
    "    - Which movie genres have the highest/lowest budget/revenue?\n",
    "    - Which movie genres have the best \"return on investment\" or ROI?\n",
    "    - Impact of grouped popularity and budget on ROI?\n",
    "3. Which production company produces the most movies?\n",
    "    - With grouped production companies, is there a correlation between average vote and popularity?\n",
    "    - With grouped production companies, is there a correlation between popularity / average vote and ROI?\n",
    "    - Which production companies have the biggest budget/ROI? \n",
    "    - Which production companies have the best ROI?\n",
    "4. Do certain Directors command higher budgets?"
   ]
  },
  {
   "cell_type": "markdown",
   "metadata": {},
   "source": [
    "### Movie Genre Popularity in a Given Year"
   ]
  },
  {
   "cell_type": "markdown",
   "metadata": {},
   "source": [
    "What genre of movie is popular year after year?\n",
    "First, let's assess how many movies there are per genre to ascertain that there's enough data."
   ]
  },
  {
   "cell_type": "code",
   "execution_count": 203,
   "metadata": {},
   "outputs": [
    {
     "name": "stdout",
     "output_type": "stream",
     "text": [
      "Number of movies per genre in the data:\n"
     ]
    },
    {
     "data": {
      "text/plain": [
       "Drama              866\n",
       "Comedy             763\n",
       "Action             676\n",
       "Adventure          310\n",
       "Horror             270\n",
       "Crime              169\n",
       "Thriller           158\n",
       "Fantasy            106\n",
       "Animation          100\n",
       "Science Fiction     96\n",
       "Romance             64\n",
       "Family              40\n",
       "Mystery             36\n",
       "Music               28\n",
       "Documentary         23\n",
       "War                 20\n",
       "History             17\n",
       "Western             16\n",
       "TV Movie             1\n",
       "Name: genres, dtype: int64"
      ]
     },
     "execution_count": 203,
     "metadata": {},
     "output_type": "execute_result"
    }
   ],
   "source": [
    "print (\"Number of movies per genre in the data:\")\n",
    "movie_database_analysis_df['genres'].value_counts()"
   ]
  },
  {
   "cell_type": "markdown",
   "metadata": {},
   "source": [
    "As table above show, History, Western and especially TV Movie genres don't have a lot of data which will be acknowledged should their data be skew tentative conclusions."
   ]
  },
  {
   "cell_type": "code",
   "execution_count": 204,
   "metadata": {},
   "outputs": [
    {
     "name": "stdout",
     "output_type": "stream",
     "text": [
      "Sample of average popularity per genre in a given year\n"
     ]
    },
    {
     "data": {
      "text/html": [
       "<div>\n",
       "<style>\n",
       "    .dataframe thead tr:only-child th {\n",
       "        text-align: right;\n",
       "    }\n",
       "\n",
       "    .dataframe thead th {\n",
       "        text-align: left;\n",
       "    }\n",
       "\n",
       "    .dataframe tbody tr th {\n",
       "        vertical-align: top;\n",
       "    }\n",
       "</style>\n",
       "<table border=\"1\" class=\"dataframe\">\n",
       "  <thead>\n",
       "    <tr style=\"text-align: right;\">\n",
       "      <th></th>\n",
       "      <th>release_year</th>\n",
       "      <th>genres</th>\n",
       "      <th>mean_popularity</th>\n",
       "    </tr>\n",
       "  </thead>\n",
       "  <tbody>\n",
       "    <tr>\n",
       "      <th>0</th>\n",
       "      <td>1960</td>\n",
       "      <td>Action</td>\n",
       "      <td>1.504538</td>\n",
       "    </tr>\n",
       "    <tr>\n",
       "      <th>1</th>\n",
       "      <td>1960</td>\n",
       "      <td>Comedy</td>\n",
       "      <td>0.501564</td>\n",
       "    </tr>\n",
       "    <tr>\n",
       "      <th>2</th>\n",
       "      <td>1960</td>\n",
       "      <td>Drama</td>\n",
       "      <td>2.610362</td>\n",
       "    </tr>\n",
       "    <tr>\n",
       "      <th>3</th>\n",
       "      <td>1961</td>\n",
       "      <td>Action</td>\n",
       "      <td>0.754548</td>\n",
       "    </tr>\n",
       "    <tr>\n",
       "      <th>4</th>\n",
       "      <td>1961</td>\n",
       "      <td>Adventure</td>\n",
       "      <td>2.631987</td>\n",
       "    </tr>\n",
       "  </tbody>\n",
       "</table>\n",
       "</div>"
      ],
      "text/plain": [
       "   release_year     genres  mean_popularity\n",
       "0          1960     Action         1.504538\n",
       "1          1960     Comedy         0.501564\n",
       "2          1960      Drama         2.610362\n",
       "3          1961     Action         0.754548\n",
       "4          1961  Adventure         2.631987"
      ]
     },
     "execution_count": 204,
     "metadata": {},
     "output_type": "execute_result"
    }
   ],
   "source": [
    "# groupby the dataframe by release year and genres and take the mean of genres popularity\n",
    "\n",
    "Groupby_YearGenre=pd.DataFrame({'mean_popularity':movie_database_analysis_df.groupby(['release_year','genres'])['popularity'].mean()}).reset_index()\n",
    "print (\"Sample of average popularity per genre in a given year\")\n",
    "Groupby_YearGenre.head()"
   ]
  },
  {
   "cell_type": "code",
   "execution_count": 205,
   "metadata": {},
   "outputs": [
    {
     "name": "stdout",
     "output_type": "stream",
     "text": [
      "Sample most popular movie genre in a given year:\n"
     ]
    },
    {
     "data": {
      "text/html": [
       "<div>\n",
       "<style>\n",
       "    .dataframe thead tr:only-child th {\n",
       "        text-align: right;\n",
       "    }\n",
       "\n",
       "    .dataframe thead th {\n",
       "        text-align: left;\n",
       "    }\n",
       "\n",
       "    .dataframe tbody tr th {\n",
       "        vertical-align: top;\n",
       "    }\n",
       "</style>\n",
       "<table border=\"1\" class=\"dataframe\">\n",
       "  <thead>\n",
       "    <tr style=\"text-align: right;\">\n",
       "      <th></th>\n",
       "      <th></th>\n",
       "      <th>mean_popularity</th>\n",
       "    </tr>\n",
       "    <tr>\n",
       "      <th>release_year</th>\n",
       "      <th>genres</th>\n",
       "      <th></th>\n",
       "    </tr>\n",
       "  </thead>\n",
       "  <tbody>\n",
       "    <tr>\n",
       "      <th>1960</th>\n",
       "      <th>Drama</th>\n",
       "      <td>2.610362</td>\n",
       "    </tr>\n",
       "    <tr>\n",
       "      <th>1961</th>\n",
       "      <th>Adventure</th>\n",
       "      <td>2.631987</td>\n",
       "    </tr>\n",
       "    <tr>\n",
       "      <th>1962</th>\n",
       "      <th>Adventure</th>\n",
       "      <td>2.169709</td>\n",
       "    </tr>\n",
       "    <tr>\n",
       "      <th>1963</th>\n",
       "      <th>Action</th>\n",
       "      <td>1.357698</td>\n",
       "    </tr>\n",
       "    <tr>\n",
       "      <th>1964</th>\n",
       "      <th>Adventure</th>\n",
       "      <td>3.153791</td>\n",
       "    </tr>\n",
       "  </tbody>\n",
       "</table>\n",
       "</div>"
      ],
      "text/plain": [
       "                        mean_popularity\n",
       "release_year genres                    \n",
       "1960         Drama             2.610362\n",
       "1961         Adventure         2.631987\n",
       "1962         Adventure         2.169709\n",
       "1963         Action            1.357698\n",
       "1964         Adventure         3.153791"
      ]
     },
     "execution_count": 205,
     "metadata": {},
     "output_type": "execute_result"
    }
   ],
   "source": [
    "# find the max popularity mean value for a given year \n",
    "Groupby_YearGenreMax=Groupby_YearGenre.groupby(['release_year','genres']).max()\n",
    "\n",
    "\n",
    "popularity_year=Groupby_YearGenreMax[Groupby_YearGenreMax['mean_popularity'] == Groupby_YearGenreMax.groupby(level=[0])['mean_popularity'].transform(max)]\n",
    "print (\"Sample most popular movie genre in a given year:\")\n",
    "popularity_year.head()"
   ]
  },
  {
   "cell_type": "markdown",
   "metadata": {},
   "source": [
    "For better visual representation, plots of the most popular movies in the 60s and in the last 10 years (2006-2015) will be plotted"
   ]
  },
  {
   "cell_type": "code",
   "execution_count": 206,
   "metadata": {},
   "outputs": [
    {
     "name": "stdout",
     "output_type": "stream",
     "text": [
      "Populating the interactive namespace from numpy and matplotlib\n"
     ]
    }
   ],
   "source": [
    "%pylab inline\n",
    "import matplotlib.pyplot as plt\n",
    "import seaborn as sns"
   ]
  },
  {
   "cell_type": "code",
   "execution_count": 207,
   "metadata": {},
   "outputs": [
    {
     "data": {
      "text/plain": [
       "Text(0.5,1,'Most Popular Movies in a Year')"
      ]
     },
     "execution_count": 207,
     "metadata": {},
     "output_type": "execute_result"
    },
    {
     "data": {
      "image/png": "[encoded data removed]",
      "text/plain": [
       "<matplotlib.figure.Figure at 0x20ca2438>"
      ]
     },
     "metadata": {},
     "output_type": "display_data"
    }
   ],
   "source": [
    "popularity_year.iloc[0:10,:].plot(kind='bar', subplots=True, figsize=(10,5))\n",
    "plt.ylabel('Average Popularity')\n",
    "plt.xlabel('Release Year & Genres')\n",
    "plt.title('Most Popular Movies in a Year')"
   ]
  },
  {
   "cell_type": "markdown",
   "metadata": {},
   "source": [
    "N.B.: In 1969, History movies were the most popular but this may be a hasty conclusion considering only 17 movies were used across all the years."
   ]
  },
  {
   "cell_type": "code",
   "execution_count": 208,
   "metadata": {},
   "outputs": [
    {
     "data": {
      "text/plain": [
       "Text(0.5,1,'Most Popular Movies in a Year')"
      ]
     },
     "execution_count": 208,
     "metadata": {},
     "output_type": "execute_result"
    },
    {
     "data": {
      "image/png": "[encoded data removed]",
      "text/plain": [
       "<matplotlib.figure.Figure at 0x20e01320>"
      ]
     },
     "metadata": {},
     "output_type": "display_data"
    }
   ],
   "source": [
    "popularity_year.iloc[len(popularity_year)-10:len(popularity_year),:].plot(kind='bar', subplots=True, figsize=(10,5))\n",
    "plt.ylabel('Average Popularity')\n",
    "plt.xlabel('Release Year & Genres')\n",
    "plt.title('Most Popular Movies in a Year')"
   ]
  },
  {
   "cell_type": "markdown",
   "metadata": {},
   "source": [
    "N.B.: In 2015, Western movies were the most popular but this may be a hasty conclusion considering only 16 movies were used across all the years. "
   ]
  },
  {
   "cell_type": "markdown",
   "metadata": {},
   "source": [
    "### Average Number of Votes Over the Years"
   ]
  },
  {
   "cell_type": "markdown",
   "metadata": {},
   "source": [
    "We will now analyse the average number of votes over the years and see if a trend can be associated with popularity. First we shall define a function to calculate the Pearson Correlation Coefficient ([click here](http://www.dummies.com/education/math/statistics/how-to-interpret-a-correlation-coefficient-r/) for more information)"
   ]
  },
  {
   "cell_type": "code",
   "execution_count": 209,
   "metadata": {
    "collapsed": true
   },
   "outputs": [],
   "source": [
    "# define a function that takes two series as arguments and returns the correlation between the two series\n",
    "\n",
    "def correlation(series_1, series_2):\n",
    "    corr_result=series_1.corr(series_2)\n",
    "    return corr_result"
   ]
  },
  {
   "cell_type": "code",
   "execution_count": 210,
   "metadata": {
    "collapsed": true
   },
   "outputs": [],
   "source": [
    "# group data with respect to release year \n",
    "\n",
    "GroupMean_by_ReleaseYear=movie_database_analysis_df.groupby(['release_year'], as_index=False).mean()"
   ]
  },
  {
   "cell_type": "code",
   "execution_count": 211,
   "metadata": {},
   "outputs": [
    {
     "name": "stdout",
     "output_type": "stream",
     "text": [
      "Pearson r between release year and average vote count:\n"
     ]
    },
    {
     "data": {
      "text/plain": [
       "0.68911914156888621"
      ]
     },
     "execution_count": 211,
     "metadata": {},
     "output_type": "execute_result"
    }
   ],
   "source": [
    "# apply correlation function between release year and average vote count\n",
    "\n",
    "print (\"Pearson r between release year and average vote count:\")\n",
    "correlation(GroupMean_by_ReleaseYear.loc[:,'release_year'], GroupMean_by_ReleaseYear.loc[:,'vote_count'])"
   ]
  },
  {
   "cell_type": "markdown",
   "metadata": {},
   "source": [
    "There is a strong correlation between when a movie was released and the number of votes it received for its rating. We will plot this correlation for better visual understanding."
   ]
  },
  {
   "cell_type": "code",
   "execution_count": 212,
   "metadata": {},
   "outputs": [
    {
     "data": {
      "text/plain": [
       "Text(0.5,1,'Average Vote Count Over Time')"
      ]
     },
     "execution_count": 212,
     "metadata": {},
     "output_type": "execute_result"
    },
    {
     "data": {
      "image/png": "[encoded data removed]",
      "text/plain": [
       "<matplotlib.figure.Figure at 0x1e8093c8>"
      ]
     },
     "metadata": {},
     "output_type": "display_data"
    }
   ],
   "source": [
    "GroupMean_by_ReleaseYear.plot(kind='bar', figsize=(10,5), x='release_year', y='vote_count')\n",
    "plt.ylabel('Average Vote Count')\n",
    "plt.xlabel('Release Year')\n",
    "plt.title('Average Vote Count Over Time')"
   ]
  },
  {
   "cell_type": "markdown",
   "metadata": {},
   "source": [
    "Looking at the graph, we can see that it's really in the last ~20 years that a sharp spark in vote counts vs release years can clearly be seen. The only data available that may explain this trend (mind you, this is based on my assumption) could be due to increased popularity of movies over the years and thus more vote count? Let's explore that theory."
   ]
  },
  {
   "cell_type": "markdown",
   "metadata": {},
   "source": [
    "### Level of Popularity Over Time"
   ]
  },
  {
   "cell_type": "code",
   "execution_count": 213,
   "metadata": {},
   "outputs": [
    {
     "name": "stdout",
     "output_type": "stream",
     "text": [
      "Pearson r between popularity and release year:\n"
     ]
    },
    {
     "data": {
      "text/plain": [
       "0.39005312637470213"
      ]
     },
     "execution_count": 213,
     "metadata": {},
     "output_type": "execute_result"
    }
   ],
   "source": [
    "# apply correlation function between average popularity and release year\n",
    "\n",
    "print (\"Pearson r between popularity and release year:\")\n",
    "correlation(GroupMean_by_ReleaseYear.loc[:,'popularity'], GroupMean_by_ReleaseYear.loc[:,'release_year'])"
   ]
  },
  {
   "cell_type": "markdown",
   "metadata": {},
   "source": [
    "The correlation in this case is weak but it is there, the level of popularity for movies tend to increase over time. I would speculate, beyond the scope of available analysis that other reasons may be that tmdb.com istself did not become a prevalent go to for movie amateurs until recently. So maybe people started voting on tmdb when they joined tmdb which would have been in 2008 when tmdb was created. Aslo the demographic most likely to join tmdb are on the younger side of things and maybe wouldn't want to necessarily watch a movie from the 60s? Take myself for example, I've been a member of imdb (not tmdb...) for 12 years now and have over 1000 votes for various tv shows and movies, most of them starting from the 80s. I don't really watch movies that are before the 80s simply because I don't want to! So maybe many millenials and generation Zs might feel the same way?\n",
    "\n",
    "Also a young individual in their 20s during the 60s that would've watched the \"popular\" movies from back then would be in their 60s/70s today. Would older people really bother going to tmdb and cast a vote on all the popular movies from their young days? Not so sure that they would...\n",
    "\n",
    "Obviously, this analysis is very subjective to my views so take it with a grain of salt, but there might be some truths in all that analysis..."
   ]
  },
  {
   "cell_type": "markdown",
   "metadata": {},
   "source": [
    "One area I do expect to see strong correlation is the higher the popularity, the higher the vote count as more people would've seen it and thus potentially the higher popularity."
   ]
  },
  {
   "cell_type": "markdown",
   "metadata": {},
   "source": [
    "### Popularity vs Number of Votes?"
   ]
  },
  {
   "cell_type": "code",
   "execution_count": 214,
   "metadata": {},
   "outputs": [
    {
     "name": "stdout",
     "output_type": "stream",
     "text": [
      "Pearson r between popularity and number of votes:\n"
     ]
    },
    {
     "data": {
      "text/plain": [
       "0.77844919469217655"
      ]
     },
     "execution_count": 214,
     "metadata": {},
     "output_type": "execute_result"
    }
   ],
   "source": [
    "# apply correlation function between popularity and number of votes\n",
    "\n",
    "print (\"Pearson r between popularity and number of votes:\")\n",
    "correlation(movie_database_analysis_df.loc[:,'popularity'], movie_database_analysis_df.loc[:,'vote_count'])"
   ]
  },
  {
   "cell_type": "markdown",
   "metadata": {},
   "source": [
    "Very stong correlation between popularity and vote count. The higher the popularity, the higher the vote count. Here are a few popular movies from the 60s and in the last 10 years (from 2006 to 2015)"
   ]
  },
  {
   "cell_type": "code",
   "execution_count": 215,
   "metadata": {},
   "outputs": [
    {
     "name": "stdout",
     "output_type": "stream",
     "text": [
      "Most popular movies from the 60s:\n"
     ]
    },
    {
     "data": {
      "text/html": [
       "<div>\n",
       "<style>\n",
       "    .dataframe thead tr:only-child th {\n",
       "        text-align: right;\n",
       "    }\n",
       "\n",
       "    .dataframe thead th {\n",
       "        text-align: left;\n",
       "    }\n",
       "\n",
       "    .dataframe tbody tr th {\n",
       "        vertical-align: top;\n",
       "    }\n",
       "</style>\n",
       "<table border=\"1\" class=\"dataframe\">\n",
       "  <thead>\n",
       "    <tr style=\"text-align: right;\">\n",
       "      <th></th>\n",
       "      <th>imdb_id</th>\n",
       "      <th>popularity</th>\n",
       "      <th>original_title</th>\n",
       "      <th>runtime</th>\n",
       "      <th>release_date</th>\n",
       "      <th>vote_count</th>\n",
       "      <th>vote_average</th>\n",
       "      <th>release_year</th>\n",
       "      <th>budget_adj</th>\n",
       "      <th>revenue_adj</th>\n",
       "      <th>director</th>\n",
       "      <th>cast</th>\n",
       "      <th>genres</th>\n",
       "      <th>production_companies</th>\n",
       "      <th>ROI(%)</th>\n",
       "    </tr>\n",
       "  </thead>\n",
       "  <tbody>\n",
       "    <tr>\n",
       "      <th>3520</th>\n",
       "      <td>tt0062622</td>\n",
       "      <td>3.309196</td>\n",
       "      <td>2001: A Space Odyssey</td>\n",
       "      <td>149</td>\n",
       "      <td>4/5/68</td>\n",
       "      <td>1708</td>\n",
       "      <td>7.7</td>\n",
       "      <td>1968</td>\n",
       "      <td>7.522756e+07</td>\n",
       "      <td>3.555466e+08</td>\n",
       "      <td>Stanley Kubrick</td>\n",
       "      <td>Keir Dullea</td>\n",
       "      <td>Science Fiction</td>\n",
       "      <td>Stanley Kubrick Productions</td>\n",
       "      <td>472.628092</td>\n",
       "    </tr>\n",
       "    <tr>\n",
       "      <th>3551</th>\n",
       "      <td>tt0055928</td>\n",
       "      <td>3.170651</td>\n",
       "      <td>Dr. No</td>\n",
       "      <td>110</td>\n",
       "      <td>10/4/62</td>\n",
       "      <td>560</td>\n",
       "      <td>6.7</td>\n",
       "      <td>1962</td>\n",
       "      <td>7.929294e+06</td>\n",
       "      <td>4.296236e+08</td>\n",
       "      <td>Terence Young</td>\n",
       "      <td>Sean Connery</td>\n",
       "      <td>Adventure</td>\n",
       "      <td>Eon Productions</td>\n",
       "      <td>5418.181818</td>\n",
       "    </tr>\n",
       "    <tr>\n",
       "      <th>3558</th>\n",
       "      <td>tt0058150</td>\n",
       "      <td>3.153791</td>\n",
       "      <td>Goldfinger</td>\n",
       "      <td>110</td>\n",
       "      <td>9/17/64</td>\n",
       "      <td>602</td>\n",
       "      <td>7.0</td>\n",
       "      <td>1964</td>\n",
       "      <td>2.460594e+07</td>\n",
       "      <td>8.780804e+08</td>\n",
       "      <td>Guy Hamilton</td>\n",
       "      <td>Sean Connery</td>\n",
       "      <td>Adventure</td>\n",
       "      <td>Eon Productions</td>\n",
       "      <td>3568.571429</td>\n",
       "    </tr>\n",
       "    <tr>\n",
       "      <th>3631</th>\n",
       "      <td>tt0055254</td>\n",
       "      <td>2.631987</td>\n",
       "      <td>One Hundred and One Dalmatians</td>\n",
       "      <td>79</td>\n",
       "      <td>1/25/61</td>\n",
       "      <td>913</td>\n",
       "      <td>6.6</td>\n",
       "      <td>1961</td>\n",
       "      <td>2.917944e+07</td>\n",
       "      <td>1.574815e+09</td>\n",
       "      <td>Clyde Geronimi</td>\n",
       "      <td>Rod Taylor</td>\n",
       "      <td>Adventure</td>\n",
       "      <td>Walt Disney Productions</td>\n",
       "      <td>5397.000350</td>\n",
       "    </tr>\n",
       "    <tr>\n",
       "      <th>3641</th>\n",
       "      <td>tt0054215</td>\n",
       "      <td>2.610362</td>\n",
       "      <td>Psycho</td>\n",
       "      <td>109</td>\n",
       "      <td>8/14/60</td>\n",
       "      <td>1180</td>\n",
       "      <td>8.0</td>\n",
       "      <td>1960</td>\n",
       "      <td>5.949601e+06</td>\n",
       "      <td>2.359350e+08</td>\n",
       "      <td>Alfred Hitchcock</td>\n",
       "      <td>Anthony Perkins</td>\n",
       "      <td>Drama</td>\n",
       "      <td>Shamley Productions</td>\n",
       "      <td>3965.559119</td>\n",
       "    </tr>\n",
       "    <tr>\n",
       "      <th>3733</th>\n",
       "      <td>tt0061852</td>\n",
       "      <td>2.550704</td>\n",
       "      <td>The Jungle Book</td>\n",
       "      <td>78</td>\n",
       "      <td>10/18/67</td>\n",
       "      <td>928</td>\n",
       "      <td>7.0</td>\n",
       "      <td>1967</td>\n",
       "      <td>2.614705e+07</td>\n",
       "      <td>1.345551e+09</td>\n",
       "      <td>Wolfgang Reitherman</td>\n",
       "      <td>Phil Harris</td>\n",
       "      <td>Family</td>\n",
       "      <td>Walt Disney Pictures</td>\n",
       "      <td>5146.090300</td>\n",
       "    </tr>\n",
       "    <tr>\n",
       "      <th>3746</th>\n",
       "      <td>tt0057076</td>\n",
       "      <td>2.508235</td>\n",
       "      <td>From Russia With Love</td>\n",
       "      <td>115</td>\n",
       "      <td>10/11/63</td>\n",
       "      <td>458</td>\n",
       "      <td>6.7</td>\n",
       "      <td>1963</td>\n",
       "      <td>1.780045e+07</td>\n",
       "      <td>5.617734e+08</td>\n",
       "      <td>Terence Young</td>\n",
       "      <td>Sean Connery</td>\n",
       "      <td>Action</td>\n",
       "      <td>Eon Productions</td>\n",
       "      <td>3155.950600</td>\n",
       "    </tr>\n",
       "    <tr>\n",
       "      <th>3734</th>\n",
       "      <td>tt0061722</td>\n",
       "      <td>2.227230</td>\n",
       "      <td>The Graduate</td>\n",
       "      <td>106</td>\n",
       "      <td>12/21/67</td>\n",
       "      <td>426</td>\n",
       "      <td>7.5</td>\n",
       "      <td>1967</td>\n",
       "      <td>1.961029e+07</td>\n",
       "      <td>6.824192e+08</td>\n",
       "      <td>Mike Nichols</td>\n",
       "      <td>Anne Bancroft</td>\n",
       "      <td>Comedy</td>\n",
       "      <td>Embassy Pictures Corporation</td>\n",
       "      <td>3479.903400</td>\n",
       "    </tr>\n",
       "    <tr>\n",
       "      <th>3559</th>\n",
       "      <td>tt0057012</td>\n",
       "      <td>2.210475</td>\n",
       "      <td>Dr. Strangelove or: How I Learned to Stop Worr...</td>\n",
       "      <td>95</td>\n",
       "      <td>1/29/64</td>\n",
       "      <td>804</td>\n",
       "      <td>7.7</td>\n",
       "      <td>1964</td>\n",
       "      <td>1.265448e+07</td>\n",
       "      <td>6.636764e+07</td>\n",
       "      <td>Stanley Kubrick</td>\n",
       "      <td>Peter Sellers</td>\n",
       "      <td>Drama</td>\n",
       "      <td>Hawk Films</td>\n",
       "      <td>524.459556</td>\n",
       "    </tr>\n",
       "    <tr>\n",
       "      <th>3560</th>\n",
       "      <td>tt0058331</td>\n",
       "      <td>1.987819</td>\n",
       "      <td>Mary Poppins</td>\n",
       "      <td>139</td>\n",
       "      <td>8/27/64</td>\n",
       "      <td>613</td>\n",
       "      <td>7.2</td>\n",
       "      <td>1964</td>\n",
       "      <td>4.218160e+07</td>\n",
       "      <td>7.190046e+08</td>\n",
       "      <td>Robert Stevenson</td>\n",
       "      <td>Julie Andrews</td>\n",
       "      <td>Comedy</td>\n",
       "      <td>Walt Disney Productions</td>\n",
       "      <td>1704.545450</td>\n",
       "    </tr>\n",
       "  </tbody>\n",
       "</table>\n",
       "</div>"
      ],
      "text/plain": [
       "        imdb_id  popularity  \\\n",
       "3520  tt0062622    3.309196   \n",
       "3551  tt0055928    3.170651   \n",
       "3558  tt0058150    3.153791   \n",
       "3631  tt0055254    2.631987   \n",
       "3641  tt0054215    2.610362   \n",
       "3733  tt0061852    2.550704   \n",
       "3746  tt0057076    2.508235   \n",
       "3734  tt0061722    2.227230   \n",
       "3559  tt0057012    2.210475   \n",
       "3560  tt0058331    1.987819   \n",
       "\n",
       "                                         original_title  runtime release_date  \\\n",
       "3520                              2001: A Space Odyssey      149       4/5/68   \n",
       "3551                                             Dr. No      110      10/4/62   \n",
       "3558                                         Goldfinger      110      9/17/64   \n",
       "3631                     One Hundred and One Dalmatians       79      1/25/61   \n",
       "3641                                             Psycho      109      8/14/60   \n",
       "3733                                    The Jungle Book       78     10/18/67   \n",
       "3746                              From Russia With Love      115     10/11/63   \n",
       "3734                                       The Graduate      106     12/21/67   \n",
       "3559  Dr. Strangelove or: How I Learned to Stop Worr...       95      1/29/64   \n",
       "3560                                       Mary Poppins      139      8/27/64   \n",
       "\n",
       "      vote_count  vote_average  release_year    budget_adj   revenue_adj  \\\n",
       "3520        1708           7.7          1968  7.522756e+07  3.555466e+08   \n",
       "3551         560           6.7          1962  7.929294e+06  4.296236e+08   \n",
       "3558         602           7.0          1964  2.460594e+07  8.780804e+08   \n",
       "3631         913           6.6          1961  2.917944e+07  1.574815e+09   \n",
       "3641        1180           8.0          1960  5.949601e+06  2.359350e+08   \n",
       "3733         928           7.0          1967  2.614705e+07  1.345551e+09   \n",
       "3746         458           6.7          1963  1.780045e+07  5.617734e+08   \n",
       "3734         426           7.5          1967  1.961029e+07  6.824192e+08   \n",
       "3559         804           7.7          1964  1.265448e+07  6.636764e+07   \n",
       "3560         613           7.2          1964  4.218160e+07  7.190046e+08   \n",
       "\n",
       "                 director             cast           genres  \\\n",
       "3520      Stanley Kubrick      Keir Dullea  Science Fiction   \n",
       "3551        Terence Young     Sean Connery        Adventure   \n",
       "3558         Guy Hamilton     Sean Connery        Adventure   \n",
       "3631       Clyde Geronimi       Rod Taylor        Adventure   \n",
       "3641     Alfred Hitchcock  Anthony Perkins            Drama   \n",
       "3733  Wolfgang Reitherman      Phil Harris           Family   \n",
       "3746        Terence Young     Sean Connery           Action   \n",
       "3734         Mike Nichols    Anne Bancroft           Comedy   \n",
       "3559      Stanley Kubrick    Peter Sellers            Drama   \n",
       "3560     Robert Stevenson    Julie Andrews           Comedy   \n",
       "\n",
       "              production_companies       ROI(%)  \n",
       "3520   Stanley Kubrick Productions   472.628092  \n",
       "3551               Eon Productions  5418.181818  \n",
       "3558               Eon Productions  3568.571429  \n",
       "3631       Walt Disney Productions  5397.000350  \n",
       "3641           Shamley Productions  3965.559119  \n",
       "3733          Walt Disney Pictures  5146.090300  \n",
       "3746               Eon Productions  3155.950600  \n",
       "3734  Embassy Pictures Corporation  3479.903400  \n",
       "3559                    Hawk Films   524.459556  \n",
       "3560       Walt Disney Productions  1704.545450  "
      ]
     },
     "execution_count": 215,
     "metadata": {},
     "output_type": "execute_result"
    }
   ],
   "source": [
    "print(\"Most popular movies from the 60s:\")\n",
    "\n",
    "movie_database_analysis_df[movie_database_analysis_df['release_year']<1970].nlargest(10, 'popularity')"
   ]
  },
  {
   "cell_type": "markdown",
   "metadata": {},
   "source": [
    "So the table above presents a few movies that were extremely popular in the 60s, and although I previously mentioned that I don't typically watch movies from that era, one of my all time favourite Bond movies starring Sean Connery, Goldfindger, is one of my all time favourite. I actually just gave it a vote on my account (9/10) as I realized that I didn't vote for it! But that's the only movie I recall having seen from that list."
   ]
  },
  {
   "cell_type": "code",
   "execution_count": 216,
   "metadata": {},
   "outputs": [
    {
     "name": "stdout",
     "output_type": "stream",
     "text": [
      "Most popular movies from the 2006 to 2015:\n"
     ]
    },
    {
     "data": {
      "text/html": [
       "<div>\n",
       "<style>\n",
       "    .dataframe thead tr:only-child th {\n",
       "        text-align: right;\n",
       "    }\n",
       "\n",
       "    .dataframe thead th {\n",
       "        text-align: left;\n",
       "    }\n",
       "\n",
       "    .dataframe tbody tr th {\n",
       "        vertical-align: top;\n",
       "    }\n",
       "</style>\n",
       "<table border=\"1\" class=\"dataframe\">\n",
       "  <thead>\n",
       "    <tr style=\"text-align: right;\">\n",
       "      <th></th>\n",
       "      <th>imdb_id</th>\n",
       "      <th>popularity</th>\n",
       "      <th>original_title</th>\n",
       "      <th>runtime</th>\n",
       "      <th>release_date</th>\n",
       "      <th>vote_count</th>\n",
       "      <th>vote_average</th>\n",
       "      <th>release_year</th>\n",
       "      <th>budget_adj</th>\n",
       "      <th>revenue_adj</th>\n",
       "      <th>director</th>\n",
       "      <th>cast</th>\n",
       "      <th>genres</th>\n",
       "      <th>production_companies</th>\n",
       "      <th>ROI(%)</th>\n",
       "    </tr>\n",
       "  </thead>\n",
       "  <tbody>\n",
       "    <tr>\n",
       "      <th>0</th>\n",
       "      <td>tt0369610</td>\n",
       "      <td>32.985763</td>\n",
       "      <td>Jurassic World</td>\n",
       "      <td>124</td>\n",
       "      <td>6/9/15</td>\n",
       "      <td>5562</td>\n",
       "      <td>6.5</td>\n",
       "      <td>2015</td>\n",
       "      <td>1.379999e+08</td>\n",
       "      <td>1.392446e+09</td>\n",
       "      <td>Colin Trevorrow</td>\n",
       "      <td>Chris Pratt</td>\n",
       "      <td>Action</td>\n",
       "      <td>Universal Studios</td>\n",
       "      <td>1009.019207</td>\n",
       "    </tr>\n",
       "    <tr>\n",
       "      <th>1</th>\n",
       "      <td>tt1392190</td>\n",
       "      <td>28.419936</td>\n",
       "      <td>Mad Max: Fury Road</td>\n",
       "      <td>120</td>\n",
       "      <td>5/13/15</td>\n",
       "      <td>6185</td>\n",
       "      <td>7.1</td>\n",
       "      <td>2015</td>\n",
       "      <td>1.379999e+08</td>\n",
       "      <td>3.481613e+08</td>\n",
       "      <td>George Miller</td>\n",
       "      <td>Tom Hardy</td>\n",
       "      <td>Action</td>\n",
       "      <td>Village Roadshow Pictures</td>\n",
       "      <td>252.290903</td>\n",
       "    </tr>\n",
       "    <tr>\n",
       "      <th>160</th>\n",
       "      <td>tt0816692</td>\n",
       "      <td>24.949134</td>\n",
       "      <td>Interstellar</td>\n",
       "      <td>169</td>\n",
       "      <td>11/5/14</td>\n",
       "      <td>6498</td>\n",
       "      <td>8.0</td>\n",
       "      <td>2014</td>\n",
       "      <td>1.519800e+08</td>\n",
       "      <td>5.726906e+08</td>\n",
       "      <td>Christopher Nolan</td>\n",
       "      <td>Matthew McConaughey</td>\n",
       "      <td>Adventure</td>\n",
       "      <td>Paramount Pictures</td>\n",
       "      <td>376.819685</td>\n",
       "    </tr>\n",
       "    <tr>\n",
       "      <th>161</th>\n",
       "      <td>tt2015381</td>\n",
       "      <td>14.311205</td>\n",
       "      <td>Guardians of the Galaxy</td>\n",
       "      <td>121</td>\n",
       "      <td>7/30/14</td>\n",
       "      <td>5612</td>\n",
       "      <td>7.9</td>\n",
       "      <td>2014</td>\n",
       "      <td>1.565855e+08</td>\n",
       "      <td>7.122911e+08</td>\n",
       "      <td>James Gunn</td>\n",
       "      <td>Chris Pratt</td>\n",
       "      <td>Action</td>\n",
       "      <td>Marvel Studios</td>\n",
       "      <td>454.889646</td>\n",
       "    </tr>\n",
       "    <tr>\n",
       "      <th>2</th>\n",
       "      <td>tt2908446</td>\n",
       "      <td>13.112507</td>\n",
       "      <td>Insurgent</td>\n",
       "      <td>119</td>\n",
       "      <td>3/18/15</td>\n",
       "      <td>2480</td>\n",
       "      <td>6.3</td>\n",
       "      <td>2015</td>\n",
       "      <td>1.012000e+08</td>\n",
       "      <td>2.716190e+08</td>\n",
       "      <td>Robert Schwentke</td>\n",
       "      <td>Shailene Woodley</td>\n",
       "      <td>Adventure</td>\n",
       "      <td>Summit Entertainment</td>\n",
       "      <td>268.398365</td>\n",
       "    </tr>\n",
       "    <tr>\n",
       "      <th>162</th>\n",
       "      <td>tt1843866</td>\n",
       "      <td>12.971027</td>\n",
       "      <td>Captain America: The Winter Soldier</td>\n",
       "      <td>136</td>\n",
       "      <td>3/20/14</td>\n",
       "      <td>3848</td>\n",
       "      <td>7.6</td>\n",
       "      <td>2014</td>\n",
       "      <td>1.565855e+08</td>\n",
       "      <td>6.583651e+08</td>\n",
       "      <td>Joe Russo</td>\n",
       "      <td>Chris Evans</td>\n",
       "      <td>Action</td>\n",
       "      <td>Marvel Studios</td>\n",
       "      <td>420.450925</td>\n",
       "    </tr>\n",
       "    <tr>\n",
       "      <th>163</th>\n",
       "      <td>tt2911666</td>\n",
       "      <td>11.422751</td>\n",
       "      <td>John Wick</td>\n",
       "      <td>101</td>\n",
       "      <td>10/22/14</td>\n",
       "      <td>2712</td>\n",
       "      <td>7.0</td>\n",
       "      <td>2014</td>\n",
       "      <td>1.842182e+07</td>\n",
       "      <td>7.252661e+07</td>\n",
       "      <td>Chad Stahelski</td>\n",
       "      <td>Keanu Reeves</td>\n",
       "      <td>Action</td>\n",
       "      <td>Thunder Road Pictures</td>\n",
       "      <td>393.699485</td>\n",
       "    </tr>\n",
       "    <tr>\n",
       "      <th>3</th>\n",
       "      <td>tt2488496</td>\n",
       "      <td>11.173104</td>\n",
       "      <td>Star Wars: The Force Awakens</td>\n",
       "      <td>136</td>\n",
       "      <td>12/15/15</td>\n",
       "      <td>5292</td>\n",
       "      <td>7.5</td>\n",
       "      <td>2015</td>\n",
       "      <td>1.839999e+08</td>\n",
       "      <td>1.902723e+09</td>\n",
       "      <td>J.J. Abrams</td>\n",
       "      <td>Harrison Ford</td>\n",
       "      <td>Action</td>\n",
       "      <td>Lucasfilm</td>\n",
       "      <td>1034.089113</td>\n",
       "    </tr>\n",
       "    <tr>\n",
       "      <th>164</th>\n",
       "      <td>tt1951265</td>\n",
       "      <td>10.739009</td>\n",
       "      <td>The Hunger Games: Mockingjay - Part 1</td>\n",
       "      <td>123</td>\n",
       "      <td>11/18/14</td>\n",
       "      <td>3590</td>\n",
       "      <td>6.6</td>\n",
       "      <td>2014</td>\n",
       "      <td>1.151364e+08</td>\n",
       "      <td>6.927528e+08</td>\n",
       "      <td>Francis Lawrence</td>\n",
       "      <td>Jennifer Lawrence</td>\n",
       "      <td>Science Fiction</td>\n",
       "      <td>Lionsgate</td>\n",
       "      <td>601.680183</td>\n",
       "    </tr>\n",
       "    <tr>\n",
       "      <th>165</th>\n",
       "      <td>tt2310332</td>\n",
       "      <td>10.174599</td>\n",
       "      <td>The Hobbit: The Battle of the Five Armies</td>\n",
       "      <td>144</td>\n",
       "      <td>12/10/14</td>\n",
       "      <td>3110</td>\n",
       "      <td>7.1</td>\n",
       "      <td>2014</td>\n",
       "      <td>2.302728e+08</td>\n",
       "      <td>8.797523e+08</td>\n",
       "      <td>Peter Jackson</td>\n",
       "      <td>Martin Freeman</td>\n",
       "      <td>Adventure</td>\n",
       "      <td>WingNut Films</td>\n",
       "      <td>382.047915</td>\n",
       "    </tr>\n",
       "  </tbody>\n",
       "</table>\n",
       "</div>"
      ],
      "text/plain": [
       "       imdb_id  popularity                             original_title  \\\n",
       "0    tt0369610   32.985763                             Jurassic World   \n",
       "1    tt1392190   28.419936                         Mad Max: Fury Road   \n",
       "160  tt0816692   24.949134                               Interstellar   \n",
       "161  tt2015381   14.311205                    Guardians of the Galaxy   \n",
       "2    tt2908446   13.112507                                  Insurgent   \n",
       "162  tt1843866   12.971027        Captain America: The Winter Soldier   \n",
       "163  tt2911666   11.422751                                  John Wick   \n",
       "3    tt2488496   11.173104               Star Wars: The Force Awakens   \n",
       "164  tt1951265   10.739009      The Hunger Games: Mockingjay - Part 1   \n",
       "165  tt2310332   10.174599  The Hobbit: The Battle of the Five Armies   \n",
       "\n",
       "     runtime release_date  vote_count  vote_average  release_year  \\\n",
       "0        124       6/9/15        5562           6.5          2015   \n",
       "1        120      5/13/15        6185           7.1          2015   \n",
       "160      169      11/5/14        6498           8.0          2014   \n",
       "161      121      7/30/14        5612           7.9          2014   \n",
       "2        119      3/18/15        2480           6.3          2015   \n",
       "162      136      3/20/14        3848           7.6          2014   \n",
       "163      101     10/22/14        2712           7.0          2014   \n",
       "3        136     12/15/15        5292           7.5          2015   \n",
       "164      123     11/18/14        3590           6.6          2014   \n",
       "165      144     12/10/14        3110           7.1          2014   \n",
       "\n",
       "       budget_adj   revenue_adj           director                 cast  \\\n",
       "0    1.379999e+08  1.392446e+09    Colin Trevorrow          Chris Pratt   \n",
       "1    1.379999e+08  3.481613e+08      George Miller            Tom Hardy   \n",
       "160  1.519800e+08  5.726906e+08  Christopher Nolan  Matthew McConaughey   \n",
       "161  1.565855e+08  7.122911e+08         James Gunn          Chris Pratt   \n",
       "2    1.012000e+08  2.716190e+08   Robert Schwentke     Shailene Woodley   \n",
       "162  1.565855e+08  6.583651e+08          Joe Russo          Chris Evans   \n",
       "163  1.842182e+07  7.252661e+07     Chad Stahelski         Keanu Reeves   \n",
       "3    1.839999e+08  1.902723e+09        J.J. Abrams        Harrison Ford   \n",
       "164  1.151364e+08  6.927528e+08   Francis Lawrence    Jennifer Lawrence   \n",
       "165  2.302728e+08  8.797523e+08      Peter Jackson       Martin Freeman   \n",
       "\n",
       "              genres       production_companies       ROI(%)  \n",
       "0             Action          Universal Studios  1009.019207  \n",
       "1             Action  Village Roadshow Pictures   252.290903  \n",
       "160        Adventure         Paramount Pictures   376.819685  \n",
       "161           Action             Marvel Studios   454.889646  \n",
       "2          Adventure       Summit Entertainment   268.398365  \n",
       "162           Action             Marvel Studios   420.450925  \n",
       "163           Action      Thunder Road Pictures   393.699485  \n",
       "3             Action                  Lucasfilm  1034.089113  \n",
       "164  Science Fiction                  Lionsgate   601.680183  \n",
       "165        Adventure              WingNut Films   382.047915  "
      ]
     },
     "execution_count": 216,
     "metadata": {},
     "output_type": "execute_result"
    }
   ],
   "source": [
    "print (\"Most popular movies from the 2006 to 2015:\")\n",
    "\n",
    "movie_database_analysis_df[movie_database_analysis_df['release_year']>=2005].nlargest(10, 'popularity')"
   ]
  },
  {
   "cell_type": "markdown",
   "metadata": {},
   "source": [
    "So the above table shows the most popular movies in the \"last 10 years\" and contrary to the 60s movies, I have watched all of them and casted a vote (even reviews in some cases) for all of them on IMDB. "
   ]
  },
  {
   "cell_type": "markdown",
   "metadata": {},
   "source": [
    "### Popularity vs Movie Rating?"
   ]
  },
  {
   "cell_type": "code",
   "execution_count": 217,
   "metadata": {},
   "outputs": [
    {
     "name": "stdout",
     "output_type": "stream",
     "text": [
      "Pearson r between popularity and movie rating:\n"
     ]
    },
    {
     "data": {
      "text/plain": [
       "0.32085317433636756"
      ]
     },
     "execution_count": 217,
     "metadata": {},
     "output_type": "execute_result"
    }
   ],
   "source": [
    "# apply correlation function between popularity and average vote\n",
    "\n",
    "print (\"Pearson r between popularity and movie rating:\")\n",
    "correlation(movie_database_analysis_df.loc[:,'popularity'], movie_database_analysis_df.loc[:,'vote_average'])"
   ]
  },
  {
   "cell_type": "markdown",
   "metadata": {},
   "source": [
    "A weak correlation between popularity and vote average so I would approach the following statement with caution: the more popular the movie the higher the average vote. "
   ]
  },
  {
   "cell_type": "markdown",
   "metadata": {},
   "source": [
    "## The Money Interaction"
   ]
  },
  {
   "cell_type": "markdown",
   "metadata": {},
   "source": [
    "We will now approach the analysis in terms of any potential relationships between budget, revenue, ROI, popularity, average vote, etc."
   ]
  },
  {
   "cell_type": "markdown",
   "metadata": {},
   "source": [
    "### Budget vs Popularity?"
   ]
  },
  {
   "cell_type": "code",
   "execution_count": 218,
   "metadata": {},
   "outputs": [
    {
     "name": "stdout",
     "output_type": "stream",
     "text": [
      "Pearson r between budget and popularity:\n"
     ]
    },
    {
     "data": {
      "text/plain": [
       "0.39264368058292709"
      ]
     },
     "execution_count": 218,
     "metadata": {},
     "output_type": "execute_result"
    }
   ],
   "source": [
    "# apply correlation function between budget and popularity?\n",
    "\n",
    "print (\"Pearson r between budget and popularity:\")\n",
    "correlation(movie_database_analysis_df.loc[:,'budget_adj'], movie_database_analysis_df.loc[:, 'popularity'])"
   ]
  },
  {
   "cell_type": "markdown",
   "metadata": {},
   "source": [
    "Although it is a moderately weak correlation, one can tentatively say that the higher the budget the more popular a movie is expected to be which would make a little sense since bigger budget movies would have more money to spend on marketing"
   ]
  },
  {
   "cell_type": "markdown",
   "metadata": {},
   "source": [
    "Let's analyse which movies tend to have the higher revenues. I would think that the more popular a movie is, the higher the revenue and also the higher the budget, the higher the revenue. Let's find out!"
   ]
  },
  {
   "cell_type": "markdown",
   "metadata": {},
   "source": [
    "### Revenue vs Popularity and Revenue vs Budget"
   ]
  },
  {
   "cell_type": "code",
   "execution_count": 219,
   "metadata": {},
   "outputs": [
    {
     "name": "stdout",
     "output_type": "stream",
     "text": [
      "Pearson r between revenue and popularity:\n"
     ]
    },
    {
     "data": {
      "text/plain": [
       "0.54314558887810416"
      ]
     },
     "execution_count": 219,
     "metadata": {},
     "output_type": "execute_result"
    }
   ],
   "source": [
    "# apply correlation function between revenue and popularity\n",
    "\n",
    "print (\"Pearson r between revenue and popularity:\")\n",
    "correlation(movie_database_analysis_df.loc[:,'popularity'], movie_database_analysis_df.loc[:,'revenue_adj'])"
   ]
  },
  {
   "cell_type": "markdown",
   "metadata": {},
   "source": [
    "The correlation is not as strong as I would've expected, but there's definitely a moderate strong correlation whereby, the more popular a movie, the more revenue it generates. How about budget? "
   ]
  },
  {
   "cell_type": "code",
   "execution_count": 220,
   "metadata": {},
   "outputs": [
    {
     "name": "stdout",
     "output_type": "stream",
     "text": [
      "Pearson r between revenue and budget:\n"
     ]
    },
    {
     "data": {
      "text/plain": [
       "0.5660633978477404"
      ]
     },
     "execution_count": 220,
     "metadata": {},
     "output_type": "execute_result"
    }
   ],
   "source": [
    "# apply correlation function between revenue and budget\n",
    "\n",
    "print (\"Pearson r between revenue and budget:\")\n",
    "correlation(movie_database_analysis_df.loc[:,'budget_adj'], movie_database_analysis_df.loc[:,'revenue_adj'])"
   ]
  },
  {
   "cell_type": "markdown",
   "metadata": {},
   "source": [
    "Very similar result to that of popularity. So one can tentatively conclude, that the higher the budget and popularity of a \n",
    "given movie, the higher chances there are that more revenue will be generated. However, I feel that this conclusion is a bit decieving. As a symbolic example, a movie that has a budget of \\$100,000 would more easily generate a revenue of \\$1,000 than say the movie that has a budget of $1,000. This is where the return on investment - ROI - allows us to compare apples to apples."
   ]
  },
  {
   "cell_type": "markdown",
   "metadata": {},
   "source": [
    "### ROI vs Popularity and ROI vs Budget?"
   ]
  },
  {
   "cell_type": "code",
   "execution_count": 221,
   "metadata": {},
   "outputs": [
    {
     "name": "stdout",
     "output_type": "stream",
     "text": [
      "Pearson r between ROI and popularity:\n"
     ]
    },
    {
     "data": {
      "text/plain": [
       "-0.00025955052307979882"
      ]
     },
     "execution_count": 221,
     "metadata": {},
     "output_type": "execute_result"
    }
   ],
   "source": [
    "# apply correlation function between ROI and popularity\n",
    "\n",
    "print (\"Pearson r between ROI and popularity:\")\n",
    "correlation(movie_database_analysis_df.loc[:,'ROI(%)'], movie_database_analysis_df.loc[:,'popularity'])"
   ]
  },
  {
   "cell_type": "code",
   "execution_count": 222,
   "metadata": {},
   "outputs": [
    {
     "name": "stdout",
     "output_type": "stream",
     "text": [
      "Pearson r between ROI and budget:\n"
     ]
    },
    {
     "data": {
      "text/plain": [
       "-0.031010018809531161"
      ]
     },
     "execution_count": 222,
     "metadata": {},
     "output_type": "execute_result"
    }
   ],
   "source": [
    "# apply correlation function between ROI and budget\n",
    "\n",
    "print (\"Pearson r between ROI and budget:\")\n",
    "correlation(movie_database_analysis_df.loc[:,'ROI(%)'], movie_database_analysis_df.loc[:,'budget_adj'])"
   ]
  },
  {
   "cell_type": "markdown",
   "metadata": {},
   "source": [
    "The results now are very different from the revenue standpoint, there's no correlation between popularity or budget with respect to ROI. In fact, the more money one spends on a movie doesn't necessarily mean better returns! It is also interesting to see that although no correlation exists, there is a negative sign correlation between ROI and budget..."
   ]
  },
  {
   "cell_type": "markdown",
   "metadata": {},
   "source": [
    "### Movie Genres with Respect to Budget & Revenue"
   ]
  },
  {
   "cell_type": "code",
   "execution_count": 223,
   "metadata": {},
   "outputs": [
    {
     "name": "stdout",
     "output_type": "stream",
     "text": [
      "Sample of average revenue, budget and ROI for a given genre:\n"
     ]
    },
    {
     "data": {
      "text/html": [
       "<div>\n",
       "<style>\n",
       "    .dataframe thead tr:only-child th {\n",
       "        text-align: right;\n",
       "    }\n",
       "\n",
       "    .dataframe thead th {\n",
       "        text-align: left;\n",
       "    }\n",
       "\n",
       "    .dataframe tbody tr th {\n",
       "        vertical-align: top;\n",
       "    }\n",
       "</style>\n",
       "<table border=\"1\" class=\"dataframe\">\n",
       "  <thead>\n",
       "    <tr style=\"text-align: right;\">\n",
       "      <th></th>\n",
       "      <th>genres</th>\n",
       "      <th>budget_adj</th>\n",
       "      <th>revenue_adj</th>\n",
       "      <th>ROI(%)</th>\n",
       "    </tr>\n",
       "  </thead>\n",
       "  <tbody>\n",
       "    <tr>\n",
       "      <th>0</th>\n",
       "      <td>Action</td>\n",
       "      <td>6.205175e+07</td>\n",
       "      <td>1.655522e+08</td>\n",
       "      <td>277.638433</td>\n",
       "    </tr>\n",
       "    <tr>\n",
       "      <th>1</th>\n",
       "      <td>Adventure</td>\n",
       "      <td>8.701332e+07</td>\n",
       "      <td>3.071605e+08</td>\n",
       "      <td>515.384002</td>\n",
       "    </tr>\n",
       "    <tr>\n",
       "      <th>2</th>\n",
       "      <td>Animation</td>\n",
       "      <td>8.701574e+07</td>\n",
       "      <td>3.042106e+08</td>\n",
       "      <td>354.449624</td>\n",
       "    </tr>\n",
       "    <tr>\n",
       "      <th>3</th>\n",
       "      <td>Comedy</td>\n",
       "      <td>3.179032e+07</td>\n",
       "      <td>1.034974e+08</td>\n",
       "      <td>554.734239</td>\n",
       "    </tr>\n",
       "    <tr>\n",
       "      <th>4</th>\n",
       "      <td>Crime</td>\n",
       "      <td>3.190884e+07</td>\n",
       "      <td>9.936426e+07</td>\n",
       "      <td>420.655381</td>\n",
       "    </tr>\n",
       "  </tbody>\n",
       "</table>\n",
       "</div>"
      ],
      "text/plain": [
       "      genres    budget_adj   revenue_adj      ROI(%)\n",
       "0     Action  6.205175e+07  1.655522e+08  277.638433\n",
       "1  Adventure  8.701332e+07  3.071605e+08  515.384002\n",
       "2  Animation  8.701574e+07  3.042106e+08  354.449624\n",
       "3     Comedy  3.179032e+07  1.034974e+08  554.734239\n",
       "4      Crime  3.190884e+07  9.936426e+07  420.655381"
      ]
     },
     "execution_count": 223,
     "metadata": {},
     "output_type": "execute_result"
    }
   ],
   "source": [
    "# first create a datafram from grouping movie genres and get the mean of the desired metrics\n",
    "\n",
    "GroupMean_by_Genres=movie_database_analysis_df.groupby(['genres'], as_index=False).mean().filter(['genres','budget_adj',\n",
    "                                                                                                  'revenue_adj', 'ROI(%)'], axis=1 )\n",
    "\n",
    "print (\"Sample of average revenue, budget and ROI for a given genre:\")  \n",
    "GroupMean_by_Genres.head()"
   ]
  },
  {
   "cell_type": "markdown",
   "metadata": {},
   "source": [
    "To that table, we will add a standarized column for budget, revenue and ROI for ease of analysis."
   ]
  },
  {
   "cell_type": "code",
   "execution_count": 224,
   "metadata": {
    "collapsed": true
   },
   "outputs": [],
   "source": [
    "# define a function to standarize a column. takes in a column and returns the standarized value for each variable of the column\n",
    "\n",
    "def standarize_column(column):\n",
    "    return (column-column.mean())/column.std()"
   ]
  },
  {
   "cell_type": "code",
   "execution_count": 225,
   "metadata": {},
   "outputs": [
    {
     "name": "stdout",
     "output_type": "stream",
     "text": [
      "Sample of previous table with standarized columns:\n"
     ]
    },
    {
     "data": {
      "text/html": [
       "<div>\n",
       "<style>\n",
       "    .dataframe thead tr:only-child th {\n",
       "        text-align: right;\n",
       "    }\n",
       "\n",
       "    .dataframe thead th {\n",
       "        text-align: left;\n",
       "    }\n",
       "\n",
       "    .dataframe tbody tr th {\n",
       "        vertical-align: top;\n",
       "    }\n",
       "</style>\n",
       "<table border=\"1\" class=\"dataframe\">\n",
       "  <thead>\n",
       "    <tr style=\"text-align: right;\">\n",
       "      <th></th>\n",
       "      <th>genres</th>\n",
       "      <th>budget_adj</th>\n",
       "      <th>revenue_adj</th>\n",
       "      <th>ROI(%)</th>\n",
       "      <th>budget_std</th>\n",
       "      <th>revenue_std</th>\n",
       "      <th>ROI_std</th>\n",
       "    </tr>\n",
       "  </thead>\n",
       "  <tbody>\n",
       "    <tr>\n",
       "      <th>0</th>\n",
       "      <td>Action</td>\n",
       "      <td>6.205175e+07</td>\n",
       "      <td>1.655522e+08</td>\n",
       "      <td>277.638433</td>\n",
       "      <td>0.641849</td>\n",
       "      <td>0.224196</td>\n",
       "      <td>-0.373975</td>\n",
       "    </tr>\n",
       "    <tr>\n",
       "      <th>1</th>\n",
       "      <td>Adventure</td>\n",
       "      <td>8.701332e+07</td>\n",
       "      <td>3.071605e+08</td>\n",
       "      <td>515.384002</td>\n",
       "      <td>1.694101</td>\n",
       "      <td>1.983606</td>\n",
       "      <td>-0.263902</td>\n",
       "    </tr>\n",
       "    <tr>\n",
       "      <th>2</th>\n",
       "      <td>Animation</td>\n",
       "      <td>8.701574e+07</td>\n",
       "      <td>3.042106e+08</td>\n",
       "      <td>354.449624</td>\n",
       "      <td>1.694203</td>\n",
       "      <td>1.946955</td>\n",
       "      <td>-0.338413</td>\n",
       "    </tr>\n",
       "    <tr>\n",
       "      <th>3</th>\n",
       "      <td>Comedy</td>\n",
       "      <td>3.179032e+07</td>\n",
       "      <td>1.034974e+08</td>\n",
       "      <td>554.734239</td>\n",
       "      <td>-0.633818</td>\n",
       "      <td>-0.546802</td>\n",
       "      <td>-0.245683</td>\n",
       "    </tr>\n",
       "    <tr>\n",
       "      <th>4</th>\n",
       "      <td>Crime</td>\n",
       "      <td>3.190884e+07</td>\n",
       "      <td>9.936426e+07</td>\n",
       "      <td>420.655381</td>\n",
       "      <td>-0.628822</td>\n",
       "      <td>-0.598154</td>\n",
       "      <td>-0.307760</td>\n",
       "    </tr>\n",
       "  </tbody>\n",
       "</table>\n",
       "</div>"
      ],
      "text/plain": [
       "      genres    budget_adj   revenue_adj      ROI(%)  budget_std  revenue_std  \\\n",
       "0     Action  6.205175e+07  1.655522e+08  277.638433    0.641849     0.224196   \n",
       "1  Adventure  8.701332e+07  3.071605e+08  515.384002    1.694101     1.983606   \n",
       "2  Animation  8.701574e+07  3.042106e+08  354.449624    1.694203     1.946955   \n",
       "3     Comedy  3.179032e+07  1.034974e+08  554.734239   -0.633818    -0.546802   \n",
       "4      Crime  3.190884e+07  9.936426e+07  420.655381   -0.628822    -0.598154   \n",
       "\n",
       "    ROI_std  \n",
       "0 -0.373975  \n",
       "1 -0.263902  \n",
       "2 -0.338413  \n",
       "3 -0.245683  \n",
       "4 -0.307760  "
      ]
     },
     "execution_count": 225,
     "metadata": {},
     "output_type": "execute_result"
    }
   ],
   "source": [
    "# add standarized columns to GroupMean_by_Genres\n",
    "\n",
    "GroupMean_by_Genres['budget_std']=standarize_column(GroupMean_by_Genres.loc[:,'budget_adj'])\n",
    "GroupMean_by_Genres['revenue_std']=standarize_column(GroupMean_by_Genres.loc[:,'revenue_adj'])\n",
    "GroupMean_by_Genres['ROI_std']=standarize_column(GroupMean_by_Genres.loc[:,'ROI(%)'])\n",
    "\n",
    "print (\"Sample of previous table with standarized columns:\")\n",
    "GroupMean_by_Genres.head()"
   ]
  },
  {
   "cell_type": "markdown",
   "metadata": {},
   "source": [
    "Based on the previous correlations explored, we know that to some extent and \"with everything else being equal\", the higher the budget, the higher the revenue. Let's find out the genres that command the highest budgets and the ones that command the lowest."
   ]
  },
  {
   "cell_type": "code",
   "execution_count": 226,
   "metadata": {},
   "outputs": [
    {
     "name": "stdout",
     "output_type": "stream",
     "text": [
      "Top Genres as per budget & revenue:\n",
      "      genres  budget_std  revenue_std\n",
      "2  Animation    1.694203     1.946955\n",
      "1  Adventure    1.694101     1.983606\n",
      "7     Family    0.869359     1.557205\n",
      "\n",
      "\n",
      "\n",
      "Bottom Genres as per budget & revenue:\n",
      "         genres  budget_std  revenue_std\n",
      "5   Documentary   -1.713645    -1.451650\n",
      "15     TV Movie   -1.680914    -1.107249\n",
      "10       Horror   -1.143233    -0.839105\n"
     ]
    }
   ],
   "source": [
    "Top_Genres_Budget=GroupMean_by_Genres.nlargest(3,'budget_adj')\n",
    "Bottom_Genres_Budget=GroupMean_by_Genres.nsmallest(3,'budget_adj')\n",
    "\n",
    "print (\"Top Genres as per budget & revenue:\")\n",
    "print (Top_Genres_Budget.filter(['genres','budget_std','revenue_std']))\n",
    "print (\"\\n\\n\")\n",
    "print (\"Bottom Genres as per budget & revenue:\")\n",
    "print (Bottom_Genres_Budget.filter(['genres','budget_std','revenue_std']))"
   ]
  },
  {
   "cell_type": "markdown",
   "metadata": {},
   "source": [
    "The Animation/Adventure genre seems to command the highest budget and revenue while the Documentary genre seems to command the exact opposite (as the standard deviation shows). Also keep in mind that we only have one movie used for TV Movie so one should not consider TV Movie in the above list for analysis. And what about the genre that commands the highest ROI? The lowest ROI?"
   ]
  },
  {
   "cell_type": "markdown",
   "metadata": {},
   "source": [
    "### Movie Genres with Respect to ROI"
   ]
  },
  {
   "cell_type": "code",
   "execution_count": 227,
   "metadata": {},
   "outputs": [
    {
     "name": "stdout",
     "output_type": "stream",
     "text": [
      "Top Genres as per ROI:\n",
      "             genres   ROI_std\n",
      "10           Horror  3.963587\n",
      "5       Documentary  0.854933\n",
      "14  Science Fiction  0.050576\n",
      "\n",
      "\n",
      "\n",
      "Bottom Genres as per ROI:\n",
      "     genres   ROI_std\n",
      "17      War -0.413178\n",
      "18  Western -0.399630\n",
      "0    Action -0.373975\n"
     ]
    }
   ],
   "source": [
    "Top_Genres_ROI=GroupMean_by_Genres.nlargest(3,'ROI(%)')\n",
    "Bottom_Genres_ROI=GroupMean_by_Genres.nsmallest(3,'ROI(%)')\n",
    "\n",
    "print (\"Top Genres as per ROI:\")\n",
    "print (Top_Genres_ROI.filter(['genres','ROI', 'ROI_std']))\n",
    "print (\"\\n\\n\")\n",
    "print (\"Bottom Genres as per ROI:\")\n",
    "print (Bottom_Genres_ROI.filter(['genres','ROI','ROI_std']))"
   ]
  },
  {
   "cell_type": "markdown",
   "metadata": {},
   "source": [
    "As mentioned before,the TV Movie genre will not be considered due to lack of data. The action genre seems to command the highest ROI while the Science Fiction genre seems to command the lowest ROI (as the standard deviation shows) if we ignore the TV Movie genre. It is interesting to note that although Documentaries have the lowest budgets and lowest revenues, Documentaries are among the genres with the ROIs! Let's find out which Action movies have the highest ROIs and which Science Fiction movies have the worst."
   ]
  },
  {
   "cell_type": "code",
   "execution_count": 228,
   "metadata": {},
   "outputs": [
    {
     "name": "stdout",
     "output_type": "stream",
     "text": [
      "Top 10 movies with very high ROIs:\n"
     ]
    },
    {
     "data": {
      "text/html": [
       "<div>\n",
       "<style>\n",
       "    .dataframe thead tr:only-child th {\n",
       "        text-align: right;\n",
       "    }\n",
       "\n",
       "    .dataframe thead th {\n",
       "        text-align: left;\n",
       "    }\n",
       "\n",
       "    .dataframe tbody tr th {\n",
       "        vertical-align: top;\n",
       "    }\n",
       "</style>\n",
       "<table border=\"1\" class=\"dataframe\">\n",
       "  <thead>\n",
       "    <tr style=\"text-align: right;\">\n",
       "      <th></th>\n",
       "      <th>imdb_id</th>\n",
       "      <th>popularity</th>\n",
       "      <th>original_title</th>\n",
       "      <th>runtime</th>\n",
       "      <th>release_date</th>\n",
       "      <th>vote_count</th>\n",
       "      <th>vote_average</th>\n",
       "      <th>release_year</th>\n",
       "      <th>budget_adj</th>\n",
       "      <th>revenue_adj</th>\n",
       "      <th>director</th>\n",
       "      <th>cast</th>\n",
       "      <th>genres</th>\n",
       "      <th>production_companies</th>\n",
       "      <th>ROI(%)</th>\n",
       "    </tr>\n",
       "  </thead>\n",
       "  <tbody>\n",
       "    <tr>\n",
       "      <th>3577</th>\n",
       "      <td>tt0067927</td>\n",
       "      <td>0.275523</td>\n",
       "      <td>Vanishing Point</td>\n",
       "      <td>99</td>\n",
       "      <td>1/15/71</td>\n",
       "      <td>48</td>\n",
       "      <td>7.1</td>\n",
       "      <td>1971</td>\n",
       "      <td>7.000753e+06</td>\n",
       "      <td>3.891681e+08</td>\n",
       "      <td>Richard C. Sarafian</td>\n",
       "      <td>Barry Newman</td>\n",
       "      <td>Action</td>\n",
       "      <td>Twentieth Century Fox Film Corporation</td>\n",
       "      <td>5558.946615</td>\n",
       "    </tr>\n",
       "    <tr>\n",
       "      <th>3746</th>\n",
       "      <td>tt0057076</td>\n",
       "      <td>2.508235</td>\n",
       "      <td>From Russia With Love</td>\n",
       "      <td>115</td>\n",
       "      <td>10/11/63</td>\n",
       "      <td>458</td>\n",
       "      <td>6.7</td>\n",
       "      <td>1963</td>\n",
       "      <td>1.780045e+07</td>\n",
       "      <td>5.617734e+08</td>\n",
       "      <td>Terence Young</td>\n",
       "      <td>Sean Connery</td>\n",
       "      <td>Action</td>\n",
       "      <td>Eon Productions</td>\n",
       "      <td>3155.950600</td>\n",
       "    </tr>\n",
       "    <tr>\n",
       "      <th>3572</th>\n",
       "      <td>tt0067116</td>\n",
       "      <td>0.604241</td>\n",
       "      <td>The French Connection</td>\n",
       "      <td>104</td>\n",
       "      <td>10/9/71</td>\n",
       "      <td>201</td>\n",
       "      <td>7.0</td>\n",
       "      <td>1971</td>\n",
       "      <td>9.693351e+06</td>\n",
       "      <td>2.216479e+08</td>\n",
       "      <td>William Friedkin</td>\n",
       "      <td>Gene Hackman</td>\n",
       "      <td>Action</td>\n",
       "      <td>D'Antoni Productions</td>\n",
       "      <td>2286.597611</td>\n",
       "    </tr>\n",
       "    <tr>\n",
       "      <th>2774</th>\n",
       "      <td>tt0086960</td>\n",
       "      <td>2.108338</td>\n",
       "      <td>Beverly Hills Cop</td>\n",
       "      <td>105</td>\n",
       "      <td>11/30/84</td>\n",
       "      <td>535</td>\n",
       "      <td>6.5</td>\n",
       "      <td>1984</td>\n",
       "      <td>3.148563e+07</td>\n",
       "      <td>6.640539e+08</td>\n",
       "      <td>Martin Brest</td>\n",
       "      <td>Eddie Murphy</td>\n",
       "      <td>Action</td>\n",
       "      <td>Paramount Pictures</td>\n",
       "      <td>2109.069853</td>\n",
       "    </tr>\n",
       "    <tr>\n",
       "      <th>3335</th>\n",
       "      <td>tt0097138</td>\n",
       "      <td>0.914399</td>\n",
       "      <td>Cyborg</td>\n",
       "      <td>86</td>\n",
       "      <td>4/7/89</td>\n",
       "      <td>73</td>\n",
       "      <td>4.8</td>\n",
       "      <td>1989</td>\n",
       "      <td>8.794925e+05</td>\n",
       "      <td>1.788265e+07</td>\n",
       "      <td>Albert Pyun</td>\n",
       "      <td>Jean-Claude Van Damme</td>\n",
       "      <td>Action</td>\n",
       "      <td>Cannon Group</td>\n",
       "      <td>2033.291800</td>\n",
       "    </tr>\n",
       "    <tr>\n",
       "      <th>1065</th>\n",
       "      <td>tt1101026</td>\n",
       "      <td>0.427023</td>\n",
       "      <td>ÐÐ´Ð¼Ð¸Ñ€Ð°Ð»ÑŠ</td>\n",
       "      <td>123</td>\n",
       "      <td>6/6/08</td>\n",
       "      <td>28</td>\n",
       "      <td>6.7</td>\n",
       "      <td>2008</td>\n",
       "      <td>2.025573e+06</td>\n",
       "      <td>3.862351e+07</td>\n",
       "      <td>Andrey Kravchuk</td>\n",
       "      <td>Konstantin Khabenskiy</td>\n",
       "      <td>Action</td>\n",
       "      <td>Film Direction</td>\n",
       "      <td>1906.793900</td>\n",
       "    </tr>\n",
       "    <tr>\n",
       "      <th>2564</th>\n",
       "      <td>tt0068638</td>\n",
       "      <td>0.260584</td>\n",
       "      <td>The Getaway</td>\n",
       "      <td>118</td>\n",
       "      <td>12/13/72</td>\n",
       "      <td>42</td>\n",
       "      <td>7.2</td>\n",
       "      <td>1972</td>\n",
       "      <td>1.748053e+07</td>\n",
       "      <td>3.067830e+08</td>\n",
       "      <td>Sam Peckinpah</td>\n",
       "      <td>Steve McQueen</td>\n",
       "      <td>Action</td>\n",
       "      <td>First Artists</td>\n",
       "      <td>1754.998189</td>\n",
       "    </tr>\n",
       "    <tr>\n",
       "      <th>2563</th>\n",
       "      <td>tt0069113</td>\n",
       "      <td>0.321141</td>\n",
       "      <td>The Poseidon Adventure</td>\n",
       "      <td>117</td>\n",
       "      <td>12/1/72</td>\n",
       "      <td>144</td>\n",
       "      <td>7.7</td>\n",
       "      <td>1972</td>\n",
       "      <td>2.607280e+07</td>\n",
       "      <td>4.409595e+08</td>\n",
       "      <td>Ronald Neame</td>\n",
       "      <td>Gene Hackman</td>\n",
       "      <td>Action</td>\n",
       "      <td>Twentieth Century Fox Film Corporation</td>\n",
       "      <td>1691.262360</td>\n",
       "    </tr>\n",
       "    <tr>\n",
       "      <th>3536</th>\n",
       "      <td>tt0071110</td>\n",
       "      <td>0.463337</td>\n",
       "      <td>Airport 1975</td>\n",
       "      <td>107</td>\n",
       "      <td>10/18/74</td>\n",
       "      <td>30</td>\n",
       "      <td>6.1</td>\n",
       "      <td>1974</td>\n",
       "      <td>1.326685e+07</td>\n",
       "      <td>2.078473e+08</td>\n",
       "      <td>Jack Smight</td>\n",
       "      <td>Charlton Heston</td>\n",
       "      <td>Action</td>\n",
       "      <td>Universal Pictures</td>\n",
       "      <td>1566.666667</td>\n",
       "    </tr>\n",
       "    <tr>\n",
       "      <th>3487</th>\n",
       "      <td>tt0092644</td>\n",
       "      <td>1.074670</td>\n",
       "      <td>Beverly Hills Cop II</td>\n",
       "      <td>100</td>\n",
       "      <td>5/18/87</td>\n",
       "      <td>333</td>\n",
       "      <td>6.1</td>\n",
       "      <td>1987</td>\n",
       "      <td>3.838161e+07</td>\n",
       "      <td>5.756570e+08</td>\n",
       "      <td>Tony Scott</td>\n",
       "      <td>Eddie Murphy</td>\n",
       "      <td>Action</td>\n",
       "      <td>Paramount Pictures</td>\n",
       "      <td>1499.825180</td>\n",
       "    </tr>\n",
       "  </tbody>\n",
       "</table>\n",
       "</div>"
      ],
      "text/plain": [
       "        imdb_id  popularity          original_title  runtime release_date  \\\n",
       "3577  tt0067927    0.275523         Vanishing Point       99      1/15/71   \n",
       "3746  tt0057076    2.508235   From Russia With Love      115     10/11/63   \n",
       "3572  tt0067116    0.604241   The French Connection      104      10/9/71   \n",
       "2774  tt0086960    2.108338       Beverly Hills Cop      105     11/30/84   \n",
       "3335  tt0097138    0.914399                  Cyborg       86       4/7/89   \n",
       "1065  tt1101026    0.427023         ÐÐ´Ð¼Ð¸Ñ€Ð°Ð»ÑŠ      123       6/6/08   \n",
       "2564  tt0068638    0.260584             The Getaway      118     12/13/72   \n",
       "2563  tt0069113    0.321141  The Poseidon Adventure      117      12/1/72   \n",
       "3536  tt0071110    0.463337            Airport 1975      107     10/18/74   \n",
       "3487  tt0092644    1.074670    Beverly Hills Cop II      100      5/18/87   \n",
       "\n",
       "      vote_count  vote_average  release_year    budget_adj   revenue_adj  \\\n",
       "3577          48           7.1          1971  7.000753e+06  3.891681e+08   \n",
       "3746         458           6.7          1963  1.780045e+07  5.617734e+08   \n",
       "3572         201           7.0          1971  9.693351e+06  2.216479e+08   \n",
       "2774         535           6.5          1984  3.148563e+07  6.640539e+08   \n",
       "3335          73           4.8          1989  8.794925e+05  1.788265e+07   \n",
       "1065          28           6.7          2008  2.025573e+06  3.862351e+07   \n",
       "2564          42           7.2          1972  1.748053e+07  3.067830e+08   \n",
       "2563         144           7.7          1972  2.607280e+07  4.409595e+08   \n",
       "3536          30           6.1          1974  1.326685e+07  2.078473e+08   \n",
       "3487         333           6.1          1987  3.838161e+07  5.756570e+08   \n",
       "\n",
       "                 director                   cast  genres  \\\n",
       "3577  Richard C. Sarafian           Barry Newman  Action   \n",
       "3746        Terence Young           Sean Connery  Action   \n",
       "3572     William Friedkin           Gene Hackman  Action   \n",
       "2774         Martin Brest           Eddie Murphy  Action   \n",
       "3335          Albert Pyun  Jean-Claude Van Damme  Action   \n",
       "1065      Andrey Kravchuk  Konstantin Khabenskiy  Action   \n",
       "2564        Sam Peckinpah          Steve McQueen  Action   \n",
       "2563         Ronald Neame           Gene Hackman  Action   \n",
       "3536          Jack Smight        Charlton Heston  Action   \n",
       "3487           Tony Scott           Eddie Murphy  Action   \n",
       "\n",
       "                        production_companies       ROI(%)  \n",
       "3577  Twentieth Century Fox Film Corporation  5558.946615  \n",
       "3746                         Eon Productions  3155.950600  \n",
       "3572                    D'Antoni Productions  2286.597611  \n",
       "2774                      Paramount Pictures  2109.069853  \n",
       "3335                            Cannon Group  2033.291800  \n",
       "1065                          Film Direction  1906.793900  \n",
       "2564                           First Artists  1754.998189  \n",
       "2563  Twentieth Century Fox Film Corporation  1691.262360  \n",
       "3536                      Universal Pictures  1566.666667  \n",
       "3487                      Paramount Pictures  1499.825180  "
      ]
     },
     "execution_count": 228,
     "metadata": {},
     "output_type": "execute_result"
    }
   ],
   "source": [
    "Action_df=movie_database_analysis_df[movie_database_analysis_df['genres'].str.contains(\"Action\")]\n",
    "\n",
    "print (\"Top 10 movies with very high ROIs:\")\n",
    "Action_df.nlargest(10,'ROI(%)')"
   ]
  },
  {
   "cell_type": "markdown",
   "metadata": {},
   "source": [
    "I must admit that I'm not too familiar with many of these movies (most them being prior 1980) but I do recognize the Beverly Hill Cop Triology with the very talend Eddie Murphy. Grew up loving those movies!"
   ]
  },
  {
   "cell_type": "code",
   "execution_count": 229,
   "metadata": {},
   "outputs": [
    {
     "name": "stdout",
     "output_type": "stream",
     "text": [
      "Bottom 10 movies with very low ROIs:\n"
     ]
    },
    {
     "data": {
      "text/html": [
       "<div>\n",
       "<style>\n",
       "    .dataframe thead tr:only-child th {\n",
       "        text-align: right;\n",
       "    }\n",
       "\n",
       "    .dataframe thead th {\n",
       "        text-align: left;\n",
       "    }\n",
       "\n",
       "    .dataframe tbody tr th {\n",
       "        vertical-align: top;\n",
       "    }\n",
       "</style>\n",
       "<table border=\"1\" class=\"dataframe\">\n",
       "  <thead>\n",
       "    <tr style=\"text-align: right;\">\n",
       "      <th></th>\n",
       "      <th>imdb_id</th>\n",
       "      <th>popularity</th>\n",
       "      <th>original_title</th>\n",
       "      <th>runtime</th>\n",
       "      <th>release_date</th>\n",
       "      <th>vote_count</th>\n",
       "      <th>vote_average</th>\n",
       "      <th>release_year</th>\n",
       "      <th>budget_adj</th>\n",
       "      <th>revenue_adj</th>\n",
       "      <th>director</th>\n",
       "      <th>cast</th>\n",
       "      <th>genres</th>\n",
       "      <th>production_companies</th>\n",
       "      <th>ROI(%)</th>\n",
       "    </tr>\n",
       "  </thead>\n",
       "  <tbody>\n",
       "    <tr>\n",
       "      <th>3382</th>\n",
       "      <td>tt0103060</td>\n",
       "      <td>0.799449</td>\n",
       "      <td>Teenage Mutant Ninja Turtles II: The Secret of...</td>\n",
       "      <td>88</td>\n",
       "      <td>3/22/91</td>\n",
       "      <td>161</td>\n",
       "      <td>6.0</td>\n",
       "      <td>1991</td>\n",
       "      <td>4.002732e+07</td>\n",
       "      <td>1.248852e+02</td>\n",
       "      <td>Michael Pressman</td>\n",
       "      <td>Paige Turco</td>\n",
       "      <td>Science Fiction</td>\n",
       "      <td>New Line Cinema</td>\n",
       "      <td>0.000312</td>\n",
       "    </tr>\n",
       "    <tr>\n",
       "      <th>3504</th>\n",
       "      <td>tt0092746</td>\n",
       "      <td>0.447184</td>\n",
       "      <td>Cherry 2000</td>\n",
       "      <td>99</td>\n",
       "      <td>11/12/87</td>\n",
       "      <td>35</td>\n",
       "      <td>6.0</td>\n",
       "      <td>1987</td>\n",
       "      <td>1.919080e+07</td>\n",
       "      <td>2.686713e+04</td>\n",
       "      <td>Steve De Jarnatt</td>\n",
       "      <td>Melanie Griffith</td>\n",
       "      <td>Science Fiction</td>\n",
       "      <td>ERP Productions</td>\n",
       "      <td>0.140000</td>\n",
       "    </tr>\n",
       "    <tr>\n",
       "      <th>1293</th>\n",
       "      <td>tt1535616</td>\n",
       "      <td>0.189663</td>\n",
       "      <td>The Divide</td>\n",
       "      <td>112</td>\n",
       "      <td>3/13/11</td>\n",
       "      <td>86</td>\n",
       "      <td>5.6</td>\n",
       "      <td>2011</td>\n",
       "      <td>2.908194e+06</td>\n",
       "      <td>2.132676e+04</td>\n",
       "      <td>Xavier Gens</td>\n",
       "      <td>Lauren German</td>\n",
       "      <td>Science Fiction</td>\n",
       "      <td>Instinctive Film</td>\n",
       "      <td>0.733333</td>\n",
       "    </tr>\n",
       "    <tr>\n",
       "      <th>389</th>\n",
       "      <td>tt0485947</td>\n",
       "      <td>1.260010</td>\n",
       "      <td>Mr. Nobody</td>\n",
       "      <td>141</td>\n",
       "      <td>9/11/09</td>\n",
       "      <td>827</td>\n",
       "      <td>7.8</td>\n",
       "      <td>2009</td>\n",
       "      <td>4.777082e+07</td>\n",
       "      <td>3.605385e+06</td>\n",
       "      <td>Jaco Van Dormael</td>\n",
       "      <td>Jared Leto</td>\n",
       "      <td>Science Fiction</td>\n",
       "      <td>Pan EuropÃ©enne Production</td>\n",
       "      <td>7.547253</td>\n",
       "    </tr>\n",
       "    <tr>\n",
       "      <th>1842</th>\n",
       "      <td>tt0120207</td>\n",
       "      <td>0.345909</td>\n",
       "      <td>Steel</td>\n",
       "      <td>97</td>\n",
       "      <td>8/15/97</td>\n",
       "      <td>19</td>\n",
       "      <td>4.3</td>\n",
       "      <td>1997</td>\n",
       "      <td>2.173537e+07</td>\n",
       "      <td>2.290947e+06</td>\n",
       "      <td>Kenneth Johnson</td>\n",
       "      <td>Shaquille O'Neal</td>\n",
       "      <td>Science Fiction</td>\n",
       "      <td>Warner Bros. Pictures</td>\n",
       "      <td>10.540181</td>\n",
       "    </tr>\n",
       "    <tr>\n",
       "      <th>3170</th>\n",
       "      <td>tt0134983</td>\n",
       "      <td>0.385350</td>\n",
       "      <td>Supernova</td>\n",
       "      <td>91</td>\n",
       "      <td>1/14/00</td>\n",
       "      <td>42</td>\n",
       "      <td>4.7</td>\n",
       "      <td>2000</td>\n",
       "      <td>1.139663e+08</td>\n",
       "      <td>1.877668e+07</td>\n",
       "      <td>Walter Hill</td>\n",
       "      <td>James Spader</td>\n",
       "      <td>Science Fiction</td>\n",
       "      <td>United Artists</td>\n",
       "      <td>16.475646</td>\n",
       "    </tr>\n",
       "    <tr>\n",
       "      <th>3250</th>\n",
       "      <td>tt0120184</td>\n",
       "      <td>1.152417</td>\n",
       "      <td>Sphere</td>\n",
       "      <td>134</td>\n",
       "      <td>2/13/98</td>\n",
       "      <td>238</td>\n",
       "      <td>5.6</td>\n",
       "      <td>1998</td>\n",
       "      <td>1.003272e+08</td>\n",
       "      <td>1.752381e+07</td>\n",
       "      <td>Barry Levinson</td>\n",
       "      <td>Dustin Hoffman</td>\n",
       "      <td>Science Fiction</td>\n",
       "      <td>Punch Productions</td>\n",
       "      <td>17.466667</td>\n",
       "    </tr>\n",
       "    <tr>\n",
       "      <th>2672</th>\n",
       "      <td>tt0427392</td>\n",
       "      <td>0.726521</td>\n",
       "      <td>The Invasion</td>\n",
       "      <td>99</td>\n",
       "      <td>8/17/07</td>\n",
       "      <td>156</td>\n",
       "      <td>5.4</td>\n",
       "      <td>2007</td>\n",
       "      <td>8.413349e+07</td>\n",
       "      <td>1.585024e+07</td>\n",
       "      <td>Oliver Hirschbiegel</td>\n",
       "      <td>Nicole Kidman</td>\n",
       "      <td>Science Fiction</td>\n",
       "      <td>Village Roadshow Pictures</td>\n",
       "      <td>18.839393</td>\n",
       "    </tr>\n",
       "    <tr>\n",
       "      <th>3792</th>\n",
       "      <td>tt0091472</td>\n",
       "      <td>0.277984</td>\n",
       "      <td>The Manhattan Project</td>\n",
       "      <td>118</td>\n",
       "      <td>6/13/86</td>\n",
       "      <td>11</td>\n",
       "      <td>6.0</td>\n",
       "      <td>1986</td>\n",
       "      <td>3.580932e+07</td>\n",
       "      <td>7.758685e+06</td>\n",
       "      <td>Marshall Brickman</td>\n",
       "      <td>John Lithgow</td>\n",
       "      <td>Science Fiction</td>\n",
       "      <td>Gladden Entertainment</td>\n",
       "      <td>21.666667</td>\n",
       "    </tr>\n",
       "    <tr>\n",
       "      <th>3347</th>\n",
       "      <td>tt0097889</td>\n",
       "      <td>0.481276</td>\n",
       "      <td>Miracle Mile</td>\n",
       "      <td>87</td>\n",
       "      <td>5/19/89</td>\n",
       "      <td>19</td>\n",
       "      <td>6.9</td>\n",
       "      <td>1989</td>\n",
       "      <td>5.276955e+06</td>\n",
       "      <td>2.014748e+06</td>\n",
       "      <td>Steve De Jarnatt</td>\n",
       "      <td>Anthony Edwards</td>\n",
       "      <td>Science Fiction</td>\n",
       "      <td>Hemdale Film</td>\n",
       "      <td>38.180133</td>\n",
       "    </tr>\n",
       "  </tbody>\n",
       "</table>\n",
       "</div>"
      ],
      "text/plain": [
       "        imdb_id  popularity  \\\n",
       "3382  tt0103060    0.799449   \n",
       "3504  tt0092746    0.447184   \n",
       "1293  tt1535616    0.189663   \n",
       "389   tt0485947    1.260010   \n",
       "1842  tt0120207    0.345909   \n",
       "3170  tt0134983    0.385350   \n",
       "3250  tt0120184    1.152417   \n",
       "2672  tt0427392    0.726521   \n",
       "3792  tt0091472    0.277984   \n",
       "3347  tt0097889    0.481276   \n",
       "\n",
       "                                         original_title  runtime release_date  \\\n",
       "3382  Teenage Mutant Ninja Turtles II: The Secret of...       88      3/22/91   \n",
       "3504                                        Cherry 2000       99     11/12/87   \n",
       "1293                                         The Divide      112      3/13/11   \n",
       "389                                          Mr. Nobody      141      9/11/09   \n",
       "1842                                              Steel       97      8/15/97   \n",
       "3170                                          Supernova       91      1/14/00   \n",
       "3250                                             Sphere      134      2/13/98   \n",
       "2672                                       The Invasion       99      8/17/07   \n",
       "3792                              The Manhattan Project      118      6/13/86   \n",
       "3347                                       Miracle Mile       87      5/19/89   \n",
       "\n",
       "      vote_count  vote_average  release_year    budget_adj   revenue_adj  \\\n",
       "3382         161           6.0          1991  4.002732e+07  1.248852e+02   \n",
       "3504          35           6.0          1987  1.919080e+07  2.686713e+04   \n",
       "1293          86           5.6          2011  2.908194e+06  2.132676e+04   \n",
       "389          827           7.8          2009  4.777082e+07  3.605385e+06   \n",
       "1842          19           4.3          1997  2.173537e+07  2.290947e+06   \n",
       "3170          42           4.7          2000  1.139663e+08  1.877668e+07   \n",
       "3250         238           5.6          1998  1.003272e+08  1.752381e+07   \n",
       "2672         156           5.4          2007  8.413349e+07  1.585024e+07   \n",
       "3792          11           6.0          1986  3.580932e+07  7.758685e+06   \n",
       "3347          19           6.9          1989  5.276955e+06  2.014748e+06   \n",
       "\n",
       "                 director              cast           genres  \\\n",
       "3382     Michael Pressman       Paige Turco  Science Fiction   \n",
       "3504     Steve De Jarnatt  Melanie Griffith  Science Fiction   \n",
       "1293          Xavier Gens     Lauren German  Science Fiction   \n",
       "389      Jaco Van Dormael        Jared Leto  Science Fiction   \n",
       "1842      Kenneth Johnson  Shaquille O'Neal  Science Fiction   \n",
       "3170          Walter Hill      James Spader  Science Fiction   \n",
       "3250       Barry Levinson    Dustin Hoffman  Science Fiction   \n",
       "2672  Oliver Hirschbiegel     Nicole Kidman  Science Fiction   \n",
       "3792    Marshall Brickman      John Lithgow  Science Fiction   \n",
       "3347     Steve De Jarnatt   Anthony Edwards  Science Fiction   \n",
       "\n",
       "            production_companies     ROI(%)  \n",
       "3382             New Line Cinema   0.000312  \n",
       "3504             ERP Productions   0.140000  \n",
       "1293            Instinctive Film   0.733333  \n",
       "389   Pan EuropÃ©enne Production   7.547253  \n",
       "1842       Warner Bros. Pictures  10.540181  \n",
       "3170              United Artists  16.475646  \n",
       "3250           Punch Productions  17.466667  \n",
       "2672   Village Roadshow Pictures  18.839393  \n",
       "3792       Gladden Entertainment  21.666667  \n",
       "3347                Hemdale Film  38.180133  "
      ]
     },
     "execution_count": 229,
     "metadata": {},
     "output_type": "execute_result"
    }
   ],
   "source": [
    "ScienceFiction_df=movie_database_analysis_df[movie_database_analysis_df['genres'].str.contains(\"Science Fiction\")]\n",
    "\n",
    "print (\"Bottom 10 movies with very low ROIs:\")\n",
    "ScienceFiction_df.nsmallest(10,'ROI(%)')"
   ]
  },
  {
   "cell_type": "markdown",
   "metadata": {},
   "source": [
    "I haven't seen any movies on that list and contrary to the previous list, all of these movies are past 1980 (maybe why they have such a bad ROI...)."
   ]
  },
  {
   "cell_type": "markdown",
   "metadata": {},
   "source": [
    "### Impact of Budget & Popularity on Revenue"
   ]
  },
  {
   "cell_type": "code",
   "execution_count": null,
   "metadata": {
    "collapsed": true
   },
   "outputs": [],
   "source": []
  },
  {
   "cell_type": "code",
   "execution_count": 230,
   "metadata": {},
   "outputs": [
    {
     "name": "stdout",
     "output_type": "stream",
     "text": [
      "Sample of grouped popularity & budget with respect to revenue:\n"
     ]
    },
    {
     "data": {
      "text/html": [
       "<div>\n",
       "<style>\n",
       "    .dataframe thead tr:only-child th {\n",
       "        text-align: right;\n",
       "    }\n",
       "\n",
       "    .dataframe thead th {\n",
       "        text-align: left;\n",
       "    }\n",
       "\n",
       "    .dataframe tbody tr th {\n",
       "        vertical-align: top;\n",
       "    }\n",
       "</style>\n",
       "<table border=\"1\" class=\"dataframe\">\n",
       "  <thead>\n",
       "    <tr style=\"text-align: right;\">\n",
       "      <th></th>\n",
       "      <th>popularity</th>\n",
       "      <th>budget_adj</th>\n",
       "      <th>mean_revenue</th>\n",
       "    </tr>\n",
       "  </thead>\n",
       "  <tbody>\n",
       "    <tr>\n",
       "      <th>0</th>\n",
       "      <td>0.010335</td>\n",
       "      <td>2.808100e+07</td>\n",
       "      <td>6.377150e+07</td>\n",
       "    </tr>\n",
       "    <tr>\n",
       "      <th>1</th>\n",
       "      <td>0.015727</td>\n",
       "      <td>3.283968e+07</td>\n",
       "      <td>3.612365e+07</td>\n",
       "    </tr>\n",
       "    <tr>\n",
       "      <th>2</th>\n",
       "      <td>0.015997</td>\n",
       "      <td>1.899438e+07</td>\n",
       "      <td>6.606877e+06</td>\n",
       "    </tr>\n",
       "    <tr>\n",
       "      <th>3</th>\n",
       "      <td>0.017498</td>\n",
       "      <td>1.341094e+08</td>\n",
       "      <td>1.353482e+08</td>\n",
       "    </tr>\n",
       "    <tr>\n",
       "      <th>4</th>\n",
       "      <td>0.021371</td>\n",
       "      <td>3.544753e+06</td>\n",
       "      <td>7.798457e+06</td>\n",
       "    </tr>\n",
       "  </tbody>\n",
       "</table>\n",
       "</div>"
      ],
      "text/plain": [
       "   popularity    budget_adj  mean_revenue\n",
       "0    0.010335  2.808100e+07  6.377150e+07\n",
       "1    0.015727  3.283968e+07  3.612365e+07\n",
       "2    0.015997  1.899438e+07  6.606877e+06\n",
       "3    0.017498  1.341094e+08  1.353482e+08\n",
       "4    0.021371  3.544753e+06  7.798457e+06"
      ]
     },
     "execution_count": 230,
     "metadata": {},
     "output_type": "execute_result"
    }
   ],
   "source": [
    "Groupby_BudgetPopularity=pd.DataFrame({'mean_revenue':movie_database_analysis_df.groupby(['popularity','budget_adj'])['revenue_adj'].mean()}).reset_index()\n",
    "\n",
    "\n",
    "print (\"Sample of grouped popularity & budget with respect to revenue:\")\n",
    "Groupby_BudgetPopularity.head()"
   ]
  },
  {
   "cell_type": "code",
   "execution_count": 231,
   "metadata": {},
   "outputs": [
    {
     "name": "stdout",
     "output_type": "stream",
     "text": [
      "Pearson r between popularity, budget and revenue:\n"
     ]
    },
    {
     "data": {
      "text/html": [
       "<div>\n",
       "<style>\n",
       "    .dataframe thead tr:only-child th {\n",
       "        text-align: right;\n",
       "    }\n",
       "\n",
       "    .dataframe thead th {\n",
       "        text-align: left;\n",
       "    }\n",
       "\n",
       "    .dataframe tbody tr th {\n",
       "        vertical-align: top;\n",
       "    }\n",
       "</style>\n",
       "<table border=\"1\" class=\"dataframe\">\n",
       "  <thead>\n",
       "    <tr style=\"text-align: right;\">\n",
       "      <th></th>\n",
       "      <th>popularity</th>\n",
       "      <th>budget_adj</th>\n",
       "      <th>mean_revenue</th>\n",
       "    </tr>\n",
       "  </thead>\n",
       "  <tbody>\n",
       "    <tr>\n",
       "      <th>popularity</th>\n",
       "      <td>1.000000</td>\n",
       "      <td>0.392644</td>\n",
       "      <td>0.543146</td>\n",
       "    </tr>\n",
       "    <tr>\n",
       "      <th>budget_adj</th>\n",
       "      <td>0.392644</td>\n",
       "      <td>1.000000</td>\n",
       "      <td>0.566063</td>\n",
       "    </tr>\n",
       "    <tr>\n",
       "      <th>mean_revenue</th>\n",
       "      <td>0.543146</td>\n",
       "      <td>0.566063</td>\n",
       "      <td>1.000000</td>\n",
       "    </tr>\n",
       "  </tbody>\n",
       "</table>\n",
       "</div>"
      ],
      "text/plain": [
       "              popularity  budget_adj  mean_revenue\n",
       "popularity      1.000000    0.392644      0.543146\n",
       "budget_adj      0.392644    1.000000      0.566063\n",
       "mean_revenue    0.543146    0.566063      1.000000"
      ]
     },
     "execution_count": 231,
     "metadata": {},
     "output_type": "execute_result"
    }
   ],
   "source": [
    "# correlation between popularity, budget and revenue\n",
    "\n",
    "print (\"Pearson r between popularity, budget and revenue:\")\n",
    "Groupby_BudgetPopularity.corr()"
   ]
  },
  {
   "cell_type": "raw",
   "metadata": {},
   "source": [
    "As it can be seen in the above, there is a moderately strong correlation between popularity and budget with respect to the average revenue. The higher the popularity and budget, the higher the revenue. Let's do a plot to better visual those findings."
   ]
  },
  {
   "cell_type": "code",
   "execution_count": 232,
   "metadata": {},
   "outputs": [
    {
     "name": "stdout",
     "output_type": "stream",
     "text": [
      "Sample of grouped popularity & budget with standarized columns:\n"
     ]
    },
    {
     "data": {
      "text/html": [
       "<div>\n",
       "<style>\n",
       "    .dataframe thead tr:only-child th {\n",
       "        text-align: right;\n",
       "    }\n",
       "\n",
       "    .dataframe thead th {\n",
       "        text-align: left;\n",
       "    }\n",
       "\n",
       "    .dataframe tbody tr th {\n",
       "        vertical-align: top;\n",
       "    }\n",
       "</style>\n",
       "<table border=\"1\" class=\"dataframe\">\n",
       "  <thead>\n",
       "    <tr style=\"text-align: right;\">\n",
       "      <th></th>\n",
       "      <th>popularity</th>\n",
       "      <th>budget_adj</th>\n",
       "      <th>mean_revenue</th>\n",
       "      <th>popularity_std</th>\n",
       "      <th>budget_adj_std</th>\n",
       "      <th>mean_revenue_std</th>\n",
       "    </tr>\n",
       "  </thead>\n",
       "  <tbody>\n",
       "    <tr>\n",
       "      <th>0</th>\n",
       "      <td>0.010335</td>\n",
       "      <td>2.808100e+07</td>\n",
       "      <td>6.377150e+07</td>\n",
       "      <td>-0.809822</td>\n",
       "      <td>-0.379753</td>\n",
       "      <td>-0.350968</td>\n",
       "    </tr>\n",
       "    <tr>\n",
       "      <th>1</th>\n",
       "      <td>0.015727</td>\n",
       "      <td>3.283968e+07</td>\n",
       "      <td>3.612365e+07</td>\n",
       "      <td>-0.806194</td>\n",
       "      <td>-0.273911</td>\n",
       "      <td>-0.477881</td>\n",
       "    </tr>\n",
       "    <tr>\n",
       "      <th>2</th>\n",
       "      <td>0.015997</td>\n",
       "      <td>1.899438e+07</td>\n",
       "      <td>6.606877e+06</td>\n",
       "      <td>-0.806012</td>\n",
       "      <td>-0.581857</td>\n",
       "      <td>-0.613374</td>\n",
       "    </tr>\n",
       "    <tr>\n",
       "      <th>3</th>\n",
       "      <td>0.017498</td>\n",
       "      <td>1.341094e+08</td>\n",
       "      <td>1.353482e+08</td>\n",
       "      <td>-0.805002</td>\n",
       "      <td>1.978525</td>\n",
       "      <td>-0.022404</td>\n",
       "    </tr>\n",
       "    <tr>\n",
       "      <th>4</th>\n",
       "      <td>0.021371</td>\n",
       "      <td>3.544753e+06</td>\n",
       "      <td>7.798457e+06</td>\n",
       "      <td>-0.802396</td>\n",
       "      <td>-0.925487</td>\n",
       "      <td>-0.607904</td>\n",
       "    </tr>\n",
       "  </tbody>\n",
       "</table>\n",
       "</div>"
      ],
      "text/plain": [
       "   popularity    budget_adj  mean_revenue  popularity_std  budget_adj_std  \\\n",
       "0    0.010335  2.808100e+07  6.377150e+07       -0.809822       -0.379753   \n",
       "1    0.015727  3.283968e+07  3.612365e+07       -0.806194       -0.273911   \n",
       "2    0.015997  1.899438e+07  6.606877e+06       -0.806012       -0.581857   \n",
       "3    0.017498  1.341094e+08  1.353482e+08       -0.805002        1.978525   \n",
       "4    0.021371  3.544753e+06  7.798457e+06       -0.802396       -0.925487   \n",
       "\n",
       "   mean_revenue_std  \n",
       "0         -0.350968  \n",
       "1         -0.477881  \n",
       "2         -0.613374  \n",
       "3         -0.022404  \n",
       "4         -0.607904  "
      ]
     },
     "execution_count": 232,
     "metadata": {},
     "output_type": "execute_result"
    }
   ],
   "source": [
    "# add standarized columns\n",
    "\n",
    "Groupby_BudgetPopularity['popularity_std']=standarize_column(Groupby_BudgetPopularity.loc[:,'popularity'])\n",
    "Groupby_BudgetPopularity['budget_adj_std']=standarize_column(Groupby_BudgetPopularity.loc[:,'budget_adj'])\n",
    "Groupby_BudgetPopularity['mean_revenue_std']=standarize_column(Groupby_BudgetPopularity.loc[:,'mean_revenue'])\n",
    "\n",
    "print (\"Sample of grouped popularity & budget with standarized columns:\")\n",
    "Groupby_BudgetPopularity.head()"
   ]
  },
  {
   "cell_type": "markdown",
   "metadata": {},
   "source": [
    "Let's now plot the relationship between these three variables in terms of standard deviation as it will be easier to fit them in the same plot."
   ]
  },
  {
   "cell_type": "code",
   "execution_count": 233,
   "metadata": {},
   "outputs": [
    {
     "data": {
      "text/plain": [
       "Text(0.5,1,'Relationship between popularity, budget with respect to biggest movie revenues')"
      ]
     },
     "execution_count": 233,
     "metadata": {},
     "output_type": "execute_result"
    },
    {
     "data": {
      "image/png": "[encoded data removed]",
      "text/plain": [
       "<matplotlib.figure.Figure at 0x1e9d8940>"
      ]
     },
     "metadata": {},
     "output_type": "display_data"
    }
   ],
   "source": [
    "# plot the biggest revenues\n",
    "\n",
    "Groupby_BudgetPopularity.nlargest(40,'mean_revenue_std').filter(['popularity_std','budget_adj_std','mean_revenue_std']).plot.bar(figsize=(20,10))\n",
    "plt.ylabel('Standard Deviation Value')\n",
    "plt.xlabel('Various Movies')\n",
    "plt.title('Relationship between popularity, budget with respect to biggest movie revenues')"
   ]
  },
  {
   "cell_type": "code",
   "execution_count": 234,
   "metadata": {},
   "outputs": [
    {
     "data": {
      "text/plain": [
       "Text(0.5,1,'Relationship between popularity, budget with respect to smallest movie revenues')"
      ]
     },
     "execution_count": 234,
     "metadata": {},
     "output_type": "execute_result"
    },
    {
     "data": {
      "image/png": "[encoded data removed]",
      "text/plain": [
       "<matplotlib.figure.Figure at 0x1e30c828>"
      ]
     },
     "metadata": {},
     "output_type": "display_data"
    }
   ],
   "source": [
    "Groupby_BudgetPopularity.nsmallest(40,'mean_revenue_std').filter(['popularity_std','budget_adj_std','mean_revenue_std']).plot.bar(figsize=(20,10))\n",
    "plt.ylabel('Standard Deviation Value')\n",
    "plt.xlabel('Various Movies')\n",
    "plt.title('Relationship between popularity, budget with respect to smallest movie revenues')"
   ]
  },
  {
   "cell_type": "markdown",
   "metadata": {},
   "source": [
    "The two previous plot confirm the correlation. In general, if the budget and popularity standard deviations are positive (i.e.:higher than the average) it translates into higher revenues. If on the other hand, budget and popularity standard deviations are negative (i.e.: lower than the average) it translates into lower revenues."
   ]
  },
  {
   "cell_type": "markdown",
   "metadata": {},
   "source": [
    "## The Production Company Interaction"
   ]
  },
  {
   "cell_type": "markdown",
   "metadata": {},
   "source": [
    "Next we will do an analysis with respect to production companies which includes the number of movies made, the popularity and average rating, best ROIs etc."
   ]
  },
  {
   "cell_type": "markdown",
   "metadata": {},
   "source": [
    "### Number of Movies Made by Production Companies"
   ]
  },
  {
   "cell_type": "code",
   "execution_count": 235,
   "metadata": {},
   "outputs": [
    {
     "name": "stdout",
     "output_type": "stream",
     "text": [
      "Top 10 production companies in terms of number of movies made:\n"
     ]
    },
    {
     "data": {
      "text/plain": [
       "Universal Pictures                        282\n",
       "Paramount Pictures                        261\n",
       "Columbia Pictures                         175\n",
       "Twentieth Century Fox Film Corporation    163\n",
       "New Line Cinema                           141\n",
       "Walt Disney Pictures                      117\n",
       "Miramax Films                              76\n",
       "Warner Bros.                               74\n",
       "Village Roadshow Pictures                  66\n",
       "Columbia Pictures Corporation              65\n",
       "Name: production_companies, dtype: int64"
      ]
     },
     "execution_count": 235,
     "metadata": {},
     "output_type": "execute_result"
    }
   ],
   "source": [
    "# find out the number of movies produced by production companies\n",
    "\n",
    "production_companies_count=movie_database_analysis_df['production_companies'].value_counts()\n",
    "\n",
    "print (\"Top 10 production companies in terms of number of movies made:\")\n",
    "production_companies_count.iloc[0:10]"
   ]
  },
  {
   "cell_type": "markdown",
   "metadata": {},
   "source": [
    "Unsurprisingly to the movie amateur, the big producing companies are some very well knowns names such as Universal Pictures, Twentieth Century Fox Film Corp or Walt Disney Pictures. For our analysis, we will only consider production companies that have made at least 10 movies."
   ]
  },
  {
   "cell_type": "code",
   "execution_count": 236,
   "metadata": {
    "collapsed": true
   },
   "outputs": [],
   "source": [
    "# list of production companies that have made at least 10 movies since 1960\n",
    "\n",
    "production_companies_10=production_companies_count[production_companies_count>=10]\n",
    "production_companies_10=production_companies_10.index.values"
   ]
  },
  {
   "cell_type": "code",
   "execution_count": 237,
   "metadata": {
    "collapsed": true
   },
   "outputs": [],
   "source": [
    "# create a dataframe of production companies with at least 10 movies\n",
    "\n",
    "production_companies_df=movie_database_analysis_df[movie_database_analysis_df['production_companies']\n",
    "                                                   .isin(production_companies_10)]"
   ]
  },
  {
   "cell_type": "code",
   "execution_count": 238,
   "metadata": {},
   "outputs": [
    {
     "name": "stdout",
     "output_type": "stream",
     "text": [
      "Sample of production companies dataframe with the mean average of various metric: \n"
     ]
    },
    {
     "data": {
      "text/html": [
       "<div>\n",
       "<style>\n",
       "    .dataframe thead tr:only-child th {\n",
       "        text-align: right;\n",
       "    }\n",
       "\n",
       "    .dataframe thead th {\n",
       "        text-align: left;\n",
       "    }\n",
       "\n",
       "    .dataframe tbody tr th {\n",
       "        vertical-align: top;\n",
       "    }\n",
       "</style>\n",
       "<table border=\"1\" class=\"dataframe\">\n",
       "  <thead>\n",
       "    <tr style=\"text-align: right;\">\n",
       "      <th></th>\n",
       "      <th>production_companies</th>\n",
       "      <th>popularity</th>\n",
       "      <th>vote_average</th>\n",
       "      <th>budget_adj</th>\n",
       "      <th>revenue_adj</th>\n",
       "      <th>ROI(%)</th>\n",
       "    </tr>\n",
       "  </thead>\n",
       "  <tbody>\n",
       "    <tr>\n",
       "      <th>0</th>\n",
       "      <td>20th Century Fox</td>\n",
       "      <td>0.692351</td>\n",
       "      <td>5.871053</td>\n",
       "      <td>4.582774e+07</td>\n",
       "      <td>1.072559e+08</td>\n",
       "      <td>485.188822</td>\n",
       "    </tr>\n",
       "    <tr>\n",
       "      <th>1</th>\n",
       "      <td>Alcon Entertainment</td>\n",
       "      <td>1.187149</td>\n",
       "      <td>6.250000</td>\n",
       "      <td>4.373326e+07</td>\n",
       "      <td>9.491422e+07</td>\n",
       "      <td>243.108080</td>\n",
       "    </tr>\n",
       "    <tr>\n",
       "      <th>2</th>\n",
       "      <td>Amblin Entertainment</td>\n",
       "      <td>1.595552</td>\n",
       "      <td>6.561538</td>\n",
       "      <td>8.215318e+07</td>\n",
       "      <td>3.258496e+08</td>\n",
       "      <td>494.792867</td>\n",
       "    </tr>\n",
       "    <tr>\n",
       "      <th>3</th>\n",
       "      <td>American Zoetrope</td>\n",
       "      <td>0.759980</td>\n",
       "      <td>6.366667</td>\n",
       "      <td>2.981628e+07</td>\n",
       "      <td>8.032237e+07</td>\n",
       "      <td>423.589242</td>\n",
       "    </tr>\n",
       "    <tr>\n",
       "      <th>4</th>\n",
       "      <td>BBC Films</td>\n",
       "      <td>0.720756</td>\n",
       "      <td>6.309524</td>\n",
       "      <td>1.219228e+07</td>\n",
       "      <td>3.138219e+07</td>\n",
       "      <td>360.598104</td>\n",
       "    </tr>\n",
       "  </tbody>\n",
       "</table>\n",
       "</div>"
      ],
      "text/plain": [
       "   production_companies  popularity  vote_average    budget_adj   revenue_adj  \\\n",
       "0      20th Century Fox    0.692351      5.871053  4.582774e+07  1.072559e+08   \n",
       "1   Alcon Entertainment    1.187149      6.250000  4.373326e+07  9.491422e+07   \n",
       "2  Amblin Entertainment    1.595552      6.561538  8.215318e+07  3.258496e+08   \n",
       "3     American Zoetrope    0.759980      6.366667  2.981628e+07  8.032237e+07   \n",
       "4             BBC Films    0.720756      6.309524  1.219228e+07  3.138219e+07   \n",
       "\n",
       "       ROI(%)  \n",
       "0  485.188822  \n",
       "1  243.108080  \n",
       "2  494.792867  \n",
       "3  423.589242  \n",
       "4  360.598104  "
      ]
     },
     "execution_count": 238,
     "metadata": {},
     "output_type": "execute_result"
    }
   ],
   "source": [
    "# create dataframe grouped by production companies and get the mean for various metrics\n",
    "\n",
    "Groupby_ProductionCompanies=production_companies_df.groupby(['production_companies'], as_index=False).mean().drop(['release_year','runtime',\n",
    "                                                                                                   'vote_count'],1)\n",
    "\n",
    "print (\"Sample of production companies dataframe with the mean average of various metric: \")\n",
    "Groupby_ProductionCompanies.head()"
   ]
  },
  {
   "cell_type": "code",
   "execution_count": 239,
   "metadata": {},
   "outputs": [
    {
     "name": "stdout",
     "output_type": "stream",
     "text": [
      "Sample of production companies dataframe with standarized columns: \n"
     ]
    },
    {
     "data": {
      "text/html": [
       "<div>\n",
       "<style>\n",
       "    .dataframe thead tr:only-child th {\n",
       "        text-align: right;\n",
       "    }\n",
       "\n",
       "    .dataframe thead th {\n",
       "        text-align: left;\n",
       "    }\n",
       "\n",
       "    .dataframe tbody tr th {\n",
       "        vertical-align: top;\n",
       "    }\n",
       "</style>\n",
       "<table border=\"1\" class=\"dataframe\">\n",
       "  <thead>\n",
       "    <tr style=\"text-align: right;\">\n",
       "      <th></th>\n",
       "      <th>production_companies</th>\n",
       "      <th>popularity</th>\n",
       "      <th>vote_average</th>\n",
       "      <th>budget_adj</th>\n",
       "      <th>revenue_adj</th>\n",
       "      <th>ROI(%)</th>\n",
       "      <th>popularity_std</th>\n",
       "      <th>vote_average_std</th>\n",
       "      <th>budget_std</th>\n",
       "      <th>revenue_std</th>\n",
       "      <th>ROI_std</th>\n",
       "    </tr>\n",
       "  </thead>\n",
       "  <tbody>\n",
       "    <tr>\n",
       "      <th>0</th>\n",
       "      <td>20th Century Fox</td>\n",
       "      <td>0.692351</td>\n",
       "      <td>5.871053</td>\n",
       "      <td>4.582774e+07</td>\n",
       "      <td>1.072559e+08</td>\n",
       "      <td>485.188822</td>\n",
       "      <td>-0.724967</td>\n",
       "      <td>-0.924870</td>\n",
       "      <td>-0.317183</td>\n",
       "      <td>-0.463005</td>\n",
       "      <td>0.153841</td>\n",
       "    </tr>\n",
       "    <tr>\n",
       "      <th>1</th>\n",
       "      <td>Alcon Entertainment</td>\n",
       "      <td>1.187149</td>\n",
       "      <td>6.250000</td>\n",
       "      <td>4.373326e+07</td>\n",
       "      <td>9.491422e+07</td>\n",
       "      <td>243.108080</td>\n",
       "      <td>-0.280833</td>\n",
       "      <td>0.170691</td>\n",
       "      <td>-0.381831</td>\n",
       "      <td>-0.529453</td>\n",
       "      <td>-0.539296</td>\n",
       "    </tr>\n",
       "    <tr>\n",
       "      <th>2</th>\n",
       "      <td>Amblin Entertainment</td>\n",
       "      <td>1.595552</td>\n",
       "      <td>6.561538</td>\n",
       "      <td>8.215318e+07</td>\n",
       "      <td>3.258496e+08</td>\n",
       "      <td>494.792867</td>\n",
       "      <td>0.085752</td>\n",
       "      <td>1.071369</td>\n",
       "      <td>0.804036</td>\n",
       "      <td>0.713902</td>\n",
       "      <td>0.181340</td>\n",
       "    </tr>\n",
       "    <tr>\n",
       "      <th>3</th>\n",
       "      <td>American Zoetrope</td>\n",
       "      <td>0.759980</td>\n",
       "      <td>6.366667</td>\n",
       "      <td>2.981628e+07</td>\n",
       "      <td>8.032237e+07</td>\n",
       "      <td>423.589242</td>\n",
       "      <td>-0.664263</td>\n",
       "      <td>0.507982</td>\n",
       "      <td>-0.811391</td>\n",
       "      <td>-0.608015</td>\n",
       "      <td>-0.022534</td>\n",
       "    </tr>\n",
       "    <tr>\n",
       "      <th>4</th>\n",
       "      <td>BBC Films</td>\n",
       "      <td>0.720756</td>\n",
       "      <td>6.309524</td>\n",
       "      <td>1.219228e+07</td>\n",
       "      <td>3.138219e+07</td>\n",
       "      <td>360.598104</td>\n",
       "      <td>-0.699471</td>\n",
       "      <td>0.342778</td>\n",
       "      <td>-1.355373</td>\n",
       "      <td>-0.871509</td>\n",
       "      <td>-0.202893</td>\n",
       "    </tr>\n",
       "  </tbody>\n",
       "</table>\n",
       "</div>"
      ],
      "text/plain": [
       "   production_companies  popularity  vote_average    budget_adj   revenue_adj  \\\n",
       "0      20th Century Fox    0.692351      5.871053  4.582774e+07  1.072559e+08   \n",
       "1   Alcon Entertainment    1.187149      6.250000  4.373326e+07  9.491422e+07   \n",
       "2  Amblin Entertainment    1.595552      6.561538  8.215318e+07  3.258496e+08   \n",
       "3     American Zoetrope    0.759980      6.366667  2.981628e+07  8.032237e+07   \n",
       "4             BBC Films    0.720756      6.309524  1.219228e+07  3.138219e+07   \n",
       "\n",
       "       ROI(%)  popularity_std  vote_average_std  budget_std  revenue_std  \\\n",
       "0  485.188822       -0.724967         -0.924870   -0.317183    -0.463005   \n",
       "1  243.108080       -0.280833          0.170691   -0.381831    -0.529453   \n",
       "2  494.792867        0.085752          1.071369    0.804036     0.713902   \n",
       "3  423.589242       -0.664263          0.507982   -0.811391    -0.608015   \n",
       "4  360.598104       -0.699471          0.342778   -1.355373    -0.871509   \n",
       "\n",
       "    ROI_std  \n",
       "0  0.153841  \n",
       "1 -0.539296  \n",
       "2  0.181340  \n",
       "3 -0.022534  \n",
       "4 -0.202893  "
      ]
     },
     "execution_count": 239,
     "metadata": {},
     "output_type": "execute_result"
    }
   ],
   "source": [
    "#let's standarize the above table table\n",
    "\n",
    "Groupby_ProductionCompanies['popularity_std']=standarize_column(Groupby_ProductionCompanies.loc[:,'popularity'])\n",
    "Groupby_ProductionCompanies['vote_average_std']=standarize_column(Groupby_ProductionCompanies.loc[:,'vote_average'])\n",
    "Groupby_ProductionCompanies['budget_std']=standarize_column(Groupby_ProductionCompanies.loc[:,'budget_adj'])\n",
    "Groupby_ProductionCompanies['revenue_std']=standarize_column(Groupby_ProductionCompanies.loc[:,'revenue_adj'])\n",
    "Groupby_ProductionCompanies['ROI_std']=standarize_column(Groupby_ProductionCompanies.loc[:,'ROI(%)'])\n",
    "\n",
    "print (\"Sample of production companies dataframe with standarized columns: \")\n",
    "Groupby_ProductionCompanies.head()"
   ]
  },
  {
   "cell_type": "markdown",
   "metadata": {},
   "source": [
    "### Popularity vs Rating with respect to Grouped Production Companies"
   ]
  },
  {
   "cell_type": "code",
   "execution_count": 240,
   "metadata": {},
   "outputs": [
    {
     "name": "stdout",
     "output_type": "stream",
     "text": [
      "Pearson r between average popularity and average rating for grouped production coompanies:\n"
     ]
    },
    {
     "data": {
      "text/plain": [
       "0.65100755452765469"
      ]
     },
     "execution_count": 240,
     "metadata": {},
     "output_type": "execute_result"
    }
   ],
   "source": [
    "# apply correlation function between average popularity and average rating with respect to grouped production companies:\n",
    "\n",
    "print (\"Pearson r between average popularity and average rating for grouped production coompanies:\")\n",
    "correlation(Groupby_ProductionCompanies.loc[:,'popularity'], Groupby_ProductionCompanies.loc[:,'vote_average'])"
   ]
  },
  {
   "cell_type": "markdown",
   "metadata": {},
   "source": [
    "Remember previously we attempted to verify the correlation between popularity and average vote but there was no strong correlation. However if we group production companies and verify the same correlation, we now see that a close to strong correlation exists between average popularity and average vote. One can tentatively derive that for a given production company, the higher the average popularity the higher the average rating. Let's print some of top production companies in terms of average popularity."
   ]
  },
  {
   "cell_type": "code",
   "execution_count": 241,
   "metadata": {},
   "outputs": [
    {
     "name": "stdout",
     "output_type": "stream",
     "text": [
      "Most popular production movie companies:\n"
     ]
    },
    {
     "data": {
      "text/html": [
       "<div>\n",
       "<style>\n",
       "    .dataframe thead tr:only-child th {\n",
       "        text-align: right;\n",
       "    }\n",
       "\n",
       "    .dataframe thead th {\n",
       "        text-align: left;\n",
       "    }\n",
       "\n",
       "    .dataframe tbody tr th {\n",
       "        vertical-align: top;\n",
       "    }\n",
       "</style>\n",
       "<table border=\"1\" class=\"dataframe\">\n",
       "  <thead>\n",
       "    <tr style=\"text-align: right;\">\n",
       "      <th></th>\n",
       "      <th>production_companies</th>\n",
       "      <th>popularity</th>\n",
       "      <th>vote_average</th>\n",
       "      <th>popularity_std</th>\n",
       "      <th>vote_average_std</th>\n",
       "    </tr>\n",
       "  </thead>\n",
       "  <tbody>\n",
       "    <tr>\n",
       "      <th>25</th>\n",
       "      <td>Marvel Studios</td>\n",
       "      <td>7.205610</td>\n",
       "      <td>7.072727</td>\n",
       "      <td>5.121374</td>\n",
       "      <td>2.549249</td>\n",
       "    </tr>\n",
       "    <tr>\n",
       "      <th>49</th>\n",
       "      <td>WingNut Films</td>\n",
       "      <td>4.329096</td>\n",
       "      <td>7.141667</td>\n",
       "      <td>2.539398</td>\n",
       "      <td>2.748557</td>\n",
       "    </tr>\n",
       "    <tr>\n",
       "      <th>24</th>\n",
       "      <td>Lucasfilm</td>\n",
       "      <td>4.050399</td>\n",
       "      <td>6.960000</td>\n",
       "      <td>2.289237</td>\n",
       "      <td>2.223347</td>\n",
       "    </tr>\n",
       "    <tr>\n",
       "      <th>21</th>\n",
       "      <td>Legendary Pictures</td>\n",
       "      <td>2.756344</td>\n",
       "      <td>6.383333</td>\n",
       "      <td>1.127685</td>\n",
       "      <td>0.556166</td>\n",
       "    </tr>\n",
       "    <tr>\n",
       "      <th>12</th>\n",
       "      <td>Eon Productions</td>\n",
       "      <td>2.141636</td>\n",
       "      <td>6.176190</td>\n",
       "      <td>0.575920</td>\n",
       "      <td>-0.042697</td>\n",
       "    </tr>\n",
       "  </tbody>\n",
       "</table>\n",
       "</div>"
      ],
      "text/plain": [
       "   production_companies  popularity  vote_average  popularity_std  \\\n",
       "25       Marvel Studios    7.205610      7.072727        5.121374   \n",
       "49        WingNut Films    4.329096      7.141667        2.539398   \n",
       "24            Lucasfilm    4.050399      6.960000        2.289237   \n",
       "21   Legendary Pictures    2.756344      6.383333        1.127685   \n",
       "12      Eon Productions    2.141636      6.176190        0.575920   \n",
       "\n",
       "    vote_average_std  \n",
       "25          2.549249  \n",
       "49          2.748557  \n",
       "24          2.223347  \n",
       "21          0.556166  \n",
       "12         -0.042697  "
      ]
     },
     "execution_count": 241,
     "metadata": {},
     "output_type": "execute_result"
    }
   ],
   "source": [
    "print(\"Most popular production movie companies:\")\n",
    "\n",
    "Sorted_ProductionCompanies_pop=Groupby_ProductionCompanies.sort_values(by='popularity', ascending=False).filter(['production_companies',\n",
    "                                                                                                                'popularity', 'vote_average', 'popularity_std','vote_average_std'])\n",
    "Sorted_ProductionCompanies_pop.head()"
   ]
  },
  {
   "cell_type": "markdown",
   "metadata": {},
   "source": [
    "From the above, we can see that Marvel Studios is very popular among movie amateurs (well above average as per the standard deviation). Let's plot those values for better visualization!"
   ]
  },
  {
   "cell_type": "code",
   "execution_count": 242,
   "metadata": {},
   "outputs": [
    {
     "data": {
      "text/plain": [
       "Text(0.5,1,'Average Popularity for a Production Company')"
      ]
     },
     "execution_count": 242,
     "metadata": {},
     "output_type": "execute_result"
    },
    {
     "data": {
      "image/png": "[encoded data removed]",
      "text/plain": [
       "<matplotlib.figure.Figure at 0x1ea37c18>"
      ]
     },
     "metadata": {},
     "output_type": "display_data"
    }
   ],
   "source": [
    "#In a historgram format:\n",
    "\n",
    "Sorted_ProductionCompanies_pop.iloc[0:10,:].plot(kind='bar', figsize=(10,5), x='production_companies', y='popularity')\n",
    "plt.ylabel('Average Popularity')\n",
    "plt.xlabel('Production Companies')\n",
    "plt.title('Average Popularity for a Production Company')"
   ]
  },
  {
   "cell_type": "markdown",
   "metadata": {},
   "source": [
    "I recognize a few from this top 10 list, namely, Marvel Studios, Lucasfilm and Legendary Pictures. Marvel Studios seems to command movies with the highest popularity on average. I can already guess some of the movies from Marvel that are extremely popular, but let's still print them out to confirm :)"
   ]
  },
  {
   "cell_type": "code",
   "execution_count": 243,
   "metadata": {
    "scrolled": true
   },
   "outputs": [
    {
     "data": {
      "text/html": [
       "<div>\n",
       "<style>\n",
       "    .dataframe thead tr:only-child th {\n",
       "        text-align: right;\n",
       "    }\n",
       "\n",
       "    .dataframe thead th {\n",
       "        text-align: left;\n",
       "    }\n",
       "\n",
       "    .dataframe tbody tr th {\n",
       "        vertical-align: top;\n",
       "    }\n",
       "</style>\n",
       "<table border=\"1\" class=\"dataframe\">\n",
       "  <thead>\n",
       "    <tr style=\"text-align: right;\">\n",
       "      <th></th>\n",
       "      <th>imdb_id</th>\n",
       "      <th>popularity</th>\n",
       "      <th>original_title</th>\n",
       "      <th>runtime</th>\n",
       "      <th>release_date</th>\n",
       "      <th>vote_count</th>\n",
       "      <th>vote_average</th>\n",
       "      <th>release_year</th>\n",
       "      <th>budget_adj</th>\n",
       "      <th>revenue_adj</th>\n",
       "      <th>director</th>\n",
       "      <th>cast</th>\n",
       "      <th>genres</th>\n",
       "      <th>production_companies</th>\n",
       "      <th>ROI(%)</th>\n",
       "    </tr>\n",
       "  </thead>\n",
       "  <tbody>\n",
       "    <tr>\n",
       "      <th>14</th>\n",
       "      <td>tt2395427</td>\n",
       "      <td>5.944927</td>\n",
       "      <td>Avengers: Age of Ultron</td>\n",
       "      <td>141</td>\n",
       "      <td>4/22/15</td>\n",
       "      <td>4304</td>\n",
       "      <td>7.4</td>\n",
       "      <td>2015</td>\n",
       "      <td>2.575999e+08</td>\n",
       "      <td>1.292632e+09</td>\n",
       "      <td>Joss Whedon</td>\n",
       "      <td>Robert Downey Jr.</td>\n",
       "      <td>Action</td>\n",
       "      <td>Marvel Studios</td>\n",
       "      <td>501.798488</td>\n",
       "    </tr>\n",
       "    <tr>\n",
       "      <th>17</th>\n",
       "      <td>tt0478970</td>\n",
       "      <td>5.573184</td>\n",
       "      <td>Ant-Man</td>\n",
       "      <td>115</td>\n",
       "      <td>7/14/15</td>\n",
       "      <td>3779</td>\n",
       "      <td>7.0</td>\n",
       "      <td>2015</td>\n",
       "      <td>1.195999e+08</td>\n",
       "      <td>4.771138e+08</td>\n",
       "      <td>Peyton Reed</td>\n",
       "      <td>Paul Rudd</td>\n",
       "      <td>Science Fiction</td>\n",
       "      <td>Marvel Studios</td>\n",
       "      <td>398.924741</td>\n",
       "    </tr>\n",
       "    <tr>\n",
       "      <th>161</th>\n",
       "      <td>tt2015381</td>\n",
       "      <td>14.311205</td>\n",
       "      <td>Guardians of the Galaxy</td>\n",
       "      <td>121</td>\n",
       "      <td>7/30/14</td>\n",
       "      <td>5612</td>\n",
       "      <td>7.9</td>\n",
       "      <td>2014</td>\n",
       "      <td>1.565855e+08</td>\n",
       "      <td>7.122911e+08</td>\n",
       "      <td>James Gunn</td>\n",
       "      <td>Chris Pratt</td>\n",
       "      <td>Action</td>\n",
       "      <td>Marvel Studios</td>\n",
       "      <td>454.889646</td>\n",
       "    </tr>\n",
       "    <tr>\n",
       "      <th>162</th>\n",
       "      <td>tt1843866</td>\n",
       "      <td>12.971027</td>\n",
       "      <td>Captain America: The Winter Soldier</td>\n",
       "      <td>136</td>\n",
       "      <td>3/20/14</td>\n",
       "      <td>3848</td>\n",
       "      <td>7.6</td>\n",
       "      <td>2014</td>\n",
       "      <td>1.565855e+08</td>\n",
       "      <td>6.583651e+08</td>\n",
       "      <td>Joe Russo</td>\n",
       "      <td>Chris Evans</td>\n",
       "      <td>Action</td>\n",
       "      <td>Marvel Studios</td>\n",
       "      <td>420.450925</td>\n",
       "    </tr>\n",
       "    <tr>\n",
       "      <th>519</th>\n",
       "      <td>tt1228705</td>\n",
       "      <td>5.704860</td>\n",
       "      <td>Iron Man 2</td>\n",
       "      <td>124</td>\n",
       "      <td>4/28/10</td>\n",
       "      <td>4920</td>\n",
       "      <td>6.6</td>\n",
       "      <td>2010</td>\n",
       "      <td>2.000000e+08</td>\n",
       "      <td>6.239333e+08</td>\n",
       "      <td>Jon Favreau</td>\n",
       "      <td>Robert Downey Jr.</td>\n",
       "      <td>Adventure</td>\n",
       "      <td>Marvel Studios</td>\n",
       "      <td>311.966666</td>\n",
       "    </tr>\n",
       "    <tr>\n",
       "      <th>935</th>\n",
       "      <td>tt0371746</td>\n",
       "      <td>4.977955</td>\n",
       "      <td>Iron Man</td>\n",
       "      <td>126</td>\n",
       "      <td>4/30/08</td>\n",
       "      <td>6220</td>\n",
       "      <td>7.3</td>\n",
       "      <td>2008</td>\n",
       "      <td>1.417901e+08</td>\n",
       "      <td>5.926566e+08</td>\n",
       "      <td>Jon Favreau</td>\n",
       "      <td>Robert Downey Jr.</td>\n",
       "      <td>Action</td>\n",
       "      <td>Marvel Studios</td>\n",
       "      <td>417.981587</td>\n",
       "    </tr>\n",
       "    <tr>\n",
       "      <th>1100</th>\n",
       "      <td>tt0458339</td>\n",
       "      <td>7.959228</td>\n",
       "      <td>Captain America: The First Avenger</td>\n",
       "      <td>124</td>\n",
       "      <td>7/22/11</td>\n",
       "      <td>5025</td>\n",
       "      <td>6.5</td>\n",
       "      <td>2011</td>\n",
       "      <td>1.357157e+08</td>\n",
       "      <td>3.592296e+08</td>\n",
       "      <td>Joe Johnston</td>\n",
       "      <td>Chris Evans</td>\n",
       "      <td>Action</td>\n",
       "      <td>Marvel Studios</td>\n",
       "      <td>264.692696</td>\n",
       "    </tr>\n",
       "    <tr>\n",
       "      <th>1105</th>\n",
       "      <td>tt0800369</td>\n",
       "      <td>4.123520</td>\n",
       "      <td>Thor</td>\n",
       "      <td>115</td>\n",
       "      <td>4/21/11</td>\n",
       "      <td>4485</td>\n",
       "      <td>6.5</td>\n",
       "      <td>2011</td>\n",
       "      <td>1.454097e+08</td>\n",
       "      <td>4.305242e+08</td>\n",
       "      <td>Kenneth Branagh</td>\n",
       "      <td>Chris Hemsworth</td>\n",
       "      <td>Adventure</td>\n",
       "      <td>Marvel Studios</td>\n",
       "      <td>296.076671</td>\n",
       "    </tr>\n",
       "    <tr>\n",
       "      <th>1488</th>\n",
       "      <td>tt0848228</td>\n",
       "      <td>7.637767</td>\n",
       "      <td>The Avengers</td>\n",
       "      <td>143</td>\n",
       "      <td>4/25/12</td>\n",
       "      <td>8903</td>\n",
       "      <td>7.3</td>\n",
       "      <td>2012</td>\n",
       "      <td>2.089437e+08</td>\n",
       "      <td>1.443191e+09</td>\n",
       "      <td>Joss Whedon</td>\n",
       "      <td>Robert Downey Jr.</td>\n",
       "      <td>Science Fiction</td>\n",
       "      <td>Marvel Studios</td>\n",
       "      <td>690.708141</td>\n",
       "    </tr>\n",
       "    <tr>\n",
       "      <th>1859</th>\n",
       "      <td>tt1981115</td>\n",
       "      <td>5.111900</td>\n",
       "      <td>Thor: The Dark World</td>\n",
       "      <td>112</td>\n",
       "      <td>10/29/13</td>\n",
       "      <td>3025</td>\n",
       "      <td>6.8</td>\n",
       "      <td>2013</td>\n",
       "      <td>1.591257e+08</td>\n",
       "      <td>4.490760e+08</td>\n",
       "      <td>Alan Taylor</td>\n",
       "      <td>Chris Hemsworth</td>\n",
       "      <td>Action</td>\n",
       "      <td>Marvel Studios</td>\n",
       "      <td>282.214706</td>\n",
       "    </tr>\n",
       "    <tr>\n",
       "      <th>1860</th>\n",
       "      <td>tt1300854</td>\n",
       "      <td>4.946136</td>\n",
       "      <td>Iron Man 3</td>\n",
       "      <td>130</td>\n",
       "      <td>4/18/13</td>\n",
       "      <td>6882</td>\n",
       "      <td>6.9</td>\n",
       "      <td>2013</td>\n",
       "      <td>1.872067e+08</td>\n",
       "      <td>1.137692e+09</td>\n",
       "      <td>Shane Black</td>\n",
       "      <td>Robert Downey Jr.</td>\n",
       "      <td>Action</td>\n",
       "      <td>Marvel Studios</td>\n",
       "      <td>607.719997</td>\n",
       "    </tr>\n",
       "  </tbody>\n",
       "</table>\n",
       "</div>"
      ],
      "text/plain": [
       "        imdb_id  popularity                       original_title  runtime  \\\n",
       "14    tt2395427    5.944927              Avengers: Age of Ultron      141   \n",
       "17    tt0478970    5.573184                              Ant-Man      115   \n",
       "161   tt2015381   14.311205              Guardians of the Galaxy      121   \n",
       "162   tt1843866   12.971027  Captain America: The Winter Soldier      136   \n",
       "519   tt1228705    5.704860                           Iron Man 2      124   \n",
       "935   tt0371746    4.977955                             Iron Man      126   \n",
       "1100  tt0458339    7.959228   Captain America: The First Avenger      124   \n",
       "1105  tt0800369    4.123520                                 Thor      115   \n",
       "1488  tt0848228    7.637767                         The Avengers      143   \n",
       "1859  tt1981115    5.111900                 Thor: The Dark World      112   \n",
       "1860  tt1300854    4.946136                           Iron Man 3      130   \n",
       "\n",
       "     release_date  vote_count  vote_average  release_year    budget_adj  \\\n",
       "14        4/22/15        4304           7.4          2015  2.575999e+08   \n",
       "17        7/14/15        3779           7.0          2015  1.195999e+08   \n",
       "161       7/30/14        5612           7.9          2014  1.565855e+08   \n",
       "162       3/20/14        3848           7.6          2014  1.565855e+08   \n",
       "519       4/28/10        4920           6.6          2010  2.000000e+08   \n",
       "935       4/30/08        6220           7.3          2008  1.417901e+08   \n",
       "1100      7/22/11        5025           6.5          2011  1.357157e+08   \n",
       "1105      4/21/11        4485           6.5          2011  1.454097e+08   \n",
       "1488      4/25/12        8903           7.3          2012  2.089437e+08   \n",
       "1859     10/29/13        3025           6.8          2013  1.591257e+08   \n",
       "1860      4/18/13        6882           6.9          2013  1.872067e+08   \n",
       "\n",
       "       revenue_adj         director               cast           genres  \\\n",
       "14    1.292632e+09      Joss Whedon  Robert Downey Jr.           Action   \n",
       "17    4.771138e+08      Peyton Reed          Paul Rudd  Science Fiction   \n",
       "161   7.122911e+08       James Gunn        Chris Pratt           Action   \n",
       "162   6.583651e+08        Joe Russo        Chris Evans           Action   \n",
       "519   6.239333e+08      Jon Favreau  Robert Downey Jr.        Adventure   \n",
       "935   5.926566e+08      Jon Favreau  Robert Downey Jr.           Action   \n",
       "1100  3.592296e+08     Joe Johnston        Chris Evans           Action   \n",
       "1105  4.305242e+08  Kenneth Branagh    Chris Hemsworth        Adventure   \n",
       "1488  1.443191e+09      Joss Whedon  Robert Downey Jr.  Science Fiction   \n",
       "1859  4.490760e+08      Alan Taylor    Chris Hemsworth           Action   \n",
       "1860  1.137692e+09      Shane Black  Robert Downey Jr.           Action   \n",
       "\n",
       "     production_companies      ROI(%)  \n",
       "14         Marvel Studios  501.798488  \n",
       "17         Marvel Studios  398.924741  \n",
       "161        Marvel Studios  454.889646  \n",
       "162        Marvel Studios  420.450925  \n",
       "519        Marvel Studios  311.966666  \n",
       "935        Marvel Studios  417.981587  \n",
       "1100       Marvel Studios  264.692696  \n",
       "1105       Marvel Studios  296.076671  \n",
       "1488       Marvel Studios  690.708141  \n",
       "1859       Marvel Studios  282.214706  \n",
       "1860       Marvel Studios  607.719997  "
      ]
     },
     "execution_count": 243,
     "metadata": {},
     "output_type": "execute_result"
    }
   ],
   "source": [
    "Marvel_df=production_companies_df[production_companies_df['production_companies'].isin(['Marvel Studios'])]\n",
    "Marvel_df"
   ]
  },
  {
   "cell_type": "markdown",
   "metadata": {},
   "source": [
    "As I anticipated, most of the latest superhero movies are found in that list and I've seen all of them!"
   ]
  },
  {
   "cell_type": "markdown",
   "metadata": {},
   "source": [
    "### Popularity vs Revenue and Average Rating vs Revenue for Grouped Production Companies?"
   ]
  },
  {
   "cell_type": "code",
   "execution_count": 244,
   "metadata": {},
   "outputs": [
    {
     "name": "stdout",
     "output_type": "stream",
     "text": [
      "Pearson r between popularity and return on investment:\n"
     ]
    },
    {
     "data": {
      "text/plain": [
       "0.8197176774671795"
      ]
     },
     "execution_count": 244,
     "metadata": {},
     "output_type": "execute_result"
    }
   ],
   "source": [
    "print (\"Pearson r between popularity and return on investment:\")\n",
    "correlation(Groupby_ProductionCompanies.loc[:,'popularity'], Groupby_ProductionCompanies.loc[:,'revenue_adj'])"
   ]
  },
  {
   "cell_type": "code",
   "execution_count": 245,
   "metadata": {},
   "outputs": [
    {
     "name": "stdout",
     "output_type": "stream",
     "text": [
      "Correlation between average vote and return on investment:\n"
     ]
    },
    {
     "data": {
      "text/plain": [
       "0.63650239456545055"
      ]
     },
     "execution_count": 245,
     "metadata": {},
     "output_type": "execute_result"
    }
   ],
   "source": [
    "print (\"Correlation between average vote and return on investment:\")\n",
    "correlation(Groupby_ProductionCompanies.loc[:,'vote_average'], Groupby_ProductionCompanies.loc[:,'revenue_adj'])"
   ]
  },
  {
   "cell_type": "markdown",
   "metadata": {},
   "source": [
    "There is a very strong correlation between average vote / popularity and revenue for a given production company. Let's plot these to have a better visualisation."
   ]
  },
  {
   "cell_type": "code",
   "execution_count": 246,
   "metadata": {},
   "outputs": [
    {
     "data": {
      "text/plain": [
       "Text(0.5,1,'Relationship between popularity, rating with respect to biggest movie revenues')"
      ]
     },
     "execution_count": 246,
     "metadata": {},
     "output_type": "execute_result"
    },
    {
     "data": {
      "image/png": "[encoded data removed]",
      "text/plain": [
       "<matplotlib.figure.Figure at 0x1eaf2668>"
      ]
     },
     "metadata": {},
     "output_type": "display_data"
    }
   ],
   "source": [
    "Groupby_ProductionCompanies.nlargest(10,'revenue_adj').plot(x='production_companies', y=['popularity_std','vote_average_std','revenue_std'],kind='bar', figsize=(20,10))\n",
    "plt.ylabel('Standard Deviation Value')\n",
    "plt.xlabel('Production Companies')\n",
    "plt.title('Relationship between popularity, rating with respect to biggest movie revenues')"
   ]
  },
  {
   "cell_type": "code",
   "execution_count": 247,
   "metadata": {},
   "outputs": [
    {
     "data": {
      "text/plain": [
       "Text(0.5,1,'Relationship between popularity, rating with respect to smallest movie revenues')"
      ]
     },
     "execution_count": 247,
     "metadata": {},
     "output_type": "execute_result"
    },
    {
     "data": {
      "image/png": "[encoded data removed]",
      "text/plain": [
       "<matplotlib.figure.Figure at 0x1fcdb240>"
      ]
     },
     "metadata": {},
     "output_type": "display_data"
    }
   ],
   "source": [
    "Groupby_ProductionCompanies.nsmallest(10,'revenue_adj').plot(x='production_companies', y=['popularity_std','vote_average_std','revenue_std'],kind='bar', figsize=(20,10))\n",
    "plt.ylabel('Standard Deviation Value')\n",
    "plt.xlabel('Production Companies')\n",
    "plt.title('Relationship between popularity, rating with respect to smallest movie revenues')"
   ]
  },
  {
   "cell_type": "markdown",
   "metadata": {},
   "source": [
    "The two previous plot confirm the correlation. In general, if the rating and popularity standard deviations are positive (i.e.:higher than the average) it translates into higher revenues. If on the other hand, rating and popularity standard deviations are negative (i.e.: lower than the average) it translates into lower revenues."
   ]
  },
  {
   "cell_type": "markdown",
   "metadata": {},
   "source": [
    "### Production Companies with Respect to Budget/Revenue"
   ]
  },
  {
   "cell_type": "code",
   "execution_count": 248,
   "metadata": {},
   "outputs": [
    {
     "name": "stdout",
     "output_type": "stream",
     "text": [
      "Top Production Companies as per budget & revenue:\n",
      "    production_companies  budget_std  revenue_std\n",
      "25        Marvel Studios    3.511476     2.961652\n",
      "9   DreamWorks Animation    2.456670     1.394660\n",
      "49         WingNut Films    1.881797     2.205238\n",
      "\n",
      "\n",
      "\n",
      "Bottom Production Companies as per budget & revenue:\n",
      "        production_companies  budget_std  revenue_std\n",
      "4                  BBC Films   -1.355373    -0.871509\n",
      "14  Fox Searchlight Pictures   -1.351599    -0.761010\n",
      "22          Lions Gate Films   -1.188759    -0.696104\n"
     ]
    }
   ],
   "source": [
    "Top_ProductionCompanies_Budget=Groupby_ProductionCompanies.nlargest(3,'budget_adj')\n",
    "Bottom_ProductionCompanies_Budget=Groupby_ProductionCompanies.nsmallest(3,'budget_adj')\n",
    "\n",
    "print (\"Top Production Companies as per budget & revenue:\")\n",
    "print (Top_ProductionCompanies_Budget.filter(['production_companies','budget_std','revenue_std']))\n",
    "print (\"\\n\\n\")\n",
    "print (\"Bottom Production Companies as per budget & revenue:\")\n",
    "print (Bottom_ProductionCompanies_Budget.filter(['production_companies','budget_std','revenue_std']))"
   ]
  },
  {
   "cell_type": "markdown",
   "metadata": {},
   "source": [
    "We saw previously that Marvel was very popular and in line with a previous correlation exposed, Marvel movies have the biggest budgets & revenues on average!"
   ]
  },
  {
   "cell_type": "markdown",
   "metadata": {},
   "source": [
    "### Production Companies with Repect to ROI"
   ]
  },
  {
   "cell_type": "code",
   "execution_count": 249,
   "metadata": {},
   "outputs": [
    {
     "name": "stdout",
     "output_type": "stream",
     "text": [
      "Production companies with highest ROIs:\n"
     ]
    },
    {
     "data": {
      "text/html": [
       "<div>\n",
       "<style>\n",
       "    .dataframe thead tr:only-child th {\n",
       "        text-align: right;\n",
       "    }\n",
       "\n",
       "    .dataframe thead th {\n",
       "        text-align: left;\n",
       "    }\n",
       "\n",
       "    .dataframe tbody tr th {\n",
       "        vertical-align: top;\n",
       "    }\n",
       "</style>\n",
       "<table border=\"1\" class=\"dataframe\">\n",
       "  <thead>\n",
       "    <tr style=\"text-align: right;\">\n",
       "      <th></th>\n",
       "      <th>production_companies</th>\n",
       "      <th>popularity</th>\n",
       "      <th>vote_average</th>\n",
       "      <th>budget_adj</th>\n",
       "      <th>revenue_adj</th>\n",
       "      <th>ROI(%)</th>\n",
       "      <th>popularity_std</th>\n",
       "      <th>vote_average_std</th>\n",
       "      <th>budget_std</th>\n",
       "      <th>revenue_std</th>\n",
       "      <th>ROI_std</th>\n",
       "    </tr>\n",
       "  </thead>\n",
       "  <tbody>\n",
       "    <tr>\n",
       "      <th>24</th>\n",
       "      <td>Lucasfilm</td>\n",
       "      <td>4.050399</td>\n",
       "      <td>6.960000</td>\n",
       "      <td>8.430973e+07</td>\n",
       "      <td>9.564598e+08</td>\n",
       "      <td>2368.581839</td>\n",
       "      <td>2.289237</td>\n",
       "      <td>2.223347</td>\n",
       "      <td>0.870600</td>\n",
       "      <td>4.109105</td>\n",
       "      <td>5.546461</td>\n",
       "    </tr>\n",
       "    <tr>\n",
       "      <th>12</th>\n",
       "      <td>Eon Productions</td>\n",
       "      <td>2.141636</td>\n",
       "      <td>6.176190</td>\n",
       "      <td>7.946193e+07</td>\n",
       "      <td>5.583549e+08</td>\n",
       "      <td>1306.785182</td>\n",
       "      <td>0.575920</td>\n",
       "      <td>-0.042697</td>\n",
       "      <td>0.720968</td>\n",
       "      <td>1.965710</td>\n",
       "      <td>2.506274</td>\n",
       "    </tr>\n",
       "    <tr>\n",
       "      <th>38</th>\n",
       "      <td>Summit Entertainment</td>\n",
       "      <td>2.066031</td>\n",
       "      <td>6.214634</td>\n",
       "      <td>3.865025e+07</td>\n",
       "      <td>1.462496e+08</td>\n",
       "      <td>903.467721</td>\n",
       "      <td>0.508056</td>\n",
       "      <td>0.068446</td>\n",
       "      <td>-0.538723</td>\n",
       "      <td>-0.253063</td>\n",
       "      <td>1.351477</td>\n",
       "    </tr>\n",
       "    <tr>\n",
       "      <th>43</th>\n",
       "      <td>United Artists</td>\n",
       "      <td>0.864911</td>\n",
       "      <td>6.487805</td>\n",
       "      <td>3.489678e+07</td>\n",
       "      <td>1.613870e+08</td>\n",
       "      <td>863.130386</td>\n",
       "      <td>-0.570076</td>\n",
       "      <td>0.858200</td>\n",
       "      <td>-0.654577</td>\n",
       "      <td>-0.171563</td>\n",
       "      <td>1.235981</td>\n",
       "    </tr>\n",
       "    <tr>\n",
       "      <th>28</th>\n",
       "      <td>New Line Cinema</td>\n",
       "      <td>1.181806</td>\n",
       "      <td>6.049645</td>\n",
       "      <td>3.973770e+07</td>\n",
       "      <td>1.142999e+08</td>\n",
       "      <td>682.502306</td>\n",
       "      <td>-0.285629</td>\n",
       "      <td>-0.408547</td>\n",
       "      <td>-0.505158</td>\n",
       "      <td>-0.425080</td>\n",
       "      <td>0.718798</td>\n",
       "    </tr>\n",
       "  </tbody>\n",
       "</table>\n",
       "</div>"
      ],
      "text/plain": [
       "    production_companies  popularity  vote_average    budget_adj  \\\n",
       "24             Lucasfilm    4.050399      6.960000  8.430973e+07   \n",
       "12       Eon Productions    2.141636      6.176190  7.946193e+07   \n",
       "38  Summit Entertainment    2.066031      6.214634  3.865025e+07   \n",
       "43        United Artists    0.864911      6.487805  3.489678e+07   \n",
       "28       New Line Cinema    1.181806      6.049645  3.973770e+07   \n",
       "\n",
       "     revenue_adj       ROI(%)  popularity_std  vote_average_std  budget_std  \\\n",
       "24  9.564598e+08  2368.581839        2.289237          2.223347    0.870600   \n",
       "12  5.583549e+08  1306.785182        0.575920         -0.042697    0.720968   \n",
       "38  1.462496e+08   903.467721        0.508056          0.068446   -0.538723   \n",
       "43  1.613870e+08   863.130386       -0.570076          0.858200   -0.654577   \n",
       "28  1.142999e+08   682.502306       -0.285629         -0.408547   -0.505158   \n",
       "\n",
       "    revenue_std   ROI_std  \n",
       "24     4.109105  5.546461  \n",
       "12     1.965710  2.506274  \n",
       "38    -0.253063  1.351477  \n",
       "43    -0.171563  1.235981  \n",
       "28    -0.425080  0.718798  "
      ]
     },
     "execution_count": 249,
     "metadata": {},
     "output_type": "execute_result"
    }
   ],
   "source": [
    "print (\"Production companies with highest ROIs:\")\n",
    "\n",
    "Sorted_ProductionCompanies_ROI=Groupby_ProductionCompanies.sort_values(by='ROI(%)', ascending=False)\n",
    "Sorted_ProductionCompanies_ROI.head()"
   ]
  },
  {
   "cell_type": "markdown",
   "metadata": {},
   "source": [
    "I think it's fair to say that many will recognize the production company that leads the pack in terms of ROI. But should our reader find themselves unaware, let's display a few notable movies coming from Lucasfilm production."
   ]
  },
  {
   "cell_type": "code",
   "execution_count": 250,
   "metadata": {},
   "outputs": [
    {
     "data": {
      "text/html": [
       "<div>\n",
       "<style>\n",
       "    .dataframe thead tr:only-child th {\n",
       "        text-align: right;\n",
       "    }\n",
       "\n",
       "    .dataframe thead th {\n",
       "        text-align: left;\n",
       "    }\n",
       "\n",
       "    .dataframe tbody tr th {\n",
       "        vertical-align: top;\n",
       "    }\n",
       "</style>\n",
       "<table border=\"1\" class=\"dataframe\">\n",
       "  <thead>\n",
       "    <tr style=\"text-align: right;\">\n",
       "      <th></th>\n",
       "      <th>imdb_id</th>\n",
       "      <th>popularity</th>\n",
       "      <th>original_title</th>\n",
       "      <th>runtime</th>\n",
       "      <th>release_date</th>\n",
       "      <th>vote_count</th>\n",
       "      <th>vote_average</th>\n",
       "      <th>release_year</th>\n",
       "      <th>budget_adj</th>\n",
       "      <th>revenue_adj</th>\n",
       "      <th>director</th>\n",
       "      <th>cast</th>\n",
       "      <th>genres</th>\n",
       "      <th>production_companies</th>\n",
       "      <th>ROI(%)</th>\n",
       "    </tr>\n",
       "  </thead>\n",
       "  <tbody>\n",
       "    <tr>\n",
       "      <th>3807</th>\n",
       "      <td>tt0069704</td>\n",
       "      <td>0.684079</td>\n",
       "      <td>American Graffiti</td>\n",
       "      <td>110</td>\n",
       "      <td>8/1/73</td>\n",
       "      <td>145</td>\n",
       "      <td>6.5</td>\n",
       "      <td>1973</td>\n",
       "      <td>3.815971e+06</td>\n",
       "      <td>5.647834e+08</td>\n",
       "      <td>George Lucas</td>\n",
       "      <td>Richard Dreyfuss</td>\n",
       "      <td>Comedy</td>\n",
       "      <td>Lucasfilm</td>\n",
       "      <td>14800.514801</td>\n",
       "    </tr>\n",
       "    <tr>\n",
       "      <th>325</th>\n",
       "      <td>tt0076759</td>\n",
       "      <td>12.037933</td>\n",
       "      <td>Star Wars</td>\n",
       "      <td>121</td>\n",
       "      <td>3/20/77</td>\n",
       "      <td>4428</td>\n",
       "      <td>7.9</td>\n",
       "      <td>1977</td>\n",
       "      <td>3.957559e+07</td>\n",
       "      <td>2.789712e+09</td>\n",
       "      <td>George Lucas</td>\n",
       "      <td>Mark Hamill</td>\n",
       "      <td>Adventure</td>\n",
       "      <td>Lucasfilm</td>\n",
       "      <td>7049.072791</td>\n",
       "    </tr>\n",
       "    <tr>\n",
       "      <th>2565</th>\n",
       "      <td>tt0080684</td>\n",
       "      <td>5.488441</td>\n",
       "      <td>The Empire Strikes Back</td>\n",
       "      <td>124</td>\n",
       "      <td>1/1/80</td>\n",
       "      <td>3954</td>\n",
       "      <td>8.0</td>\n",
       "      <td>1980</td>\n",
       "      <td>4.762866e+07</td>\n",
       "      <td>1.424626e+09</td>\n",
       "      <td>Irvin Kershner</td>\n",
       "      <td>Mark Hamill</td>\n",
       "      <td>Adventure</td>\n",
       "      <td>Lucasfilm</td>\n",
       "      <td>2991.111111</td>\n",
       "    </tr>\n",
       "    <tr>\n",
       "      <th>2976</th>\n",
       "      <td>tt0082971</td>\n",
       "      <td>4.578300</td>\n",
       "      <td>Raiders of the Lost Ark</td>\n",
       "      <td>115</td>\n",
       "      <td>6/12/81</td>\n",
       "      <td>2506</td>\n",
       "      <td>7.5</td>\n",
       "      <td>1981</td>\n",
       "      <td>4.316743e+07</td>\n",
       "      <td>9.351169e+08</td>\n",
       "      <td>Steven Spielberg</td>\n",
       "      <td>Harrison Ford</td>\n",
       "      <td>Adventure</td>\n",
       "      <td>Lucasfilm</td>\n",
       "      <td>2166.255394</td>\n",
       "    </tr>\n",
       "    <tr>\n",
       "      <th>2811</th>\n",
       "      <td>tt0086190</td>\n",
       "      <td>4.828854</td>\n",
       "      <td>Return of the Jedi</td>\n",
       "      <td>135</td>\n",
       "      <td>5/23/83</td>\n",
       "      <td>3101</td>\n",
       "      <td>7.8</td>\n",
       "      <td>1983</td>\n",
       "      <td>7.082424e+07</td>\n",
       "      <td>1.253819e+09</td>\n",
       "      <td>Richard Marquand</td>\n",
       "      <td>Mark Hamill</td>\n",
       "      <td>Adventure</td>\n",
       "      <td>Lucasfilm</td>\n",
       "      <td>1770.324575</td>\n",
       "    </tr>\n",
       "    <tr>\n",
       "      <th>2770</th>\n",
       "      <td>tt0087469</td>\n",
       "      <td>2.556799</td>\n",
       "      <td>Indiana Jones and the Temple of Doom</td>\n",
       "      <td>118</td>\n",
       "      <td>5/23/84</td>\n",
       "      <td>1735</td>\n",
       "      <td>6.9</td>\n",
       "      <td>1984</td>\n",
       "      <td>5.877318e+07</td>\n",
       "      <td>6.989810e+08</td>\n",
       "      <td>Steven Spielberg</td>\n",
       "      <td>Harrison Ford</td>\n",
       "      <td>Adventure</td>\n",
       "      <td>Lucasfilm</td>\n",
       "      <td>1189.285714</td>\n",
       "    </tr>\n",
       "    <tr>\n",
       "      <th>3</th>\n",
       "      <td>tt2488496</td>\n",
       "      <td>11.173104</td>\n",
       "      <td>Star Wars: The Force Awakens</td>\n",
       "      <td>136</td>\n",
       "      <td>12/15/15</td>\n",
       "      <td>5292</td>\n",
       "      <td>7.5</td>\n",
       "      <td>2015</td>\n",
       "      <td>1.839999e+08</td>\n",
       "      <td>1.902723e+09</td>\n",
       "      <td>J.J. Abrams</td>\n",
       "      <td>Harrison Ford</td>\n",
       "      <td>Action</td>\n",
       "      <td>Lucasfilm</td>\n",
       "      <td>1034.089113</td>\n",
       "    </tr>\n",
       "    <tr>\n",
       "      <th>3317</th>\n",
       "      <td>tt0097576</td>\n",
       "      <td>3.536655</td>\n",
       "      <td>Indiana Jones and the Last Crusade</td>\n",
       "      <td>127</td>\n",
       "      <td>5/24/89</td>\n",
       "      <td>2031</td>\n",
       "      <td>7.4</td>\n",
       "      <td>1989</td>\n",
       "      <td>8.443128e+07</td>\n",
       "      <td>8.340611e+08</td>\n",
       "      <td>Steven Spielberg</td>\n",
       "      <td>Harrison Ford</td>\n",
       "      <td>Adventure</td>\n",
       "      <td>Lucasfilm</td>\n",
       "      <td>987.857929</td>\n",
       "    </tr>\n",
       "    <tr>\n",
       "      <th>699</th>\n",
       "      <td>tt0120915</td>\n",
       "      <td>3.526029</td>\n",
       "      <td>Star Wars: Episode I - The Phantom Menace</td>\n",
       "      <td>136</td>\n",
       "      <td>5/19/99</td>\n",
       "      <td>2823</td>\n",
       "      <td>6.3</td>\n",
       "      <td>1999</td>\n",
       "      <td>1.505411e+08</td>\n",
       "      <td>1.209981e+09</td>\n",
       "      <td>George Lucas</td>\n",
       "      <td>Liam Neeson</td>\n",
       "      <td>Adventure</td>\n",
       "      <td>Lucasfilm</td>\n",
       "      <td>803.754398</td>\n",
       "    </tr>\n",
       "    <tr>\n",
       "      <th>1003</th>\n",
       "      <td>tt1185834</td>\n",
       "      <td>0.900342</td>\n",
       "      <td>Star Wars: The Clone Wars</td>\n",
       "      <td>98</td>\n",
       "      <td>8/5/08</td>\n",
       "      <td>261</td>\n",
       "      <td>6.0</td>\n",
       "      <td>2008</td>\n",
       "      <td>8.608686e+06</td>\n",
       "      <td>6.915595e+07</td>\n",
       "      <td>Dave Filoni</td>\n",
       "      <td>Matt Lanter</td>\n",
       "      <td>Thriller</td>\n",
       "      <td>Lucasfilm</td>\n",
       "      <td>803.327576</td>\n",
       "    </tr>\n",
       "  </tbody>\n",
       "</table>\n",
       "</div>"
      ],
      "text/plain": [
       "        imdb_id  popularity                             original_title  \\\n",
       "3807  tt0069704    0.684079                          American Graffiti   \n",
       "325   tt0076759   12.037933                                  Star Wars   \n",
       "2565  tt0080684    5.488441                    The Empire Strikes Back   \n",
       "2976  tt0082971    4.578300                    Raiders of the Lost Ark   \n",
       "2811  tt0086190    4.828854                         Return of the Jedi   \n",
       "2770  tt0087469    2.556799       Indiana Jones and the Temple of Doom   \n",
       "3     tt2488496   11.173104               Star Wars: The Force Awakens   \n",
       "3317  tt0097576    3.536655         Indiana Jones and the Last Crusade   \n",
       "699   tt0120915    3.526029  Star Wars: Episode I - The Phantom Menace   \n",
       "1003  tt1185834    0.900342                  Star Wars: The Clone Wars   \n",
       "\n",
       "      runtime release_date  vote_count  vote_average  release_year  \\\n",
       "3807      110       8/1/73         145           6.5          1973   \n",
       "325       121      3/20/77        4428           7.9          1977   \n",
       "2565      124       1/1/80        3954           8.0          1980   \n",
       "2976      115      6/12/81        2506           7.5          1981   \n",
       "2811      135      5/23/83        3101           7.8          1983   \n",
       "2770      118      5/23/84        1735           6.9          1984   \n",
       "3         136     12/15/15        5292           7.5          2015   \n",
       "3317      127      5/24/89        2031           7.4          1989   \n",
       "699       136      5/19/99        2823           6.3          1999   \n",
       "1003       98       8/5/08         261           6.0          2008   \n",
       "\n",
       "        budget_adj   revenue_adj          director              cast  \\\n",
       "3807  3.815971e+06  5.647834e+08      George Lucas  Richard Dreyfuss   \n",
       "325   3.957559e+07  2.789712e+09      George Lucas       Mark Hamill   \n",
       "2565  4.762866e+07  1.424626e+09    Irvin Kershner       Mark Hamill   \n",
       "2976  4.316743e+07  9.351169e+08  Steven Spielberg     Harrison Ford   \n",
       "2811  7.082424e+07  1.253819e+09  Richard Marquand       Mark Hamill   \n",
       "2770  5.877318e+07  6.989810e+08  Steven Spielberg     Harrison Ford   \n",
       "3     1.839999e+08  1.902723e+09       J.J. Abrams     Harrison Ford   \n",
       "3317  8.443128e+07  8.340611e+08  Steven Spielberg     Harrison Ford   \n",
       "699   1.505411e+08  1.209981e+09      George Lucas       Liam Neeson   \n",
       "1003  8.608686e+06  6.915595e+07       Dave Filoni       Matt Lanter   \n",
       "\n",
       "         genres production_companies        ROI(%)  \n",
       "3807     Comedy            Lucasfilm  14800.514801  \n",
       "325   Adventure            Lucasfilm   7049.072791  \n",
       "2565  Adventure            Lucasfilm   2991.111111  \n",
       "2976  Adventure            Lucasfilm   2166.255394  \n",
       "2811  Adventure            Lucasfilm   1770.324575  \n",
       "2770  Adventure            Lucasfilm   1189.285714  \n",
       "3        Action            Lucasfilm   1034.089113  \n",
       "3317  Adventure            Lucasfilm    987.857929  \n",
       "699   Adventure            Lucasfilm    803.754398  \n",
       "1003   Thriller            Lucasfilm    803.327576  "
      ]
     },
     "execution_count": 250,
     "metadata": {},
     "output_type": "execute_result"
    }
   ],
   "source": [
    "Lucasfilm_df=production_companies_df[production_companies_df['production_companies'].isin(['Lucasfilm'])]\n",
    "Lucasfilm_df.nlargest(10,'ROI(%)')"
   ]
  },
  {
   "cell_type": "markdown",
   "metadata": {},
   "source": [
    "I think it's fair to say that our readers will have at least heard of the hugely popular Star Wars Franchise as well as Indiana Jones. "
   ]
  },
  {
   "cell_type": "markdown",
   "metadata": {},
   "source": [
    "## Directors that command bigger revenues"
   ]
  },
  {
   "cell_type": "code",
   "execution_count": 251,
   "metadata": {},
   "outputs": [
    {
     "name": "stdout",
     "output_type": "stream",
     "text": [
      "Sample table:\n"
     ]
    },
    {
     "data": {
      "text/html": [
       "<div>\n",
       "<style>\n",
       "    .dataframe thead tr:only-child th {\n",
       "        text-align: right;\n",
       "    }\n",
       "\n",
       "    .dataframe thead th {\n",
       "        text-align: left;\n",
       "    }\n",
       "\n",
       "    .dataframe tbody tr th {\n",
       "        vertical-align: top;\n",
       "    }\n",
       "</style>\n",
       "<table border=\"1\" class=\"dataframe\">\n",
       "  <thead>\n",
       "    <tr style=\"text-align: right;\">\n",
       "      <th></th>\n",
       "      <th>popularity</th>\n",
       "      <th>runtime</th>\n",
       "      <th>vote_count</th>\n",
       "      <th>vote_average</th>\n",
       "      <th>release_year</th>\n",
       "      <th>budget_adj</th>\n",
       "      <th>revenue_adj</th>\n",
       "      <th>ROI(%)</th>\n",
       "    </tr>\n",
       "    <tr>\n",
       "      <th>director</th>\n",
       "      <th></th>\n",
       "      <th></th>\n",
       "      <th></th>\n",
       "      <th></th>\n",
       "      <th></th>\n",
       "      <th></th>\n",
       "      <th></th>\n",
       "      <th></th>\n",
       "    </tr>\n",
       "  </thead>\n",
       "  <tbody>\n",
       "    <tr>\n",
       "      <th>FrÃ©dÃ©ric Jardin</th>\n",
       "      <td>0.434506</td>\n",
       "      <td>98.0</td>\n",
       "      <td>28.0</td>\n",
       "      <td>5.9</td>\n",
       "      <td>2011.0</td>\n",
       "      <td>2.423495e+06</td>\n",
       "      <td>3.255239e+03</td>\n",
       "      <td>0.134320</td>\n",
       "    </tr>\n",
       "    <tr>\n",
       "      <th>Aaron Blaise</th>\n",
       "      <td>1.653031</td>\n",
       "      <td>85.0</td>\n",
       "      <td>753.0</td>\n",
       "      <td>6.8</td>\n",
       "      <td>2003.0</td>\n",
       "      <td>1.185353e+08</td>\n",
       "      <td>2.963382e+02</td>\n",
       "      <td>0.000250</td>\n",
       "    </tr>\n",
       "    <tr>\n",
       "      <th>Aaron Seltzer</th>\n",
       "      <td>0.698297</td>\n",
       "      <td>83.0</td>\n",
       "      <td>103.0</td>\n",
       "      <td>3.9</td>\n",
       "      <td>2006.0</td>\n",
       "      <td>2.163338e+07</td>\n",
       "      <td>5.251334e+07</td>\n",
       "      <td>242.742130</td>\n",
       "    </tr>\n",
       "    <tr>\n",
       "      <th>Abbas Tyrewala</th>\n",
       "      <td>0.193779</td>\n",
       "      <td>155.0</td>\n",
       "      <td>18.0</td>\n",
       "      <td>6.4</td>\n",
       "      <td>2008.0</td>\n",
       "      <td>2.329409e+06</td>\n",
       "      <td>1.124193e+07</td>\n",
       "      <td>482.608696</td>\n",
       "    </tr>\n",
       "    <tr>\n",
       "      <th>Abe Sylvia</th>\n",
       "      <td>0.315527</td>\n",
       "      <td>90.0</td>\n",
       "      <td>36.0</td>\n",
       "      <td>6.2</td>\n",
       "      <td>2010.0</td>\n",
       "      <td>4.000000e+06</td>\n",
       "      <td>5.512500e+04</td>\n",
       "      <td>1.378125</td>\n",
       "    </tr>\n",
       "  </tbody>\n",
       "</table>\n",
       "</div>"
      ],
      "text/plain": [
       "                    popularity  runtime  vote_count  vote_average  \\\n",
       "director                                                            \n",
       " FrÃ©dÃ©ric Jardin    0.434506     98.0        28.0           5.9   \n",
       "Aaron Blaise          1.653031     85.0       753.0           6.8   \n",
       "Aaron Seltzer         0.698297     83.0       103.0           3.9   \n",
       "Abbas Tyrewala        0.193779    155.0        18.0           6.4   \n",
       "Abe Sylvia            0.315527     90.0        36.0           6.2   \n",
       "\n",
       "                    release_year    budget_adj   revenue_adj      ROI(%)  \n",
       "director                                                                  \n",
       " FrÃ©dÃ©ric Jardin        2011.0  2.423495e+06  3.255239e+03    0.134320  \n",
       "Aaron Blaise              2003.0  1.185353e+08  2.963382e+02    0.000250  \n",
       "Aaron Seltzer             2006.0  2.163338e+07  5.251334e+07  242.742130  \n",
       "Abbas Tyrewala            2008.0  2.329409e+06  1.124193e+07  482.608696  \n",
       "Abe Sylvia                2010.0  4.000000e+06  5.512500e+04    1.378125  "
      ]
     },
     "execution_count": 251,
     "metadata": {},
     "output_type": "execute_result"
    }
   ],
   "source": [
    "Groupby_Directors=movie_database_analysis_df.groupby(['director']).mean()\n",
    "\n",
    "print (\"Sample table:\")\n",
    "Groupby_Directors.head()"
   ]
  },
  {
   "cell_type": "markdown",
   "metadata": {},
   "source": [
    "Directors that command the highest budget:"
   ]
  },
  {
   "cell_type": "code",
   "execution_count": 252,
   "metadata": {},
   "outputs": [
    {
     "name": "stdout",
     "output_type": "stream",
     "text": [
      "Top 10 Directors with highest revenues\n"
     ]
    },
    {
     "data": {
      "text/html": [
       "<div>\n",
       "<style>\n",
       "    .dataframe thead tr:only-child th {\n",
       "        text-align: right;\n",
       "    }\n",
       "\n",
       "    .dataframe thead th {\n",
       "        text-align: left;\n",
       "    }\n",
       "\n",
       "    .dataframe tbody tr th {\n",
       "        vertical-align: top;\n",
       "    }\n",
       "</style>\n",
       "<table border=\"1\" class=\"dataframe\">\n",
       "  <thead>\n",
       "    <tr style=\"text-align: right;\">\n",
       "      <th></th>\n",
       "      <th>popularity</th>\n",
       "      <th>runtime</th>\n",
       "      <th>vote_count</th>\n",
       "      <th>vote_average</th>\n",
       "      <th>release_year</th>\n",
       "      <th>budget_adj</th>\n",
       "      <th>revenue_adj</th>\n",
       "      <th>ROI(%)</th>\n",
       "    </tr>\n",
       "    <tr>\n",
       "      <th>director</th>\n",
       "      <th></th>\n",
       "      <th></th>\n",
       "      <th></th>\n",
       "      <th></th>\n",
       "      <th></th>\n",
       "      <th></th>\n",
       "      <th></th>\n",
       "      <th></th>\n",
       "    </tr>\n",
       "  </thead>\n",
       "  <tbody>\n",
       "    <tr>\n",
       "      <th>Irwin Winkler</th>\n",
       "      <td>1.136610</td>\n",
       "      <td>114.000000</td>\n",
       "      <td>201.000000</td>\n",
       "      <td>5.600000</td>\n",
       "      <td>1995.000000</td>\n",
       "      <td>3.148127e+07</td>\n",
       "      <td>1.583050e+09</td>\n",
       "      <td>5028.543900</td>\n",
       "    </tr>\n",
       "    <tr>\n",
       "      <th>Clyde Geronimi</th>\n",
       "      <td>2.631987</td>\n",
       "      <td>79.000000</td>\n",
       "      <td>913.000000</td>\n",
       "      <td>6.600000</td>\n",
       "      <td>1961.000000</td>\n",
       "      <td>2.917944e+07</td>\n",
       "      <td>1.574815e+09</td>\n",
       "      <td>5397.000350</td>\n",
       "    </tr>\n",
       "    <tr>\n",
       "      <th>Richard Marquand</th>\n",
       "      <td>4.828854</td>\n",
       "      <td>135.000000</td>\n",
       "      <td>3101.000000</td>\n",
       "      <td>7.800000</td>\n",
       "      <td>1983.000000</td>\n",
       "      <td>7.082424e+07</td>\n",
       "      <td>1.253819e+09</td>\n",
       "      <td>1770.324575</td>\n",
       "    </tr>\n",
       "    <tr>\n",
       "      <th>Chris Buck</th>\n",
       "      <td>6.112766</td>\n",
       "      <td>102.000000</td>\n",
       "      <td>3369.000000</td>\n",
       "      <td>7.500000</td>\n",
       "      <td>2013.000000</td>\n",
       "      <td>1.404050e+08</td>\n",
       "      <td>1.192711e+09</td>\n",
       "      <td>849.479339</td>\n",
       "    </tr>\n",
       "    <tr>\n",
       "      <th>Kyle Balda</th>\n",
       "      <td>7.404165</td>\n",
       "      <td>91.000000</td>\n",
       "      <td>2893.000000</td>\n",
       "      <td>6.500000</td>\n",
       "      <td>2015.000000</td>\n",
       "      <td>6.807997e+07</td>\n",
       "      <td>1.064192e+09</td>\n",
       "      <td>1563.149949</td>\n",
       "    </tr>\n",
       "    <tr>\n",
       "      <th>George Lucas</th>\n",
       "      <td>3.910306</td>\n",
       "      <td>122.500000</td>\n",
       "      <td>2116.500000</td>\n",
       "      <td>6.700000</td>\n",
       "      <td>1987.833333</td>\n",
       "      <td>7.829333e+07</td>\n",
       "      <td>1.052320e+09</td>\n",
       "      <td>4043.393644</td>\n",
       "    </tr>\n",
       "    <tr>\n",
       "      <th>David Yates</th>\n",
       "      <td>5.126634</td>\n",
       "      <td>141.750000</td>\n",
       "      <td>3454.750000</td>\n",
       "      <td>7.400000</td>\n",
       "      <td>2009.250000</td>\n",
       "      <td>1.957563e+08</td>\n",
       "      <td>1.044364e+09</td>\n",
       "      <td>610.758861</td>\n",
       "    </tr>\n",
       "    <tr>\n",
       "      <th>Joss Whedon</th>\n",
       "      <td>4.897614</td>\n",
       "      <td>134.333333</td>\n",
       "      <td>4673.666667</td>\n",
       "      <td>7.333333</td>\n",
       "      <td>2010.666667</td>\n",
       "      <td>1.700299e+08</td>\n",
       "      <td>9.264080e+08</td>\n",
       "      <td>430.723974</td>\n",
       "    </tr>\n",
       "    <tr>\n",
       "      <th>James Cameron</th>\n",
       "      <td>3.559685</td>\n",
       "      <td>138.750000</td>\n",
       "      <td>2719.500000</td>\n",
       "      <td>7.100000</td>\n",
       "      <td>1994.125000</td>\n",
       "      <td>1.288303e+08</td>\n",
       "      <td>9.159026e+08</td>\n",
       "      <td>642.281273</td>\n",
       "    </tr>\n",
       "    <tr>\n",
       "      <th>Lee Unkrich</th>\n",
       "      <td>2.957715</td>\n",
       "      <td>97.500000</td>\n",
       "      <td>3411.500000</td>\n",
       "      <td>7.400000</td>\n",
       "      <td>2005.500000</td>\n",
       "      <td>1.708106e+08</td>\n",
       "      <td>8.781367e+08</td>\n",
       "      <td>510.495698</td>\n",
       "    </tr>\n",
       "  </tbody>\n",
       "</table>\n",
       "</div>"
      ],
      "text/plain": [
       "                  popularity     runtime   vote_count  vote_average  \\\n",
       "director                                                              \n",
       "Irwin Winkler       1.136610  114.000000   201.000000      5.600000   \n",
       "Clyde Geronimi      2.631987   79.000000   913.000000      6.600000   \n",
       "Richard Marquand    4.828854  135.000000  3101.000000      7.800000   \n",
       "Chris Buck          6.112766  102.000000  3369.000000      7.500000   \n",
       "Kyle Balda          7.404165   91.000000  2893.000000      6.500000   \n",
       "George Lucas        3.910306  122.500000  2116.500000      6.700000   \n",
       "David Yates         5.126634  141.750000  3454.750000      7.400000   \n",
       "Joss Whedon         4.897614  134.333333  4673.666667      7.333333   \n",
       "James Cameron       3.559685  138.750000  2719.500000      7.100000   \n",
       "Lee Unkrich         2.957715   97.500000  3411.500000      7.400000   \n",
       "\n",
       "                  release_year    budget_adj   revenue_adj       ROI(%)  \n",
       "director                                                                 \n",
       "Irwin Winkler      1995.000000  3.148127e+07  1.583050e+09  5028.543900  \n",
       "Clyde Geronimi     1961.000000  2.917944e+07  1.574815e+09  5397.000350  \n",
       "Richard Marquand   1983.000000  7.082424e+07  1.253819e+09  1770.324575  \n",
       "Chris Buck         2013.000000  1.404050e+08  1.192711e+09   849.479339  \n",
       "Kyle Balda         2015.000000  6.807997e+07  1.064192e+09  1563.149949  \n",
       "George Lucas       1987.833333  7.829333e+07  1.052320e+09  4043.393644  \n",
       "David Yates        2009.250000  1.957563e+08  1.044364e+09   610.758861  \n",
       "Joss Whedon        2010.666667  1.700299e+08  9.264080e+08   430.723974  \n",
       "James Cameron      1994.125000  1.288303e+08  9.159026e+08   642.281273  \n",
       "Lee Unkrich        2005.500000  1.708106e+08  8.781367e+08   510.495698  "
      ]
     },
     "execution_count": 252,
     "metadata": {},
     "output_type": "execute_result"
    }
   ],
   "source": [
    "print (\"Top 10 Directors with highest revenues\")\n",
    "Groupby_Directors.nlargest(10, 'revenue_adj')"
   ]
  },
  {
   "cell_type": "markdown",
   "metadata": {
    "collapsed": true
   },
   "source": [
    "## Conclusion"
   ]
  },
  {
   "cell_type": "markdown",
   "metadata": {},
   "source": [
    "This project attempted to analysis on a limited capacity the movie data of ~4,000 movies. There were definitely some intersting trends but as mentioned throughout the project, many assumptions were made and no statistical analysis was made so the findings will remain tentative. However, readers will get a feel of some relationships that exits between different parameters such as the more popular a movie is, the more votes there will be for the rating of a given movie or that spending the big box on budget doesn't necessarily translate into better ratings!\n",
    "\n",
    "There have been some limitations to this project. The adjusted budget and revenue to account for inflation is one of them. We don't know what inflation rate was used to arrive at those adjusted values. Was it an average based on inflation over the last 10 years? 20 years? 30 years? We don't know. Also we do not officially know how popularity was measured. As we've seen, over the years, the level of popularity increased but why is that? Are people watching more movies now than they did 40 years ago? Or is it the other way around? How exactly was popularity measured in 1960? 1970? Or any movies that date before 2008, the year tmdb was created. \n",
    "\n",
    "There many more different ways that the movie data can be analyzed but this is a good starting point for any movie amateur to aprreciate some of the tentative findings of this work!"
   ]
  },
  {
   "cell_type": "markdown",
   "metadata": {
    "collapsed": true
   },
   "source": [
    "## References"
   ]
  },
  {
   "cell_type": "markdown",
   "metadata": {},
   "source": [
    "The following websites were used as a resource for this project:\n",
    "- stackoverflow\n",
    "- github\n"
   ]
  }
 ],
 "metadata": {
  "kernelspec": {
   "display_name": "Python [default]",
   "language": "python",
   "name": "python3"
  },
  "language_info": {
   "codemirror_mode": {
    "name": "ipython",
    "version": 3
   },
   "file_extension": ".py",
   "mimetype": "text/x-python",
   "name": "python",
   "nbconvert_exporter": "python",
   "pygments_lexer": "ipython3",
   "version": "3.6.4"
  }
 },
 "nbformat": 4,
 "nbformat_minor": 2
}
